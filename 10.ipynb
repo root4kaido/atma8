{
 "cells": [
  {
   "cell_type": "code",
   "execution_count": 13,
   "metadata": {},
   "outputs": [
    {
     "name": "stdout",
     "output_type": "stream",
     "text": [
      "Defaulting to user installation because normal site-packages is not writeable\n",
      "Requirement already satisfied: category_encoders in /home/user/.local/lib/python3.6/site-packages (2.2.2)\n",
      "Requirement already satisfied: pandas>=0.21.1 in /usr/local/lib/python3.6/dist-packages (from category_encoders) (1.1.1)\n",
      "Requirement already satisfied: patsy>=0.5.1 in /usr/local/lib/python3.6/dist-packages (from category_encoders) (0.5.1)\n",
      "Requirement already satisfied: scikit-learn>=0.20.0 in /usr/local/lib/python3.6/dist-packages (from category_encoders) (0.20.0)\n",
      "Requirement already satisfied: numpy>=1.14.0 in /usr/local/lib/python3.6/dist-packages (from category_encoders) (1.17.4)\n",
      "Requirement already satisfied: scipy>=1.0.0 in /home/user/.local/lib/python3.6/site-packages (from category_encoders) (1.5.4)\n",
      "Requirement already satisfied: statsmodels>=0.9.0 in /home/user/.local/lib/python3.6/site-packages (from category_encoders) (0.12.1)\n",
      "Requirement already satisfied: python-dateutil>=2.7.3 in /usr/local/lib/python3.6/dist-packages (from pandas>=0.21.1->category_encoders) (2.7.3)\n",
      "Requirement already satisfied: pytz>=2017.2 in /usr/local/lib/python3.6/dist-packages (from pandas>=0.21.1->category_encoders) (2020.1)\n",
      "Requirement already satisfied: six in /usr/local/lib/python3.6/dist-packages (from patsy>=0.5.1->category_encoders) (1.11.0)\n",
      "\u001b[33mWARNING: You are using pip version 20.2.2; however, version 20.3.1 is available.\n",
      "You should consider upgrading via the '/usr/bin/python3 -m pip install --upgrade pip' command.\u001b[0m\n",
      "Defaulting to user installation because normal site-packages is not writeable\n",
      "Collecting texthero\n",
      "  Downloading texthero-1.0.9-py3-none-any.whl (25 kB)\n",
      "Collecting unidecode>=1.1.1\n",
      "  Downloading Unidecode-1.1.1-py2.py3-none-any.whl (238 kB)\n",
      "\u001b[K     |████████████████████████████████| 238 kB 9.9 MB/s \n",
      "\u001b[?25hCollecting nltk>=3.3\n",
      "  Downloading nltk-3.5.zip (1.4 MB)\n",
      "\u001b[K     |████████████████████████████████| 1.4 MB 7.6 MB/s \n",
      "\u001b[?25hRequirement already satisfied: matplotlib>=3.1.0 in /home/user/.local/lib/python3.6/site-packages (from texthero) (3.3.3)\n",
      "Requirement already satisfied: plotly>=4.2.0 in /usr/local/lib/python3.6/dist-packages (from texthero) (4.9.0)\n",
      "Collecting spacy>=2.2.2\n",
      "  Downloading spacy-2.3.4-cp36-cp36m-manylinux2014_x86_64.whl (10.4 MB)\n",
      "\u001b[K     |████████████████████████████████| 10.4 MB 5.8 MB/s \n",
      "\u001b[?25hCollecting wordcloud>=1.5.0\n",
      "  Downloading wordcloud-1.8.1-cp36-cp36m-manylinux1_x86_64.whl (366 kB)\n",
      "\u001b[K     |████████████████████████████████| 366 kB 3.4 MB/s \n",
      "\u001b[?25hRequirement already satisfied: tqdm>=4.3 in /usr/local/lib/python3.6/dist-packages (from texthero) (4.48.2)\n",
      "Requirement already satisfied: pandas>=1.0.2 in /usr/local/lib/python3.6/dist-packages (from texthero) (1.1.1)\n",
      "Collecting gensim>=3.6.0\n",
      "  Downloading gensim-3.8.3-cp36-cp36m-manylinux1_x86_64.whl (24.2 MB)\n",
      "\u001b[K     |████████████████████████████████| 24.2 MB 5.4 MB/s \n",
      "\u001b[?25hCollecting scikit-learn>=0.22\n",
      "  Downloading scikit_learn-0.23.2-cp36-cp36m-manylinux1_x86_64.whl (6.8 MB)\n",
      "\u001b[K     |████████████████████████████████| 6.8 MB 11.1 MB/s \n",
      "\u001b[?25hRequirement already satisfied: numpy>=1.17 in /usr/local/lib/python3.6/dist-packages (from texthero) (1.17.4)\n",
      "Collecting click\n",
      "  Downloading click-7.1.2-py2.py3-none-any.whl (82 kB)\n",
      "\u001b[K     |████████████████████████████████| 82 kB 2.4 MB/s \n",
      "\u001b[?25hRequirement already satisfied: joblib in /usr/local/lib/python3.6/dist-packages (from nltk>=3.3->texthero) (0.16.0)\n",
      "Collecting regex\n",
      "  Downloading regex-2020.11.13-cp36-cp36m-manylinux2014_x86_64.whl (723 kB)\n",
      "\u001b[K     |████████████████████████████████| 723 kB 15.3 MB/s \n",
      "\u001b[?25hRequirement already satisfied: kiwisolver>=1.0.1 in /usr/local/lib/python3.6/dist-packages (from matplotlib>=3.1.0->texthero) (1.0.1)\n",
      "Requirement already satisfied: pyparsing!=2.0.4,!=2.1.2,!=2.1.6,>=2.0.3 in /usr/local/lib/python3.6/dist-packages (from matplotlib>=3.1.0->texthero) (2.2.2)\n",
      "Requirement already satisfied: pillow>=6.2.0 in /usr/local/lib/python3.6/dist-packages (from matplotlib>=3.1.0->texthero) (7.2.0)\n",
      "Requirement already satisfied: cycler>=0.10 in /usr/local/lib/python3.6/dist-packages (from matplotlib>=3.1.0->texthero) (0.10.0)\n",
      "Requirement already satisfied: python-dateutil>=2.1 in /usr/local/lib/python3.6/dist-packages (from matplotlib>=3.1.0->texthero) (2.7.3)\n",
      "Requirement already satisfied: retrying>=1.3.3 in /usr/local/lib/python3.6/dist-packages (from plotly>=4.2.0->texthero) (1.3.3)\n",
      "Requirement already satisfied: six in /usr/local/lib/python3.6/dist-packages (from plotly>=4.2.0->texthero) (1.11.0)\n",
      "Collecting srsly<1.1.0,>=1.0.2\n",
      "  Downloading srsly-1.0.4-cp36-cp36m-manylinux2014_x86_64.whl (293 kB)\n",
      "\u001b[K     |████████████████████████████████| 293 kB 2.6 MB/s \n",
      "\u001b[?25hCollecting preshed<3.1.0,>=3.0.2\n",
      "  Downloading preshed-3.0.4-cp36-cp36m-manylinux2014_x86_64.whl (284 kB)\n",
      "\u001b[K     |████████████████████████████████| 284 kB 3.4 MB/s \n",
      "\u001b[?25hCollecting thinc<7.5.0,>=7.4.1\n",
      "  Downloading thinc-7.4.3-cp36-cp36m-manylinux2014_x86_64.whl (1.1 MB)\n",
      "\u001b[K     |████████████████████████████████| 1.1 MB 5.2 MB/s \n",
      "\u001b[?25hRequirement already satisfied: requests<3.0.0,>=2.13.0 in /usr/local/lib/python3.6/dist-packages (from spacy>=2.2.2->texthero) (2.24.0)\n",
      "Collecting cymem<2.1.0,>=2.0.2\n",
      "  Downloading cymem-2.0.4-cp36-cp36m-manylinux2014_x86_64.whl (35 kB)\n",
      "Collecting catalogue<1.1.0,>=0.0.7\n",
      "  Downloading catalogue-1.0.0-py2.py3-none-any.whl (7.7 kB)\n",
      "Requirement already satisfied: setuptools in /usr/local/lib/python3.6/dist-packages (from spacy>=2.2.2->texthero) (49.6.0)\n",
      "Collecting blis<0.8.0,>=0.4.0; python_version >= \"3.6\"\n",
      "  Downloading blis-0.7.3-cp36-cp36m-manylinux2014_x86_64.whl (9.8 MB)\n",
      "\u001b[K     |████████████████████████████████| 9.8 MB 9.9 MB/s \n",
      "\u001b[?25hCollecting plac<1.2.0,>=0.9.6\n",
      "  Downloading plac-1.1.3-py2.py3-none-any.whl (20 kB)\n",
      "Collecting murmurhash<1.1.0,>=0.28.0\n",
      "  Downloading murmurhash-1.0.4-cp36-cp36m-manylinux2014_x86_64.whl (20 kB)\n",
      "Collecting wasabi<1.1.0,>=0.4.0\n",
      "  Downloading wasabi-0.8.0-py3-none-any.whl (23 kB)\n",
      "Requirement already satisfied: pytz>=2017.2 in /usr/local/lib/python3.6/dist-packages (from pandas>=1.0.2->texthero) (2020.1)\n",
      "Collecting smart-open>=1.8.1\n",
      "  Downloading smart_open-4.0.1.tar.gz (117 kB)\n",
      "\u001b[K     |████████████████████████████████| 117 kB 17.9 MB/s \n",
      "\u001b[?25hRequirement already satisfied: scipy>=0.18.1 in /home/user/.local/lib/python3.6/site-packages (from gensim>=3.6.0->texthero) (1.5.4)\n",
      "Collecting threadpoolctl>=2.0.0\n",
      "  Downloading threadpoolctl-2.1.0-py3-none-any.whl (12 kB)\n",
      "Requirement already satisfied: certifi>=2017.4.17 in /usr/local/lib/python3.6/dist-packages (from requests<3.0.0,>=2.13.0->spacy>=2.2.2->texthero) (2020.6.20)\n",
      "Requirement already satisfied: chardet<4,>=3.0.2 in /usr/local/lib/python3.6/dist-packages (from requests<3.0.0,>=2.13.0->spacy>=2.2.2->texthero) (3.0.4)\n",
      "Requirement already satisfied: idna<3,>=2.5 in /usr/local/lib/python3.6/dist-packages (from requests<3.0.0,>=2.13.0->spacy>=2.2.2->texthero) (2.10)\n",
      "Requirement already satisfied: urllib3!=1.25.0,!=1.25.1,<1.26,>=1.21.1 in /usr/local/lib/python3.6/dist-packages (from requests<3.0.0,>=2.13.0->spacy>=2.2.2->texthero) (1.25.10)\n",
      "Requirement already satisfied: importlib-metadata>=0.20; python_version < \"3.8\" in /usr/local/lib/python3.6/dist-packages (from catalogue<1.1.0,>=0.0.7->spacy>=2.2.2->texthero) (1.7.0)\n",
      "Requirement already satisfied: zipp>=0.5 in /usr/local/lib/python3.6/dist-packages (from importlib-metadata>=0.20; python_version < \"3.8\"->catalogue<1.1.0,>=0.0.7->spacy>=2.2.2->texthero) (3.1.0)\n",
      "Building wheels for collected packages: nltk, smart-open\n",
      "  Building wheel for nltk (setup.py) ... \u001b[?25ldone\n",
      "\u001b[?25h  Created wheel for nltk: filename=nltk-3.5-py3-none-any.whl size=1435511 sha256=53310767e25d6300787982ec9e6e4700f15ff7353a792a50160401b8be1f8813\n",
      "  Stored in directory: /home/user/.cache/pip/wheels/de/5e/42/64abaeca668161c3e2cecc24f864a8fc421e3d07a104fc8a51\n",
      "  Building wheel for smart-open (setup.py) ... \u001b[?25ldone\n",
      "\u001b[?25h  Created wheel for smart-open: filename=smart_open-4.0.1-py3-none-any.whl size=115161 sha256=605f36811da68d6d2ae0fc4120b6b09fac79c294670eed2d3959f3f93aff1421\n",
      "  Stored in directory: /home/user/.cache/pip/wheels/8b/5e/70/42adcaea93c80417ec6accf7db1d6d02367ed02f2254cd5eef\n",
      "Successfully built nltk smart-open\n",
      "Installing collected packages: unidecode, click, regex, nltk, srsly, cymem, murmurhash, preshed, catalogue, wasabi, plac, blis, thinc, spacy, wordcloud, smart-open, gensim, threadpoolctl, scikit-learn, texthero\n",
      "\u001b[33m  WARNING: The script unidecode is installed in '/home/user/.local/bin' which is not on PATH.\n",
      "  Consider adding this directory to PATH or, if you prefer to suppress this warning, use --no-warn-script-location.\u001b[0m\n",
      "\u001b[33m  WARNING: The script nltk is installed in '/home/user/.local/bin' which is not on PATH.\n",
      "  Consider adding this directory to PATH or, if you prefer to suppress this warning, use --no-warn-script-location.\u001b[0m\n",
      "\u001b[33m  WARNING: The script wordcloud_cli is installed in '/home/user/.local/bin' which is not on PATH.\n",
      "  Consider adding this directory to PATH or, if you prefer to suppress this warning, use --no-warn-script-location.\u001b[0m\n",
      "Successfully installed blis-0.7.3 catalogue-1.0.0 click-7.1.2 cymem-2.0.4 gensim-3.8.3 murmurhash-1.0.4 nltk-3.5 plac-1.1.3 preshed-3.0.4 regex-2020.11.13 scikit-learn-0.23.2 smart-open-4.0.1 spacy-2.3.4 srsly-1.0.4 texthero-1.0.9 thinc-7.4.3 threadpoolctl-2.1.0 unidecode-1.1.1 wasabi-0.8.0 wordcloud-1.8.1\n",
      "\u001b[33mWARNING: You are using pip version 20.2.2; however, version 20.3.1 is available.\n",
      "You should consider upgrading via the '/usr/bin/python3 -m pip install --upgrade pip' command.\u001b[0m\n"
     ]
    }
   ],
   "source": [
    "!pip install category_encoders\n",
    "!pip install texthero"
   ]
  },
  {
   "cell_type": "code",
   "execution_count": 1,
   "metadata": {},
   "outputs": [],
   "source": [
    "import pandas as pd\n",
    "import pathlib\n",
    "import category_encoders as ce\n",
    "import matplotlib.pyplot as plt\n",
    "import seaborn as sns\n",
    "import numpy as np\n",
    "import pandas as pd\n",
    "\n",
    "import texthero as hero\n",
    "from texthero import preprocessing\n",
    "\n",
    "from sklearn import metrics\n",
    "from sklearn.model_selection import GroupKFold, KFold\n",
    "\n",
    "import lightgbm as lgb\n",
    "\n",
    "from sklearn.metrics import mean_squared_error, mean_squared_log_error\n"
   ]
  },
  {
   "cell_type": "code",
   "execution_count": 2,
   "metadata": {},
   "outputs": [],
   "source": [
    "DATA_DIR = pathlib.Path('/home/knikaido/work/atma8/data/')\n",
    "OUTPUT_DIR = './sub10/'\n",
    "train_csv_path = DATA_DIR / 'train.csv'\n",
    "test_csv_path = DATA_DIR / 'test.csv'"
   ]
  },
  {
   "cell_type": "code",
   "execution_count": 3,
   "metadata": {},
   "outputs": [],
   "source": [
    "train_df = pd.read_csv(train_csv_path)\n",
    "test_df = pd.read_csv(test_csv_path)"
   ]
  },
  {
   "cell_type": "code",
   "execution_count": 4,
   "metadata": {},
   "outputs": [],
   "source": [
    "train_column = train_df.columns"
   ]
  },
  {
   "cell_type": "code",
   "execution_count": 5,
   "metadata": {},
   "outputs": [],
   "source": [
    "X_column = []\n",
    "for s in train_column:\n",
    "    if not'Sales' in s:\n",
    "        X_column.append(s)"
   ]
  },
  {
   "cell_type": "code",
   "execution_count": 6,
   "metadata": {},
   "outputs": [],
   "source": [
    "train_df_drop = train_df[X_column]"
   ]
  },
  {
   "cell_type": "code",
   "execution_count": 7,
   "metadata": {},
   "outputs": [],
   "source": [
    "# User_Scoreの変換\n",
    "def make_user_score(df):\n",
    "    d = df['User_Score'].copy()\n",
    "    d[d == 'tbd'] = 'nan'\n",
    "    df.loc[:,'User_Score'] = d\n",
    "    \n",
    "    return df"
   ]
  },
  {
   "cell_type": "code",
   "execution_count": 8,
   "metadata": {},
   "outputs": [
    {
     "name": "stderr",
     "output_type": "stream",
     "text": [
      "/usr/local/lib/python3.6/dist-packages/pandas/core/indexing.py:1745: SettingWithCopyWarning:\n",
      "\n",
      "\n",
      "A value is trying to be set on a copy of a slice from a DataFrame.\n",
      "Try using .loc[row_indexer,col_indexer] = value instead\n",
      "\n",
      "See the caveats in the documentation: https://pandas.pydata.org/pandas-docs/stable/user_guide/indexing.html#returning-a-view-versus-a-copy\n",
      "\n"
     ]
    }
   ],
   "source": [
    "train_df_drop = make_user_score(train_df_drop)\n",
    "test_df = make_user_score(test_df)"
   ]
  },
  {
   "cell_type": "code",
   "execution_count": 9,
   "metadata": {},
   "outputs": [],
   "source": [
    "# Ratingの変換"
   ]
  },
  {
   "cell_type": "code",
   "execution_count": 10,
   "metadata": {},
   "outputs": [],
   "source": [
    "def encode_label(train, test):\n",
    "    cate_col = ['Rating', 'Platform', 'Genre']\n",
    "    oe = ce.OrdinalEncoder(cols=cate_col, drop_invariant=True, handle_missing='return_nan')\n",
    "    train.loc[:,cate_col] = oe.fit_transform(train[cate_col])\n",
    "    test.loc[:,cate_col] = oe.transform(test[cate_col])\n",
    "    return train, test"
   ]
  },
  {
   "cell_type": "code",
   "execution_count": 11,
   "metadata": {},
   "outputs": [
    {
     "name": "stderr",
     "output_type": "stream",
     "text": [
      "/home/user/.local/lib/python3.6/site-packages/category_encoders/utils.py:21: FutureWarning:\n",
      "\n",
      "is_categorical is deprecated and will be removed in a future version.  Use is_categorical_dtype instead\n",
      "\n",
      "/usr/local/lib/python3.6/dist-packages/pandas/core/indexing.py:1717: SettingWithCopyWarning:\n",
      "\n",
      "\n",
      "A value is trying to be set on a copy of a slice from a DataFrame.\n",
      "Try using .loc[row_indexer,col_indexer] = value instead\n",
      "\n",
      "See the caveats in the documentation: https://pandas.pydata.org/pandas-docs/stable/user_guide/indexing.html#returning-a-view-versus-a-copy\n",
      "\n"
     ]
    }
   ],
   "source": [
    "train_df_drop, test_df = encode_label(train_df_drop, test_df)"
   ]
  },
  {
   "cell_type": "code",
   "execution_count": 12,
   "metadata": {},
   "outputs": [],
   "source": [
    "custom_pipeline = [preprocessing.fillna\n",
    "                   , preprocessing.lowercase\n",
    "                   , preprocessing.remove_digits\n",
    "                   , preprocessing.remove_punctuation\n",
    "                   , preprocessing.remove_diacritics\n",
    "                   , preprocessing.remove_whitespace\n",
    "                  ]"
   ]
  },
  {
   "cell_type": "code",
   "execution_count": 13,
   "metadata": {},
   "outputs": [],
   "source": [
    "def translate_name(df1, df2):\n",
    "    df = pd.concat([df1, df2])\n",
    "    n_pca = hero.pca(hero.tfidf(hero.clean(df['Name'], pipeline=custom_pipeline)))\n",
    "    n_pca_l = []\n",
    "    for i in range(len(n_pca)):\n",
    "        n_pca_l.append(n_pca.values[i])\n",
    "    n_pca_np = np.array(n_pca_l)\n",
    "    df['Name_0'] = n_pca_np[:, 0]\n",
    "    df['Name_1'] = n_pca_np[:, 1]\n",
    "    df1 = df.iloc[:len(df1), :]\n",
    "    df2 = df.iloc[len(df1):, :]\n",
    "    \n",
    "#     n_pca = hero.pca(hero.tfidf(hero.clean(df['Developer'], pipeline=custom_pipeline)))\n",
    "#     n_pca_l = []\n",
    "#     for i in range(len(n_pca)):\n",
    "#         n_pca_l.append(n_pca.values[i])\n",
    "#     n_pca_np = np.array(n_pca_l)\n",
    "#     df['Developer_0'] = n_pca_np[:, 0]\n",
    "#     df['Developer_1'] = n_pca_np[:, 1]\n",
    "    \n",
    "#     n_pca = hero.pca(hero.tfidf(hero.clean(df['Publisher'], pipeline=custom_pipeline)))\n",
    "#     n_pca_l = []\n",
    "#     for i in range(len(n_pca)):\n",
    "#         n_pca_l.append(n_pca.values[i])\n",
    "#     n_pca_np = np.array(n_pca_l)\n",
    "#     df['Publisher_0'] = n_pca_np[:, 0]\n",
    "#     df['Publisher_1'] = n_pca_np[:, 1]\n",
    "    \n",
    "    return df1, df2"
   ]
  },
  {
   "cell_type": "code",
   "execution_count": 14,
   "metadata": {},
   "outputs": [],
   "source": [
    "train_df_drop, test_df = translate_name(train_df_drop, test_df)\n"
   ]
  },
  {
   "cell_type": "code",
   "execution_count": 15,
   "metadata": {},
   "outputs": [
    {
     "data": {
      "text/plain": [
       "<matplotlib.collections.PathCollection at 0x7f5a606a4a90>"
      ]
     },
     "execution_count": 15,
     "metadata": {},
     "output_type": "execute_result"
    },
    {
     "data": {
      "image/png": "[encoded data removed]",
      "text/plain": [
       "<Figure size 432x288 with 1 Axes>"
      ]
     },
     "metadata": {
      "needs_background": "light"
     },
     "output_type": "display_data"
    }
   ],
   "source": [
    "plt.scatter(train_df_drop['Name_0'].values, train_df_drop['Name_1'].values)\n",
    "plt.scatter(test_df['Name_0'].values, test_df['Name_1'].values)"
   ]
  },
  {
   "cell_type": "code",
   "execution_count": null,
   "metadata": {},
   "outputs": [],
   "source": []
  },
  {
   "cell_type": "code",
   "execution_count": 16,
   "metadata": {},
   "outputs": [],
   "source": [
    "def translate_developer(df1, df2):\n",
    "    df = pd.concat([df1, df2])\n",
    "    n_pca = hero.pca(hero.tfidf(hero.clean(df['Developer'], pipeline=custom_pipeline)))\n",
    "    n_pca_l = []\n",
    "    for i in range(len(n_pca)):\n",
    "        n_pca_l.append(n_pca.values[i])\n",
    "    n_pca_np = np.array(n_pca_l)\n",
    "    df['Developer_0'] = n_pca_np[:, 0]\n",
    "    df['Developer_1'] = n_pca_np[:, 1]\n",
    "    df1 = df.iloc[:len(df1), :]\n",
    "    df2 = df.iloc[len(df1):, :]\n",
    "    \n",
    "    \n",
    "    return df1, df2"
   ]
  },
  {
   "cell_type": "code",
   "execution_count": 17,
   "metadata": {},
   "outputs": [],
   "source": [
    "train_df_drop, test_df = translate_developer(train_df_drop, test_df)\n"
   ]
  },
  {
   "cell_type": "code",
   "execution_count": 18,
   "metadata": {},
   "outputs": [
    {
     "data": {
      "text/plain": [
       "<matplotlib.collections.PathCollection at 0x7f5a60bceb00>"
      ]
     },
     "execution_count": 18,
     "metadata": {},
     "output_type": "execute_result"
    },
    {
     "data": {
      "image/png": "[encoded data removed]",
      "text/plain": [
       "<Figure size 432x288 with 1 Axes>"
      ]
     },
     "metadata": {
      "needs_background": "light"
     },
     "output_type": "display_data"
    }
   ],
   "source": [
    "plt.scatter(train_df_drop['Developer_0'].values, train_df_drop['Developer_1'].values)\n",
    "plt.scatter(test_df['Developer_0'].values, test_df['Developer_1'].values)"
   ]
  },
  {
   "cell_type": "code",
   "execution_count": 19,
   "metadata": {},
   "outputs": [
    {
     "data": {
      "image/png": "[encoded data removed]",
      "text/plain": [
       "<Figure size 1152x432 with 1 Axes>"
      ]
     },
     "metadata": {
      "needs_background": "light"
     },
     "output_type": "display_data"
    }
   ],
   "source": [
    "cols = 'Developer_0'\n",
    "fig, ax = plt.subplots(figsize = (16, 6))\n",
    "\n",
    "sns.distplot(train_df_drop['Developer_0'].values, \n",
    "             hist=True, rug=True, label='train',kde_kws=dict(linewidth=4))\n",
    "sns.distplot(test_df['Developer_0'].values, \n",
    "             hist=True, rug=True, label='test', kde_kws=dict(linewidth=4))\n",
    "ax.set_title(f'Distribution for {cols}', fontsize=16)\n",
    "sns.despine(left=True, bottom=True)\n",
    "plt.legend()\n",
    "plt.show()"
   ]
  },
  {
   "cell_type": "code",
   "execution_count": 20,
   "metadata": {},
   "outputs": [
    {
     "data": {
      "image/png": "[encoded data removed]",
      "text/plain": [
       "<Figure size 1152x432 with 1 Axes>"
      ]
     },
     "metadata": {
      "needs_background": "light"
     },
     "output_type": "display_data"
    }
   ],
   "source": [
    "cols = 'Developer_1'\n",
    "fig, ax = plt.subplots(figsize = (16, 6))\n",
    "\n",
    "sns.distplot(train_df_drop['Developer_1'].values, \n",
    "             hist=True, rug=True, label='train',kde_kws=dict(linewidth=4))\n",
    "sns.distplot(test_df['Developer_1'].values, \n",
    "             hist=True, rug=True, label='test', kde_kws=dict(linewidth=4))\n",
    "ax.set_title(f'Distribution for {cols}', fontsize=16)\n",
    "sns.despine(left=True, bottom=True)\n",
    "plt.legend()\n",
    "plt.show()"
   ]
  },
  {
   "cell_type": "code",
   "execution_count": null,
   "metadata": {},
   "outputs": [],
   "source": []
  },
  {
   "cell_type": "code",
   "execution_count": 21,
   "metadata": {},
   "outputs": [
    {
     "data": {
      "text/html": [
       "<div>\n",
       "<style scoped>\n",
       "    .dataframe tbody tr th:only-of-type {\n",
       "        vertical-align: middle;\n",
       "    }\n",
       "\n",
       "    .dataframe tbody tr th {\n",
       "        vertical-align: top;\n",
       "    }\n",
       "\n",
       "    .dataframe thead th {\n",
       "        text-align: right;\n",
       "    }\n",
       "</style>\n",
       "<table border=\"1\" class=\"dataframe\">\n",
       "  <thead>\n",
       "    <tr style=\"text-align: right;\">\n",
       "      <th></th>\n",
       "      <th>Platform</th>\n",
       "      <th>Year_of_Release</th>\n",
       "      <th>Genre</th>\n",
       "      <th>Critic_Score</th>\n",
       "      <th>Critic_Count</th>\n",
       "      <th>User_Score</th>\n",
       "      <th>User_Count</th>\n",
       "      <th>Name_0</th>\n",
       "      <th>Name_1</th>\n",
       "      <th>Developer_0</th>\n",
       "      <th>Developer_1</th>\n",
       "    </tr>\n",
       "  </thead>\n",
       "  <tbody>\n",
       "    <tr>\n",
       "      <th>0</th>\n",
       "      <td>1.0</td>\n",
       "      <td>NaN</td>\n",
       "      <td>1.0</td>\n",
       "      <td>74.0</td>\n",
       "      <td>17.0</td>\n",
       "      <td>7.9</td>\n",
       "      <td>22.0</td>\n",
       "      <td>0.203854</td>\n",
       "      <td>0.032233</td>\n",
       "      <td>-0.018654</td>\n",
       "      <td>-0.036920</td>\n",
       "    </tr>\n",
       "    <tr>\n",
       "      <th>1</th>\n",
       "      <td>1.0</td>\n",
       "      <td>NaN</td>\n",
       "      <td>1.0</td>\n",
       "      <td>78.0</td>\n",
       "      <td>22.0</td>\n",
       "      <td>6.6</td>\n",
       "      <td>28.0</td>\n",
       "      <td>0.150965</td>\n",
       "      <td>0.020565</td>\n",
       "      <td>-0.018654</td>\n",
       "      <td>-0.036920</td>\n",
       "    </tr>\n",
       "    <tr>\n",
       "      <th>2</th>\n",
       "      <td>2.0</td>\n",
       "      <td>NaN</td>\n",
       "      <td>1.0</td>\n",
       "      <td>73.0</td>\n",
       "      <td>5.0</td>\n",
       "      <td>7.4</td>\n",
       "      <td>10.0</td>\n",
       "      <td>0.203854</td>\n",
       "      <td>0.032233</td>\n",
       "      <td>-0.018654</td>\n",
       "      <td>-0.036920</td>\n",
       "    </tr>\n",
       "    <tr>\n",
       "      <th>3</th>\n",
       "      <td>3.0</td>\n",
       "      <td>NaN</td>\n",
       "      <td>1.0</td>\n",
       "      <td>NaN</td>\n",
       "      <td>NaN</td>\n",
       "      <td>NaN</td>\n",
       "      <td>NaN</td>\n",
       "      <td>-0.035377</td>\n",
       "      <td>-0.017514</td>\n",
       "      <td>-0.012055</td>\n",
       "      <td>-0.023203</td>\n",
       "    </tr>\n",
       "    <tr>\n",
       "      <th>4</th>\n",
       "      <td>1.0</td>\n",
       "      <td>NaN</td>\n",
       "      <td>1.0</td>\n",
       "      <td>76.0</td>\n",
       "      <td>8.0</td>\n",
       "      <td>7.8</td>\n",
       "      <td>13.0</td>\n",
       "      <td>0.018898</td>\n",
       "      <td>-0.005107</td>\n",
       "      <td>-0.018654</td>\n",
       "      <td>-0.036920</td>\n",
       "    </tr>\n",
       "    <tr>\n",
       "      <th>...</th>\n",
       "      <td>...</td>\n",
       "      <td>...</td>\n",
       "      <td>...</td>\n",
       "      <td>...</td>\n",
       "      <td>...</td>\n",
       "      <td>...</td>\n",
       "      <td>...</td>\n",
       "      <td>...</td>\n",
       "      <td>...</td>\n",
       "      <td>...</td>\n",
       "      <td>...</td>\n",
       "    </tr>\n",
       "    <tr>\n",
       "      <th>8354</th>\n",
       "      <td>9.0</td>\n",
       "      <td>2016.0</td>\n",
       "      <td>12.0</td>\n",
       "      <td>78.0</td>\n",
       "      <td>57.0</td>\n",
       "      <td>8</td>\n",
       "      <td>569.0</td>\n",
       "      <td>-0.032880</td>\n",
       "      <td>-0.014906</td>\n",
       "      <td>-0.013739</td>\n",
       "      <td>-0.028191</td>\n",
       "    </tr>\n",
       "    <tr>\n",
       "      <th>8355</th>\n",
       "      <td>9.0</td>\n",
       "      <td>2016.0</td>\n",
       "      <td>12.0</td>\n",
       "      <td>NaN</td>\n",
       "      <td>NaN</td>\n",
       "      <td>NaN</td>\n",
       "      <td>NaN</td>\n",
       "      <td>-0.022205</td>\n",
       "      <td>-0.014709</td>\n",
       "      <td>-0.012055</td>\n",
       "      <td>-0.023203</td>\n",
       "    </tr>\n",
       "    <tr>\n",
       "      <th>8356</th>\n",
       "      <td>14.0</td>\n",
       "      <td>2017.0</td>\n",
       "      <td>1.0</td>\n",
       "      <td>NaN</td>\n",
       "      <td>NaN</td>\n",
       "      <td>NaN</td>\n",
       "      <td>NaN</td>\n",
       "      <td>-0.033657</td>\n",
       "      <td>-0.016108</td>\n",
       "      <td>-0.012055</td>\n",
       "      <td>-0.023203</td>\n",
       "    </tr>\n",
       "    <tr>\n",
       "      <th>8357</th>\n",
       "      <td>30.0</td>\n",
       "      <td>2017.0</td>\n",
       "      <td>8.0</td>\n",
       "      <td>NaN</td>\n",
       "      <td>NaN</td>\n",
       "      <td>NaN</td>\n",
       "      <td>NaN</td>\n",
       "      <td>-0.024975</td>\n",
       "      <td>-0.019202</td>\n",
       "      <td>-0.012055</td>\n",
       "      <td>-0.023203</td>\n",
       "    </tr>\n",
       "    <tr>\n",
       "      <th>8358</th>\n",
       "      <td>14.0</td>\n",
       "      <td>2017.0</td>\n",
       "      <td>8.0</td>\n",
       "      <td>NaN</td>\n",
       "      <td>NaN</td>\n",
       "      <td>NaN</td>\n",
       "      <td>NaN</td>\n",
       "      <td>-0.024975</td>\n",
       "      <td>-0.019202</td>\n",
       "      <td>-0.012055</td>\n",
       "      <td>-0.023203</td>\n",
       "    </tr>\n",
       "  </tbody>\n",
       "</table>\n",
       "<p>8359 rows × 11 columns</p>\n",
       "</div>"
      ],
      "text/plain": [
       "      Platform  Year_of_Release  Genre  Critic_Score  Critic_Count User_Score  \\\n",
       "0          1.0              NaN    1.0          74.0          17.0        7.9   \n",
       "1          1.0              NaN    1.0          78.0          22.0        6.6   \n",
       "2          2.0              NaN    1.0          73.0           5.0        7.4   \n",
       "3          3.0              NaN    1.0           NaN           NaN        NaN   \n",
       "4          1.0              NaN    1.0          76.0           8.0        7.8   \n",
       "...        ...              ...    ...           ...           ...        ...   \n",
       "8354       9.0           2016.0   12.0          78.0          57.0          8   \n",
       "8355       9.0           2016.0   12.0           NaN           NaN        NaN   \n",
       "8356      14.0           2017.0    1.0           NaN           NaN        NaN   \n",
       "8357      30.0           2017.0    8.0           NaN           NaN        NaN   \n",
       "8358      14.0           2017.0    8.0           NaN           NaN        NaN   \n",
       "\n",
       "      User_Count    Name_0    Name_1  Developer_0  Developer_1  \n",
       "0           22.0  0.203854  0.032233    -0.018654    -0.036920  \n",
       "1           28.0  0.150965  0.020565    -0.018654    -0.036920  \n",
       "2           10.0  0.203854  0.032233    -0.018654    -0.036920  \n",
       "3            NaN -0.035377 -0.017514    -0.012055    -0.023203  \n",
       "4           13.0  0.018898 -0.005107    -0.018654    -0.036920  \n",
       "...          ...       ...       ...          ...          ...  \n",
       "8354       569.0 -0.032880 -0.014906    -0.013739    -0.028191  \n",
       "8355         NaN -0.022205 -0.014709    -0.012055    -0.023203  \n",
       "8356         NaN -0.033657 -0.016108    -0.012055    -0.023203  \n",
       "8357         NaN -0.024975 -0.019202    -0.012055    -0.023203  \n",
       "8358         NaN -0.024975 -0.019202    -0.012055    -0.023203  \n",
       "\n",
       "[8359 rows x 11 columns]"
      ]
     },
     "execution_count": 21,
     "metadata": {},
     "output_type": "execute_result"
    }
   ],
   "source": [
    "drop_c = ['Name', 'Publisher', 'Developer']\n",
    "train_df_drop.drop(drop_c, axis=1, inplace=True)\n",
    "test_df.drop(drop_c, axis=1, inplace=True)\n",
    "train_df_drop"
   ]
  },
  {
   "cell_type": "code",
   "execution_count": 22,
   "metadata": {},
   "outputs": [],
   "source": [
    "train_df_drop = train_df_drop.astype('float64')\n",
    "test_df = test_df.astype('float64')"
   ]
  },
  {
   "cell_type": "code",
   "execution_count": 23,
   "metadata": {},
   "outputs": [],
   "source": [
    "X = train_df_drop\n",
    "y = train_df['Global_Sales'].astype('float64')\n",
    "groups = train_df['Publisher']"
   ]
  },
  {
   "cell_type": "code",
   "execution_count": null,
   "metadata": {},
   "outputs": [],
   "source": []
  },
  {
   "cell_type": "code",
   "execution_count": 24,
   "metadata": {},
   "outputs": [
    {
     "name": "stdout",
     "output_type": "stream",
     "text": [
      "Training until validation scores don't improve for 1000 rounds\n",
      "[200]\ttraining's rmse: 0.83151\tvalid_0's rmse: 0.953487\n",
      "[400]\ttraining's rmse: 0.734534\tvalid_0's rmse: 0.943464\n",
      "[600]\ttraining's rmse: 0.662305\tvalid_0's rmse: 0.943997\n",
      "[800]\ttraining's rmse: 0.606203\tvalid_0's rmse: 0.945683\n",
      "[1000]\ttraining's rmse: 0.559645\tvalid_0's rmse: 0.946544\n",
      "[1200]\ttraining's rmse: 0.521018\tvalid_0's rmse: 0.949305\n",
      "[1400]\ttraining's rmse: 0.488647\tvalid_0's rmse: 0.951701\n",
      "Early stopping, best iteration is:\n",
      "[422]\ttraining's rmse: 0.726172\tvalid_0's rmse: 0.943009\n",
      "RMSLE_train: 0.7261720223262681, RMSLE_eval: 0.9430085725527491\n",
      "Training until validation scores don't improve for 1000 rounds\n",
      "[200]\ttraining's rmse: 0.832901\tvalid_0's rmse: 0.983474\n",
      "[400]\ttraining's rmse: 0.738984\tvalid_0's rmse: 0.967485\n",
      "[600]\ttraining's rmse: 0.669492\tvalid_0's rmse: 0.960692\n",
      "[800]\ttraining's rmse: 0.617122\tvalid_0's rmse: 0.957447\n",
      "[1000]\ttraining's rmse: 0.570357\tvalid_0's rmse: 0.956089\n",
      "[1200]\ttraining's rmse: 0.527859\tvalid_0's rmse: 0.956651\n",
      "[1400]\ttraining's rmse: 0.491843\tvalid_0's rmse: 0.959327\n",
      "[1600]\ttraining's rmse: 0.460791\tvalid_0's rmse: 0.961372\n",
      "[1800]\ttraining's rmse: 0.432361\tvalid_0's rmse: 0.962523\n",
      "Early stopping, best iteration is:\n",
      "[975]\ttraining's rmse: 0.576058\tvalid_0's rmse: 0.955715\n",
      "RMSLE_train: 0.5760583557388715, RMSLE_eval: 0.9557152396179096\n",
      "Training until validation scores don't improve for 1000 rounds\n",
      "[200]\ttraining's rmse: 0.823465\tvalid_0's rmse: 0.988537\n",
      "[400]\ttraining's rmse: 0.725766\tvalid_0's rmse: 0.979153\n",
      "[600]\ttraining's rmse: 0.659\tvalid_0's rmse: 0.980803\n",
      "[800]\ttraining's rmse: 0.599414\tvalid_0's rmse: 0.981597\n",
      "[1000]\ttraining's rmse: 0.554103\tvalid_0's rmse: 0.987334\n",
      "[1200]\ttraining's rmse: 0.51237\tvalid_0's rmse: 0.989746\n",
      "[1400]\ttraining's rmse: 0.480088\tvalid_0's rmse: 0.991054\n",
      "Early stopping, best iteration is:\n",
      "[406]\ttraining's rmse: 0.723207\tvalid_0's rmse: 0.978835\n",
      "RMSLE_train: 0.7232065252511161, RMSLE_eval: 0.9788345488745908\n",
      "Training until validation scores don't improve for 1000 rounds\n",
      "[200]\ttraining's rmse: 0.826704\tvalid_0's rmse: 0.992168\n",
      "[400]\ttraining's rmse: 0.728324\tvalid_0's rmse: 0.986066\n",
      "[600]\ttraining's rmse: 0.662132\tvalid_0's rmse: 0.985168\n",
      "[800]\ttraining's rmse: 0.604159\tvalid_0's rmse: 0.984505\n",
      "[1000]\ttraining's rmse: 0.555489\tvalid_0's rmse: 0.983108\n",
      "[1200]\ttraining's rmse: 0.518089\tvalid_0's rmse: 0.982872\n",
      "[1400]\ttraining's rmse: 0.484722\tvalid_0's rmse: 0.983378\n",
      "[1600]\ttraining's rmse: 0.453773\tvalid_0's rmse: 0.986331\n",
      "[1800]\ttraining's rmse: 0.42458\tvalid_0's rmse: 0.987315\n",
      "[2000]\ttraining's rmse: 0.400204\tvalid_0's rmse: 0.987637\n",
      "Early stopping, best iteration is:\n",
      "[1151]\ttraining's rmse: 0.52593\tvalid_0's rmse: 0.982489\n",
      "RMSLE_train: 0.5259301765934152, RMSLE_eval: 0.982489164356581\n",
      "Training until validation scores don't improve for 1000 rounds\n",
      "[200]\ttraining's rmse: 0.823094\tvalid_0's rmse: 0.997535\n",
      "[400]\ttraining's rmse: 0.728431\tvalid_0's rmse: 0.98463\n",
      "[600]\ttraining's rmse: 0.656337\tvalid_0's rmse: 0.977332\n",
      "[800]\ttraining's rmse: 0.600606\tvalid_0's rmse: 0.974786\n",
      "[1000]\ttraining's rmse: 0.554401\tvalid_0's rmse: 0.975182\n",
      "[1200]\ttraining's rmse: 0.517376\tvalid_0's rmse: 0.975651\n",
      "[1400]\ttraining's rmse: 0.4828\tvalid_0's rmse: 0.976783\n",
      "[1600]\ttraining's rmse: 0.455945\tvalid_0's rmse: 0.978825\n",
      "[1800]\ttraining's rmse: 0.433422\tvalid_0's rmse: 0.980498\n",
      "Early stopping, best iteration is:\n",
      "[862]\ttraining's rmse: 0.584073\tvalid_0's rmse: 0.974071\n",
      "RMSLE_train: 0.5840728515455077, RMSLE_eval: 0.9740713131405386\n",
      "RMSLE_train_mean: 0.6270879862910357, RMSLE_eval_mean: 0.9668237677084738\n"
     ]
    }
   ],
   "source": [
    "\n",
    "\n",
    "# kfoldの分割数\n",
    "k = 5\n",
    "kf = KFold(n_splits=k, shuffle=True, random_state=0)\n",
    "# kf = GroupKFold(n_splits=k)\n",
    "\n",
    "lgbm_params = {'objective': 'regression',\n",
    "              \"metric\":\"rmse\",\n",
    "              \"learning_rate\": 0.05,\n",
    "               'colsample_bytree': 0.8}\n",
    "\n",
    "rmsle_train_list = []\n",
    "rmsle_eval_list = []\n",
    "\n",
    "pred_test_np = np.zeros([k, len(test_df)])\n",
    "oof_pred = np.zeros_like(y, dtype=np.float)\n",
    "\n",
    "# kfoldで分割\n",
    "for i, (train_index, test_index) in enumerate(kf.split(X, y)):\n",
    "\n",
    "    X_train = X.iloc[train_index]\n",
    "    y_train = y.iloc[train_index]\n",
    "    X_test = X.iloc[test_index]\n",
    "    y_test = y.iloc[test_index]\n",
    "    y_train = np.log1p(y_train)\n",
    "    y_test = np.log1p(y_test)\n",
    "\n",
    "    # データセットを生成する\n",
    "    lgb_train = lgb.Dataset(X_train, y_train)\n",
    "    lgb_eval = lgb.Dataset(X_test, y_test)\n",
    "\n",
    "    # 学習\n",
    "    model = lgb.train(lgbm_params,\n",
    "                        lgb_train,\n",
    "                        valid_sets=[lgb_eval, lgb_train],\n",
    "                        num_boost_round=10000,\n",
    "                        early_stopping_rounds=1000,\n",
    "                        verbose_eval=200)\n",
    "\n",
    "    predict_train = model.predict(X_train, num_iteration=model.best_iteration)\n",
    "    predict_eval = model.predict(X_test, num_iteration=model.best_iteration)\n",
    "    oof_pred[test_index] = predict_eval\n",
    "    \n",
    "    rmsle_train = np.sqrt(mean_squared_error(y_train, predict_train))\n",
    "    rmsle_eval = np.sqrt(mean_squared_error(y_test, predict_eval))\n",
    "    print(f'RMSLE_train: {rmsle_train}, RMSLE_eval: {rmsle_eval}')\n",
    "    rmsle_train_list.append(rmsle_train)\n",
    "    rmsle_eval_list.append(rmsle_eval)\n",
    "    \n",
    "    pred_test_np[i] = model.predict(test_df, num_iteration=model.best_iteration)\n",
    "    \n",
    "print(f'RMSLE_train_mean: {np.mean(rmsle_train_list)}, RMSLE_eval_mean: {np.mean(rmsle_eval_list)}')\n",
    "\n",
    "    # predict_probaが0.5以上なら1とする\n",
    "#     predict = [0 if i < 0.5 else 1 for i in predict_proba]\n",
    "\n",
    "#     auc, precision, recall = get_evaluate(y_test, predict)\n",
    "\n",
    "#     print('AUC:{}, precision:{}, recall:{}'.format(auc, precision, recall))\n",
    "\n",
    "#     auc_list.append(auc)\n",
    "#     precision_list.append(precision)\n",
    "#     recall_list.append(recall)\n",
    "\n",
    "# # kfoldの平均値を取得\n",
    "# print('Kfold平均 AUC:{}, precision:{}, recall:{}'.format(np.mean(auc_list), \n",
    "#                                                          np.mean(precision_list), \n",
    "#                                                          np.mean(recall_list)))"
   ]
  },
  {
   "cell_type": "code",
   "execution_count": 25,
   "metadata": {},
   "outputs": [
    {
     "name": "stdout",
     "output_type": "stream",
     "text": [
      "0.9669400667850293\n"
     ]
    }
   ],
   "source": [
    "print(np.sqrt(mean_squared_error(np.log1p(y), oof_pred)))"
   ]
  },
  {
   "cell_type": "code",
   "execution_count": 26,
   "metadata": {},
   "outputs": [],
   "source": [
    "oof_df = pd.DataFrame(oof_pred, columns=['Global_Sales'])\n",
    "oof_df.to_csv(OUTPUT_DIR + \"oof10.csv\", index = False)"
   ]
  },
  {
   "cell_type": "code",
   "execution_count": 27,
   "metadata": {},
   "outputs": [],
   "source": [
    "pred_test_mean = np.mean(pred_test_np, axis=0)\n",
    "pred_test_exp = np.expm1(pred_test_mean)"
   ]
  },
  {
   "cell_type": "code",
   "execution_count": 28,
   "metadata": {},
   "outputs": [],
   "source": [
    "sub = pd.read_csv(DATA_DIR / 'atmaCup8_sample-submission.csv')\n",
    "sub['Global_Sales'] = pred_test_exp\n",
    "sub.to_csv(OUTPUT_DIR + \"sub10.csv\", index = False)"
   ]
  },
  {
   "cell_type": "code",
   "execution_count": null,
   "metadata": {},
   "outputs": [],
   "source": []
  },
  {
   "cell_type": "code",
   "execution_count": 29,
   "metadata": {},
   "outputs": [],
   "source": [
    "def visualize_importance(models, feat_train_df):\n",
    "    \"\"\"lightGBM の model 配列の feature importance を plot する\n",
    "    CVごとのブレを boxen plot として表現します.\n",
    "\n",
    "    args:\n",
    "        models:\n",
    "            List of lightGBM models\n",
    "        feat_train_df:\n",
    "            学習時に使った DataFrame\n",
    "    \"\"\"\n",
    "    feature_importance_df = pd.DataFrame()\n",
    "    model = models\n",
    "#     for i, model in enumerate(models):\n",
    "    _df = pd.DataFrame()\n",
    "    _df['feature_importance'] = model.feature_importance(importance_type='gain')\n",
    "    _df['column'] = feat_train_df.columns\n",
    "    _df['fold'] = i + 1\n",
    "    feature_importance_df = pd.concat([feature_importance_df, _df], axis=0, ignore_index=True)\n",
    "\n",
    "    order = feature_importance_df.groupby('column')\\\n",
    "        .sum()[['feature_importance']]\\\n",
    "        .sort_values('feature_importance', ascending=False).index[:50]\n",
    "\n",
    "    fig, ax = plt.subplots(figsize=(max(6, len(order) * .4), 7))\n",
    "    sns.boxenplot(data=feature_importance_df, x='column', y='feature_importance', order=order, ax=ax, palette='viridis')\n",
    "    ax.tick_params(axis='x', rotation=90)\n",
    "    ax.grid()\n",
    "    fig.tight_layout()\n",
    "    return fig, ax"
   ]
  },
  {
   "cell_type": "code",
   "execution_count": 30,
   "metadata": {},
   "outputs": [
    {
     "data": {
      "image/png": "[encoded data removed]",
      "text/plain": [
       "<Figure size 432x504 with 1 Axes>"
      ]
     },
     "metadata": {
      "needs_background": "light"
     },
     "output_type": "display_data"
    }
   ],
   "source": [
    "fig, ax = visualize_importance(model, X)\n"
   ]
  },
  {
   "cell_type": "code",
   "execution_count": 25,
   "metadata": {},
   "outputs": [
    {
     "data": {
      "text/html": [
       "<div>\n",
       "<style scoped>\n",
       "    .dataframe tbody tr th:only-of-type {\n",
       "        vertical-align: middle;\n",
       "    }\n",
       "\n",
       "    .dataframe tbody tr th {\n",
       "        vertical-align: top;\n",
       "    }\n",
       "\n",
       "    .dataframe thead th {\n",
       "        text-align: right;\n",
       "    }\n",
       "</style>\n",
       "<table border=\"1\" class=\"dataframe\">\n",
       "  <thead>\n",
       "    <tr style=\"text-align: right;\">\n",
       "      <th></th>\n",
       "      <th>importance</th>\n",
       "    </tr>\n",
       "  </thead>\n",
       "  <tbody>\n",
       "    <tr>\n",
       "      <th>Rating</th>\n",
       "      <td>1923.628176</td>\n",
       "    </tr>\n",
       "    <tr>\n",
       "      <th>Developer_0</th>\n",
       "      <td>2262.207175</td>\n",
       "    </tr>\n",
       "    <tr>\n",
       "      <th>Developer_1</th>\n",
       "      <td>2521.593219</td>\n",
       "    </tr>\n",
       "    <tr>\n",
       "      <th>User_Score</th>\n",
       "      <td>3441.732117</td>\n",
       "    </tr>\n",
       "    <tr>\n",
       "      <th>Genre</th>\n",
       "      <td>4986.717704</td>\n",
       "    </tr>\n",
       "    <tr>\n",
       "      <th>Critic_Score</th>\n",
       "      <td>5141.556932</td>\n",
       "    </tr>\n",
       "    <tr>\n",
       "      <th>Critic_Count</th>\n",
       "      <td>7634.363927</td>\n",
       "    </tr>\n",
       "    <tr>\n",
       "      <th>Name_0</th>\n",
       "      <td>8909.336788</td>\n",
       "    </tr>\n",
       "    <tr>\n",
       "      <th>Name_1</th>\n",
       "      <td>10338.221252</td>\n",
       "    </tr>\n",
       "    <tr>\n",
       "      <th>Publisher_1</th>\n",
       "      <td>12838.359179</td>\n",
       "    </tr>\n",
       "    <tr>\n",
       "      <th>Platform</th>\n",
       "      <td>13534.552237</td>\n",
       "    </tr>\n",
       "    <tr>\n",
       "      <th>Publisher_0</th>\n",
       "      <td>14412.254073</td>\n",
       "    </tr>\n",
       "    <tr>\n",
       "      <th>Year_of_Release</th>\n",
       "      <td>14838.012031</td>\n",
       "    </tr>\n",
       "    <tr>\n",
       "      <th>User_Count</th>\n",
       "      <td>19137.192743</td>\n",
       "    </tr>\n",
       "  </tbody>\n",
       "</table>\n",
       "</div>"
      ],
      "text/plain": [
       "                   importance\n",
       "Rating            1923.628176\n",
       "Developer_0       2262.207175\n",
       "Developer_1       2521.593219\n",
       "User_Score        3441.732117\n",
       "Genre             4986.717704\n",
       "Critic_Score      5141.556932\n",
       "Critic_Count      7634.363927\n",
       "Name_0            8909.336788\n",
       "Name_1           10338.221252\n",
       "Publisher_1      12838.359179\n",
       "Platform         13534.552237\n",
       "Publisher_0      14412.254073\n",
       "Year_of_Release  14838.012031\n",
       "User_Count       19137.192743"
      ]
     },
     "execution_count": 25,
     "metadata": {},
     "output_type": "execute_result"
    }
   ],
   "source": [
    "importance = pd.DataFrame(model.feature_importance(importance_type='gain'), index=train_df_drop.columns, columns=['importance'])\n",
    "importance.sort_values(['importance'])"
   ]
  },
  {
   "cell_type": "code",
   "execution_count": null,
   "metadata": {},
   "outputs": [],
   "source": []
  },
  {
   "cell_type": "code",
   "execution_count": null,
   "metadata": {},
   "outputs": [],
   "source": []
  }
 ],
 "metadata": {
  "kernelspec": {
   "display_name": "Python 3",
   "language": "python",
   "name": "python3"
  },
  "language_info": {
   "codemirror_mode": {
    "name": "ipython",
    "version": 3
   },
   "file_extension": ".py",
   "mimetype": "text/x-python",
   "name": "python",
   "nbconvert_exporter": "python",
   "pygments_lexer": "ipython3",
   "version": "3.6.12"
  }
 },
 "nbformat": 4,
 "nbformat_minor": 4
}
