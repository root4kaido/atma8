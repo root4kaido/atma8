{
 "cells": [
  {
   "cell_type": "code",
   "execution_count": 13,
   "metadata": {},
   "outputs": [
    {
     "name": "stdout",
     "output_type": "stream",
     "text": [
      "Defaulting to user installation because normal site-packages is not writeable\n",
      "Requirement already satisfied: category_encoders in /home/user/.local/lib/python3.6/site-packages (2.2.2)\n",
      "Requirement already satisfied: pandas>=0.21.1 in /usr/local/lib/python3.6/dist-packages (from category_encoders) (1.1.1)\n",
      "Requirement already satisfied: patsy>=0.5.1 in /usr/local/lib/python3.6/dist-packages (from category_encoders) (0.5.1)\n",
      "Requirement already satisfied: scikit-learn>=0.20.0 in /usr/local/lib/python3.6/dist-packages (from category_encoders) (0.20.0)\n",
      "Requirement already satisfied: numpy>=1.14.0 in /usr/local/lib/python3.6/dist-packages (from category_encoders) (1.17.4)\n",
      "Requirement already satisfied: scipy>=1.0.0 in /home/user/.local/lib/python3.6/site-packages (from category_encoders) (1.5.4)\n",
      "Requirement already satisfied: statsmodels>=0.9.0 in /home/user/.local/lib/python3.6/site-packages (from category_encoders) (0.12.1)\n",
      "Requirement already satisfied: python-dateutil>=2.7.3 in /usr/local/lib/python3.6/dist-packages (from pandas>=0.21.1->category_encoders) (2.7.3)\n",
      "Requirement already satisfied: pytz>=2017.2 in /usr/local/lib/python3.6/dist-packages (from pandas>=0.21.1->category_encoders) (2020.1)\n",
      "Requirement already satisfied: six in /usr/local/lib/python3.6/dist-packages (from patsy>=0.5.1->category_encoders) (1.11.0)\n",
      "\u001b[33mWARNING: You are using pip version 20.2.2; however, version 20.3.1 is available.\n",
      "You should consider upgrading via the '/usr/bin/python3 -m pip install --upgrade pip' command.\u001b[0m\n",
      "Defaulting to user installation because normal site-packages is not writeable\n",
      "Collecting texthero\n",
      "  Downloading texthero-1.0.9-py3-none-any.whl (25 kB)\n",
      "Collecting unidecode>=1.1.1\n",
      "  Downloading Unidecode-1.1.1-py2.py3-none-any.whl (238 kB)\n",
      "\u001b[K     |████████████████████████████████| 238 kB 9.9 MB/s \n",
      "\u001b[?25hCollecting nltk>=3.3\n",
      "  Downloading nltk-3.5.zip (1.4 MB)\n",
      "\u001b[K     |████████████████████████████████| 1.4 MB 7.6 MB/s \n",
      "\u001b[?25hRequirement already satisfied: matplotlib>=3.1.0 in /home/user/.local/lib/python3.6/site-packages (from texthero) (3.3.3)\n",
      "Requirement already satisfied: plotly>=4.2.0 in /usr/local/lib/python3.6/dist-packages (from texthero) (4.9.0)\n",
      "Collecting spacy>=2.2.2\n",
      "  Downloading spacy-2.3.4-cp36-cp36m-manylinux2014_x86_64.whl (10.4 MB)\n",
      "\u001b[K     |████████████████████████████████| 10.4 MB 5.8 MB/s \n",
      "\u001b[?25hCollecting wordcloud>=1.5.0\n",
      "  Downloading wordcloud-1.8.1-cp36-cp36m-manylinux1_x86_64.whl (366 kB)\n",
      "\u001b[K     |████████████████████████████████| 366 kB 3.4 MB/s \n",
      "\u001b[?25hRequirement already satisfied: tqdm>=4.3 in /usr/local/lib/python3.6/dist-packages (from texthero) (4.48.2)\n",
      "Requirement already satisfied: pandas>=1.0.2 in /usr/local/lib/python3.6/dist-packages (from texthero) (1.1.1)\n",
      "Collecting gensim>=3.6.0\n",
      "  Downloading gensim-3.8.3-cp36-cp36m-manylinux1_x86_64.whl (24.2 MB)\n",
      "\u001b[K     |████████████████████████████████| 24.2 MB 5.4 MB/s \n",
      "\u001b[?25hCollecting scikit-learn>=0.22\n",
      "  Downloading scikit_learn-0.23.2-cp36-cp36m-manylinux1_x86_64.whl (6.8 MB)\n",
      "\u001b[K     |████████████████████████████████| 6.8 MB 11.1 MB/s \n",
      "\u001b[?25hRequirement already satisfied: numpy>=1.17 in /usr/local/lib/python3.6/dist-packages (from texthero) (1.17.4)\n",
      "Collecting click\n",
      "  Downloading click-7.1.2-py2.py3-none-any.whl (82 kB)\n",
      "\u001b[K     |████████████████████████████████| 82 kB 2.4 MB/s \n",
      "\u001b[?25hRequirement already satisfied: joblib in /usr/local/lib/python3.6/dist-packages (from nltk>=3.3->texthero) (0.16.0)\n",
      "Collecting regex\n",
      "  Downloading regex-2020.11.13-cp36-cp36m-manylinux2014_x86_64.whl (723 kB)\n",
      "\u001b[K     |████████████████████████████████| 723 kB 15.3 MB/s \n",
      "\u001b[?25hRequirement already satisfied: kiwisolver>=1.0.1 in /usr/local/lib/python3.6/dist-packages (from matplotlib>=3.1.0->texthero) (1.0.1)\n",
      "Requirement already satisfied: pyparsing!=2.0.4,!=2.1.2,!=2.1.6,>=2.0.3 in /usr/local/lib/python3.6/dist-packages (from matplotlib>=3.1.0->texthero) (2.2.2)\n",
      "Requirement already satisfied: pillow>=6.2.0 in /usr/local/lib/python3.6/dist-packages (from matplotlib>=3.1.0->texthero) (7.2.0)\n",
      "Requirement already satisfied: cycler>=0.10 in /usr/local/lib/python3.6/dist-packages (from matplotlib>=3.1.0->texthero) (0.10.0)\n",
      "Requirement already satisfied: python-dateutil>=2.1 in /usr/local/lib/python3.6/dist-packages (from matplotlib>=3.1.0->texthero) (2.7.3)\n",
      "Requirement already satisfied: retrying>=1.3.3 in /usr/local/lib/python3.6/dist-packages (from plotly>=4.2.0->texthero) (1.3.3)\n",
      "Requirement already satisfied: six in /usr/local/lib/python3.6/dist-packages (from plotly>=4.2.0->texthero) (1.11.0)\n",
      "Collecting srsly<1.1.0,>=1.0.2\n",
      "  Downloading srsly-1.0.4-cp36-cp36m-manylinux2014_x86_64.whl (293 kB)\n",
      "\u001b[K     |████████████████████████████████| 293 kB 2.6 MB/s \n",
      "\u001b[?25hCollecting preshed<3.1.0,>=3.0.2\n",
      "  Downloading preshed-3.0.4-cp36-cp36m-manylinux2014_x86_64.whl (284 kB)\n",
      "\u001b[K     |████████████████████████████████| 284 kB 3.4 MB/s \n",
      "\u001b[?25hCollecting thinc<7.5.0,>=7.4.1\n",
      "  Downloading thinc-7.4.3-cp36-cp36m-manylinux2014_x86_64.whl (1.1 MB)\n",
      "\u001b[K     |████████████████████████████████| 1.1 MB 5.2 MB/s \n",
      "\u001b[?25hRequirement already satisfied: requests<3.0.0,>=2.13.0 in /usr/local/lib/python3.6/dist-packages (from spacy>=2.2.2->texthero) (2.24.0)\n",
      "Collecting cymem<2.1.0,>=2.0.2\n",
      "  Downloading cymem-2.0.4-cp36-cp36m-manylinux2014_x86_64.whl (35 kB)\n",
      "Collecting catalogue<1.1.0,>=0.0.7\n",
      "  Downloading catalogue-1.0.0-py2.py3-none-any.whl (7.7 kB)\n",
      "Requirement already satisfied: setuptools in /usr/local/lib/python3.6/dist-packages (from spacy>=2.2.2->texthero) (49.6.0)\n",
      "Collecting blis<0.8.0,>=0.4.0; python_version >= \"3.6\"\n",
      "  Downloading blis-0.7.3-cp36-cp36m-manylinux2014_x86_64.whl (9.8 MB)\n",
      "\u001b[K     |████████████████████████████████| 9.8 MB 9.9 MB/s \n",
      "\u001b[?25hCollecting plac<1.2.0,>=0.9.6\n",
      "  Downloading plac-1.1.3-py2.py3-none-any.whl (20 kB)\n",
      "Collecting murmurhash<1.1.0,>=0.28.0\n",
      "  Downloading murmurhash-1.0.4-cp36-cp36m-manylinux2014_x86_64.whl (20 kB)\n",
      "Collecting wasabi<1.1.0,>=0.4.0\n",
      "  Downloading wasabi-0.8.0-py3-none-any.whl (23 kB)\n",
      "Requirement already satisfied: pytz>=2017.2 in /usr/local/lib/python3.6/dist-packages (from pandas>=1.0.2->texthero) (2020.1)\n",
      "Collecting smart-open>=1.8.1\n",
      "  Downloading smart_open-4.0.1.tar.gz (117 kB)\n",
      "\u001b[K     |████████████████████████████████| 117 kB 17.9 MB/s \n",
      "\u001b[?25hRequirement already satisfied: scipy>=0.18.1 in /home/user/.local/lib/python3.6/site-packages (from gensim>=3.6.0->texthero) (1.5.4)\n",
      "Collecting threadpoolctl>=2.0.0\n",
      "  Downloading threadpoolctl-2.1.0-py3-none-any.whl (12 kB)\n",
      "Requirement already satisfied: certifi>=2017.4.17 in /usr/local/lib/python3.6/dist-packages (from requests<3.0.0,>=2.13.0->spacy>=2.2.2->texthero) (2020.6.20)\n",
      "Requirement already satisfied: chardet<4,>=3.0.2 in /usr/local/lib/python3.6/dist-packages (from requests<3.0.0,>=2.13.0->spacy>=2.2.2->texthero) (3.0.4)\n",
      "Requirement already satisfied: idna<3,>=2.5 in /usr/local/lib/python3.6/dist-packages (from requests<3.0.0,>=2.13.0->spacy>=2.2.2->texthero) (2.10)\n",
      "Requirement already satisfied: urllib3!=1.25.0,!=1.25.1,<1.26,>=1.21.1 in /usr/local/lib/python3.6/dist-packages (from requests<3.0.0,>=2.13.0->spacy>=2.2.2->texthero) (1.25.10)\n",
      "Requirement already satisfied: importlib-metadata>=0.20; python_version < \"3.8\" in /usr/local/lib/python3.6/dist-packages (from catalogue<1.1.0,>=0.0.7->spacy>=2.2.2->texthero) (1.7.0)\n",
      "Requirement already satisfied: zipp>=0.5 in /usr/local/lib/python3.6/dist-packages (from importlib-metadata>=0.20; python_version < \"3.8\"->catalogue<1.1.0,>=0.0.7->spacy>=2.2.2->texthero) (3.1.0)\n",
      "Building wheels for collected packages: nltk, smart-open\n",
      "  Building wheel for nltk (setup.py) ... \u001b[?25ldone\n",
      "\u001b[?25h  Created wheel for nltk: filename=nltk-3.5-py3-none-any.whl size=1435511 sha256=53310767e25d6300787982ec9e6e4700f15ff7353a792a50160401b8be1f8813\n",
      "  Stored in directory: /home/user/.cache/pip/wheels/de/5e/42/64abaeca668161c3e2cecc24f864a8fc421e3d07a104fc8a51\n",
      "  Building wheel for smart-open (setup.py) ... \u001b[?25ldone\n",
      "\u001b[?25h  Created wheel for smart-open: filename=smart_open-4.0.1-py3-none-any.whl size=115161 sha256=605f36811da68d6d2ae0fc4120b6b09fac79c294670eed2d3959f3f93aff1421\n",
      "  Stored in directory: /home/user/.cache/pip/wheels/8b/5e/70/42adcaea93c80417ec6accf7db1d6d02367ed02f2254cd5eef\n",
      "Successfully built nltk smart-open\n",
      "Installing collected packages: unidecode, click, regex, nltk, srsly, cymem, murmurhash, preshed, catalogue, wasabi, plac, blis, thinc, spacy, wordcloud, smart-open, gensim, threadpoolctl, scikit-learn, texthero\n",
      "\u001b[33m  WARNING: The script unidecode is installed in '/home/user/.local/bin' which is not on PATH.\n",
      "  Consider adding this directory to PATH or, if you prefer to suppress this warning, use --no-warn-script-location.\u001b[0m\n",
      "\u001b[33m  WARNING: The script nltk is installed in '/home/user/.local/bin' which is not on PATH.\n",
      "  Consider adding this directory to PATH or, if you prefer to suppress this warning, use --no-warn-script-location.\u001b[0m\n",
      "\u001b[33m  WARNING: The script wordcloud_cli is installed in '/home/user/.local/bin' which is not on PATH.\n",
      "  Consider adding this directory to PATH or, if you prefer to suppress this warning, use --no-warn-script-location.\u001b[0m\n",
      "Successfully installed blis-0.7.3 catalogue-1.0.0 click-7.1.2 cymem-2.0.4 gensim-3.8.3 murmurhash-1.0.4 nltk-3.5 plac-1.1.3 preshed-3.0.4 regex-2020.11.13 scikit-learn-0.23.2 smart-open-4.0.1 spacy-2.3.4 srsly-1.0.4 texthero-1.0.9 thinc-7.4.3 threadpoolctl-2.1.0 unidecode-1.1.1 wasabi-0.8.0 wordcloud-1.8.1\n",
      "\u001b[33mWARNING: You are using pip version 20.2.2; however, version 20.3.1 is available.\n",
      "You should consider upgrading via the '/usr/bin/python3 -m pip install --upgrade pip' command.\u001b[0m\n"
     ]
    }
   ],
   "source": [
    "!pip install category_encoders\n",
    "!pip install texthero"
   ]
  },
  {
   "cell_type": "code",
   "execution_count": 1,
   "metadata": {},
   "outputs": [],
   "source": [
    "import pandas as pd\n",
    "import pathlib\n",
    "import category_encoders as ce\n",
    "import matplotlib.pyplot as plt\n",
    "import seaborn as sns\n",
    "import numpy as np\n",
    "import pandas as pd\n",
    "\n",
    "import texthero as hero\n",
    "from texthero import preprocessing\n",
    "\n",
    "from sklearn import metrics\n",
    "from sklearn.model_selection import GroupKFold, KFold\n",
    "\n",
    "import lightgbm as lgb\n",
    "\n",
    "from sklearn.metrics import mean_squared_error, mean_squared_log_error\n",
    "\n",
    "from gensim.models import word2vec\n",
    "from sklearn.manifold import TSNE\n"
   ]
  },
  {
   "cell_type": "code",
   "execution_count": 2,
   "metadata": {},
   "outputs": [],
   "source": [
    "DATA_DIR = pathlib.Path('/home/knikaido/work/atma8/data/')\n",
    "OUTPUT_DIR = './sub09/'\n",
    "train_csv_path = DATA_DIR / 'train.csv'\n",
    "test_csv_path = DATA_DIR / 'test.csv'"
   ]
  },
  {
   "cell_type": "code",
   "execution_count": 3,
   "metadata": {},
   "outputs": [],
   "source": [
    "train_df = pd.read_csv(train_csv_path)\n",
    "test_df = pd.read_csv(test_csv_path)"
   ]
  },
  {
   "cell_type": "code",
   "execution_count": null,
   "metadata": {},
   "outputs": [],
   "source": []
  },
  {
   "cell_type": "code",
   "execution_count": 4,
   "metadata": {},
   "outputs": [],
   "source": [
    "train_column = train_df.columns"
   ]
  },
  {
   "cell_type": "code",
   "execution_count": 5,
   "metadata": {},
   "outputs": [],
   "source": [
    "X_column = []\n",
    "for s in train_column:\n",
    "    if not'Sales' in s:\n",
    "        X_column.append(s)"
   ]
  },
  {
   "cell_type": "code",
   "execution_count": 6,
   "metadata": {},
   "outputs": [],
   "source": [
    "train_df_drop = train_df[X_column]"
   ]
  },
  {
   "cell_type": "code",
   "execution_count": 7,
   "metadata": {},
   "outputs": [],
   "source": [
    "# User_Scoreの変換\n",
    "def make_user_score(df):\n",
    "    d = df['User_Score'].copy()\n",
    "    d[d == 'tbd'] = 'nan'\n",
    "    df.loc[:,'User_Score'] = d\n",
    "    \n",
    "    return df"
   ]
  },
  {
   "cell_type": "code",
   "execution_count": 8,
   "metadata": {},
   "outputs": [
    {
     "name": "stderr",
     "output_type": "stream",
     "text": [
      "/usr/local/lib/python3.6/dist-packages/pandas/core/indexing.py:1745: SettingWithCopyWarning:\n",
      "\n",
      "\n",
      "A value is trying to be set on a copy of a slice from a DataFrame.\n",
      "Try using .loc[row_indexer,col_indexer] = value instead\n",
      "\n",
      "See the caveats in the documentation: https://pandas.pydata.org/pandas-docs/stable/user_guide/indexing.html#returning-a-view-versus-a-copy\n",
      "\n"
     ]
    }
   ],
   "source": [
    "train_df_drop = make_user_score(train_df_drop)\n",
    "test_df = make_user_score(test_df)"
   ]
  },
  {
   "cell_type": "code",
   "execution_count": 9,
   "metadata": {},
   "outputs": [
    {
     "data": {
      "text/plain": [
       "0                             LEGO Batman: The Videogame\n",
       "1            LEGO Indiana Jones: The Original Adventures\n",
       "2                             LEGO Batman: The Videogame\n",
       "3                                                 Combat\n",
       "4                           LEGO Harry Potter: Years 5-7\n",
       "                              ...                       \n",
       "8354                                           Stellaris\n",
       "8355                   Total War Attila: Tyrants & Kings\n",
       "8356                    Brothers Conflict: Precious Baby\n",
       "8357    Phantasy Star Online 2 Episode 4: Deluxe Package\n",
       "8358    Phantasy Star Online 2 Episode 4: Deluxe Package\n",
       "Name: Name, Length: 8359, dtype: object"
      ]
     },
     "execution_count": 9,
     "metadata": {},
     "output_type": "execute_result"
    }
   ],
   "source": [
    "train_df_drop['Name']"
   ]
  },
  {
   "cell_type": "code",
   "execution_count": 10,
   "metadata": {},
   "outputs": [
    {
     "name": "stderr",
     "output_type": "stream",
     "text": [
      "/usr/local/lib/python3.6/dist-packages/ipykernel_launcher.py:8: SettingWithCopyWarning:\n",
      "\n",
      "\n",
      "A value is trying to be set on a copy of a slice from a DataFrame.\n",
      "Try using .loc[row_indexer,col_indexer] = value instead\n",
      "\n",
      "See the caveats in the documentation: https://pandas.pydata.org/pandas-docs/stable/user_guide/indexing.html#returning-a-view-versus-a-copy\n",
      "\n"
     ]
    },
    {
     "data": {
      "text/plain": [
       "0                             lego batman the videogame\n",
       "1            lego indiana jones the original adventures\n",
       "2                             lego batman the videogame\n",
       "3                                                combat\n",
       "4                           lego harry potter years 5 7\n",
       "                             ...                       \n",
       "8354                                          stellaris\n",
       "8355                     total war attila tyrants kings\n",
       "8356                    brothers conflict precious baby\n",
       "8357    phantasy star online 2 episode 4 deluxe package\n",
       "8358    phantasy star online 2 episode 4 deluxe package\n",
       "Name: C_Name, Length: 8359, dtype: object"
      ]
     },
     "execution_count": 10,
     "metadata": {},
     "output_type": "execute_result"
    }
   ],
   "source": [
    "custom_pipeline = [preprocessing.fillna\n",
    "                   , preprocessing.lowercase\n",
    "#                    , preprocessing.remove_digits\n",
    "                   , preprocessing.remove_punctuation\n",
    "                   , preprocessing.remove_diacritics\n",
    "                   , preprocessing.remove_whitespace\n",
    "                  ]\n",
    "train_df_drop['C_Name'] = hero.clean(train_df_drop['Name'], pipeline=custom_pipeline)\n",
    "train_df_drop['C_Name']"
   ]
  },
  {
   "cell_type": "code",
   "execution_count": 11,
   "metadata": {},
   "outputs": [
    {
     "name": "stderr",
     "output_type": "stream",
     "text": [
      "/usr/local/lib/python3.6/dist-packages/ipykernel_launcher.py:1: SettingWithCopyWarning:\n",
      "\n",
      "\n",
      "A value is trying to be set on a copy of a slice from a DataFrame.\n",
      "Try using .loc[row_indexer,col_indexer] = value instead\n",
      "\n",
      "See the caveats in the documentation: https://pandas.pydata.org/pandas-docs/stable/user_guide/indexing.html#returning-a-view-versus-a-copy\n",
      "\n"
     ]
    },
    {
     "data": {
      "text/plain": [
       "0       [0.0, 0.0, 0.0, 0.0, 0.0, 0.0, 0.0, 0.0, 0.0, ...\n",
       "1       [0.0, 0.0, 0.0, 0.0, 0.0, 0.0, 0.0, 0.0, 0.0, ...\n",
       "2       [0.0, 0.0, 0.0, 0.0, 0.0, 0.0, 0.0, 0.0, 0.0, ...\n",
       "3       [0.0, 0.0, 0.0, 0.0, 0.0, 0.0, 0.0, 0.0, 0.0, ...\n",
       "4       [0.0, 0.0, 0.0, 0.0, 0.0, 0.0, 0.0, 0.0, 0.0, ...\n",
       "                              ...                        \n",
       "8354    [0.0, 0.0, 0.0, 0.0, 0.0, 0.0, 0.0, 0.0, 0.0, ...\n",
       "8355    [0.0, 0.0, 0.0, 0.0, 0.0, 0.0, 0.0, 0.0, 0.0, ...\n",
       "8356    [0.0, 0.0, 0.0, 0.0, 0.0, 0.0, 0.0, 0.0, 0.0, ...\n",
       "8357    [0.0, 0.0, 0.0, 0.0, 0.0, 0.0, 0.0, 0.0, 0.0, ...\n",
       "8358    [0.0, 0.0, 0.0, 0.0, 0.0, 0.0, 0.0, 0.0, 0.0, ...\n",
       "Name: V_Name, Length: 8359, dtype: object"
      ]
     },
     "execution_count": 11,
     "metadata": {},
     "output_type": "execute_result"
    }
   ],
   "source": [
    "train_df_drop['V_Name'] = hero.tfidf(train_df_drop['C_Name'])\n",
    "train_df_drop['V_Name']"
   ]
  },
  {
   "cell_type": "code",
   "execution_count": 12,
   "metadata": {},
   "outputs": [],
   "source": [
    "sentences = []\n",
    "for sentence in train_df_drop['C_Name']:\n",
    "    data = sentence.split()\n",
    "    sentences.append(data)\n",
    "#     break"
   ]
  },
  {
   "cell_type": "code",
   "execution_count": 13,
   "metadata": {},
   "outputs": [],
   "source": [
    "# sentences"
   ]
  },
  {
   "cell_type": "code",
   "execution_count": 14,
   "metadata": {},
   "outputs": [
    {
     "name": "stdout",
     "output_type": "stream",
     "text": [
      "Training Word2Vec model...\n",
      "Saving Word2Vec model...\n"
     ]
    }
   ],
   "source": [
    "num_features = 200     # Word vector dimensionality\n",
    "min_word_count = 20   # Minimum word count\n",
    "num_workers = 40       # Number of threads to run in parallel\n",
    "context = 10          # Context window size\n",
    "downsampling = 1e-3   # Downsample setting for frequent words\n",
    "\n",
    "print (\"Training Word2Vec model...\")\n",
    "# Train Word2Vec model.\n",
    "# model = Word2Vec(sentences, workers=num_workers, hs = 0, sg = 1, negative = 10, iter = 25,\\\n",
    "#             size=num_features, min_count = min_word_count, \\\n",
    "#             window = context, sample = downsampling, seed=1)\n",
    "\n",
    "model = word2vec.Word2Vec(sentences,\n",
    "                          size=200,\n",
    "                          min_count=1,\n",
    "                          window=5,\n",
    "                          iter=20,\n",
    "                          sg = 0)\n",
    "\n",
    "model_name = str(num_features) + \"features_\" + str(min_word_count) + \"minwords_\" + str(context) + \"context_len2alldata\"\n",
    "model.init_sims(replace=True)\n",
    "# Save Word2Vec model.\n",
    "print (\"Saving Word2Vec model...\")\n",
    "# model.save(\"../japanese-dataset/livedoor-news-corpus/model/\"+model_name)\n",
    "# endmodeltime = time.time()\n",
    "\n",
    "# print (\"time : \", endmodeltime-start)"
   ]
  },
  {
   "cell_type": "code",
   "execution_count": 15,
   "metadata": {},
   "outputs": [
    {
     "name": "stdout",
     "output_type": "stream",
     "text": [
      "['the', 'of', '2', 's', 'no', '3', 'super', 'world', 'star', 'ii', 'ds', 'to', 'lego', '4', 'and', 'wars', 'dragon', 'a', 'game', 'disney', 'mario', 'final', 'warriors', 'vs', 'fantasy', 'in', 'nba', 'man', 'heroes', 'collection', 'party', 'force', '5', 'battle', 'quest', 'sonic', 'portable', 'x', 'sales', 'series', 'challenge', 'king', '1', 'war', 'iii', 'dead', 'mega', 'shin', 'legend', 'evil']\n"
     ]
    }
   ],
   "source": [
    "print(model.wv.index2word[:50])"
   ]
  },
  {
   "cell_type": "code",
   "execution_count": 16,
   "metadata": {},
   "outputs": [
    {
     "name": "stderr",
     "output_type": "stream",
     "text": [
      "/usr/local/lib/python3.6/dist-packages/ipykernel_launcher.py:1: DeprecationWarning:\n",
      "\n",
      "Call to deprecated `most_similar` (Method will be removed in 4.0.0, use self.wv.most_similar() instead).\n",
      "\n"
     ]
    },
    {
     "data": {
      "text/plain": [
       "[('palace', 0.9961339235305786),\n",
       " ('secret', 0.9959345459938049),\n",
       " ('sky', 0.9955418705940247),\n",
       " ('raider', 0.9954137206077576),\n",
       " ('sphinx', 0.9953466653823853),\n",
       " ('beasts', 0.9953265190124512),\n",
       " ('alvin', 0.9953219294548035),\n",
       " ('hundred', 0.9950879216194153),\n",
       " ('inferno', 0.9949071407318115),\n",
       " ('burning', 0.9948773980140686),\n",
       " ('fuel', 0.9948434829711914),\n",
       " ('alchemist', 0.9947715997695923),\n",
       " ('charlie', 0.9946589469909668),\n",
       " ('saturdays', 0.9946586489677429),\n",
       " ('search', 0.9946035146713257),\n",
       " ('chipwrecked', 0.9945513606071472),\n",
       " ('cursed', 0.9945107698440552),\n",
       " ('buffy', 0.9944759607315063),\n",
       " ('wrath', 0.9944576025009155),\n",
       " ('sword', 0.9943438768386841)]"
      ]
     },
     "execution_count": 16,
     "metadata": {},
     "output_type": "execute_result"
    }
   ],
   "source": [
    "model.most_similar(positive=['nintendogs'], topn=20)"
   ]
  },
  {
   "cell_type": "code",
   "execution_count": 17,
   "metadata": {},
   "outputs": [
    {
     "name": "stderr",
     "output_type": "stream",
     "text": [
      "/usr/local/lib/python3.6/dist-packages/ipykernel_launcher.py:6: DeprecationWarning:\n",
      "\n",
      "Call to deprecated `__getitem__` (Method will be removed in 4.0.0, use self.wv.__getitem__() instead).\n",
      "\n"
     ]
    }
   ],
   "source": [
    "w_vec = []\n",
    "for sentence in train_df_drop['C_Name']:\n",
    "    data = sentence.split()\n",
    "    tmp = np.zeros(200)\n",
    "    for d in data:\n",
    "        tmp += model[d]\n",
    "    w_vec.append(tmp)\n",
    "#     break"
   ]
  },
  {
   "cell_type": "code",
   "execution_count": 18,
   "metadata": {},
   "outputs": [],
   "source": [
    "w_vec = np.array(w_vec)"
   ]
  },
  {
   "cell_type": "code",
   "execution_count": 19,
   "metadata": {},
   "outputs": [],
   "source": [
    "from sklearn.decomposition import PCA\n",
    "pca = PCA(n_components=2)\n",
    "pca_ = pca.fit_transform(w_vec)"
   ]
  },
  {
   "cell_type": "code",
   "execution_count": null,
   "metadata": {},
   "outputs": [],
   "source": []
  },
  {
   "cell_type": "code",
   "execution_count": 20,
   "metadata": {},
   "outputs": [
    {
     "data": {
      "text/plain": [
       "<matplotlib.collections.PathCollection at 0x7f0d08743128>"
      ]
     },
     "execution_count": 20,
     "metadata": {},
     "output_type": "execute_result"
    },
    {
     "data": {
      "image/png": "[encoded data removed]",
      "text/plain": [
       "<Figure size 432x288 with 1 Axes>"
      ]
     },
     "metadata": {
      "needs_background": "light"
     },
     "output_type": "display_data"
    }
   ],
   "source": [
    "plt.scatter(pca_[:,0], pca_[:,1])"
   ]
  },
  {
   "cell_type": "code",
   "execution_count": 21,
   "metadata": {},
   "outputs": [],
   "source": [
    "## create gwbowv\n",
    "from sklearn.feature_extraction.text import TfidfVectorizer,HashingVectorizer\n",
    "import pickle\n",
    "from sklearn.mixture import GaussianMixture\n",
    "from sklearn.preprocessing import LabelEncoder\n",
    "from sklearn.model_selection import train_test_split\n",
    "\n",
    "def cluster_GMM(num_clusters, word_vectors):\n",
    "    # Initalize a GMM object and use it for clustering.\n",
    "    clf =  GaussianMixture(n_components=num_clusters,\n",
    "                    covariance_type=\"tied\", init_params='kmeans', max_iter=50)\n",
    "    # Get cluster assignments.\n",
    "    clf.fit(word_vectors)\n",
    "    idx = clf.predict(word_vectors)\n",
    "#     print (\"Clustering Done...\", time.time()-start, \"seconds\")\n",
    "    # Get probabilities of cluster assignments.\n",
    "    idx_proba = clf.predict_proba(word_vectors)\n",
    "\n",
    "    return (idx, idx_proba)\n",
    "\n",
    "def get_probability_word_vectors(featurenames, word_centroid_map, num_clusters, word_idf_dict):\n",
    "    # This function computes probability word-cluster vectors\n",
    "    prob_wordvecs = {}\n",
    "    for word in word_centroid_map:\n",
    "        prob_wordvecs[word] = np.zeros( num_clusters * num_features, dtype=\"float32\" )\n",
    "        for index in range(0, num_clusters):\n",
    "            try:\n",
    "                prob_wordvecs[word][index*num_features:(index+1)*num_features] = model[word] * word_centroid_prob_map[word][index] * word_idf_dict[word]\n",
    "            except:\n",
    "                continue\n",
    "\n",
    "    return prob_wordvecs\n",
    "\n",
    "def create_cluster_vector_and_gwbowv(prob_wordvecs, wordlist, word_centroid_map, word_centroid_prob_map, dimension, word_idf_dict, featurenames, num_centroids, train=False):\n",
    "    # This function computes SDV feature vectors.\n",
    "    bag_of_centroids = np.zeros( num_centroids * dimension, dtype=\"float32\" )\n",
    "    global min_no\n",
    "    global max_no\n",
    "\n",
    "    for word in wordlist:\n",
    "        try:\n",
    "            temp = word_centroid_map[word]\n",
    "        except:\n",
    "            continue\n",
    "\n",
    "        bag_of_centroids += prob_wordvecs[word]\n",
    "\n",
    "    norm = np.sqrt(np.einsum('...i,...i', bag_of_centroids, bag_of_centroids))\n",
    "    if(norm!=0):\n",
    "        bag_of_centroids /= norm\n",
    "\n",
    "    # To make feature vector sparse, make note of minimum and maximum values.\n",
    "    if train:\n",
    "        min_no += min(bag_of_centroids)\n",
    "        max_no += max(bag_of_centroids)\n",
    "\n",
    "    return bag_of_centroids"
   ]
  },
  {
   "cell_type": "code",
   "execution_count": 22,
   "metadata": {},
   "outputs": [
    {
     "name": "stderr",
     "output_type": "stream",
     "text": [
      "/usr/local/lib/python3.6/dist-packages/ipykernel_launcher.py:11: DeprecationWarning:\n",
      "\n",
      "Call to deprecated `syn0` (Attribute will be removed in 4.0.0, use self.vectors instead).\n",
      "\n"
     ]
    }
   ],
   "source": [
    "num_features = 200     # Word vector dimensionality\n",
    "min_word_count = 20   # Minimum word count\n",
    "num_workers = 40       # Number of threads to run in parallel\n",
    "context = 10          # Context window size\n",
    "downsampling = 1e-3   # Downsample setting for frequent words\n",
    "\n",
    "# model_name = str(num_features) + \"features_\" + str(min_word_count) + \"minwords_\" + str(context) + \"context_len2alldata\"\n",
    "# # Load the trained Word2Vec model.\n",
    "# model = Word2Vec.load(\"../japanese-dataset/livedoor-news-corpus/model/\"+model_name)\n",
    "# Get wordvectors for all words in vocabulary.\n",
    "word_vectors = model.wv.syn0\n",
    "\n",
    "# Load train data.\n",
    "# train,test = train_test_split(df,test_size=0.3,random_state=40)\n",
    "# all = df\n",
    "\n",
    "# Set number of clusters.\n",
    "num_clusters = 60\n",
    "idx, idx_proba = cluster_GMM(num_clusters, word_vectors)\n",
    "\n",
    "# Create a Word / Index dictionary, mapping each vocabulary word to\n",
    "# a cluster number\n",
    "word_centroid_map = dict(zip( model.wv.index2word, idx ))\n",
    "# Create a Word / Probability of cluster assignment dictionary, mapping each vocabulary word to\n",
    "# list of probabilities of cluster assignments.\n",
    "word_centroid_prob_map = dict(zip( model.wv.index2word, idx_proba ))"
   ]
  },
  {
   "cell_type": "code",
   "execution_count": 23,
   "metadata": {},
   "outputs": [
    {
     "name": "stdout",
     "output_type": "stream",
     "text": [
      "Creating word-idf dictionary for Training set...\n"
     ]
    }
   ],
   "source": [
    "\n",
    "tfv = TfidfVectorizer(dtype=np.float32)\n",
    "tfidfmatrix_traindata = tfv.fit_transform(train_df_drop['C_Name'].values)\n",
    "featurenames = tfv.get_feature_names()\n",
    "idf = tfv._tfidf.idf_\n",
    "\n",
    "# Creating a dictionary with word mapped to its idf value \n",
    "print (\"Creating word-idf dictionary for Training set...\")\n",
    "\n",
    "word_idf_dict = {}\n",
    "for pair in zip(featurenames, idf):\n",
    "    word_idf_dict[pair[0]] = pair[1]"
   ]
  },
  {
   "cell_type": "code",
   "execution_count": 24,
   "metadata": {},
   "outputs": [
    {
     "name": "stderr",
     "output_type": "stream",
     "text": [
      "/usr/local/lib/python3.6/dist-packages/ipykernel_launcher.py:28: DeprecationWarning:\n",
      "\n",
      "Call to deprecated `__getitem__` (Method will be removed in 4.0.0, use self.wv.__getitem__() instead).\n",
      "\n"
     ]
    }
   ],
   "source": [
    "# Pre-computing probability word-cluster vectors.\n",
    "prob_wordvecs = get_probability_word_vectors(featurenames, word_centroid_map, num_clusters, word_idf_dict)\n"
   ]
  },
  {
   "cell_type": "code",
   "execution_count": 34,
   "metadata": {},
   "outputs": [],
   "source": [
    "sp_list = []\n",
    "for name in train_df_drop['C_Name']:\n",
    "    sp_list.append(name.split())\n",
    "# train_df_drop['C_Name'][0].split()"
   ]
  },
  {
   "cell_type": "code",
   "execution_count": 36,
   "metadata": {},
   "outputs": [],
   "source": [
    "custom_vec = []\n",
    "for l_ in sp_list:\n",
    "    l_vec = []\n",
    "    for n_ in l_:\n",
    "        l_vec.append(prob_wordvecs[n_])\n",
    "    custom_vec.append(l_vec)\n",
    "        "
   ]
  },
  {
   "cell_type": "code",
   "execution_count": 58,
   "metadata": {},
   "outputs": [],
   "source": [
    "custom_vec_np = []\n",
    "for vec in custom_vec:\n",
    "    v_a = np.zeros(12000)\n",
    "    for v_ in vec:\n",
    "        v_a += v_\n",
    "    custom_vec_np.append(v_a)\n",
    "        "
   ]
  },
  {
   "cell_type": "code",
   "execution_count": 60,
   "metadata": {},
   "outputs": [],
   "source": [
    "custom_vec_np = np.array(custom_vec_np)"
   ]
  },
  {
   "cell_type": "code",
   "execution_count": 62,
   "metadata": {},
   "outputs": [
    {
     "data": {
      "text/plain": [
       "(8359, 12000)"
      ]
     },
     "execution_count": 62,
     "metadata": {},
     "output_type": "execute_result"
    }
   ],
   "source": [
    "custom_vec_np.shape"
   ]
  },
  {
   "cell_type": "code",
   "execution_count": 63,
   "metadata": {},
   "outputs": [],
   "source": [
    "pca = PCA(n_components=2)\n",
    "pca_custom = pca.fit_transform(custom_vec_np)"
   ]
  },
  {
   "cell_type": "code",
   "execution_count": 65,
   "metadata": {},
   "outputs": [
    {
     "data": {
      "text/plain": [
       "<matplotlib.collections.PathCollection at 0x7ffab15d9f60>"
      ]
     },
     "execution_count": 65,
     "metadata": {},
     "output_type": "execute_result"
    },
    {
     "data": {
      "image/png": "[encoded data removed]",
      "text/plain": [
       "<Figure size 432x288 with 1 Axes>"
      ]
     },
     "metadata": {
      "needs_background": "light"
     },
     "output_type": "display_data"
    }
   ],
   "source": [
    "plt.scatter(pca_custom[:,0], pca_custom[:,1])"
   ]
  },
  {
   "cell_type": "code",
   "execution_count": 66,
   "metadata": {},
   "outputs": [
    {
     "data": {
      "text/plain": [
       "<matplotlib.collections.PathCollection at 0x7ffab15934e0>"
      ]
     },
     "execution_count": 66,
     "metadata": {},
     "output_type": "execute_result"
    },
    {
     "data": {
      "image/png": "[encoded data removed]",
      "text/plain": [
       "<Figure size 432x288 with 1 Axes>"
      ]
     },
     "metadata": {
      "needs_background": "light"
     },
     "output_type": "display_data"
    }
   ],
   "source": [
    "plt.scatter(pca_[:,0], pca_[:,1])"
   ]
  },
  {
   "cell_type": "code",
   "execution_count": null,
   "metadata": {},
   "outputs": [],
   "source": []
  },
  {
   "cell_type": "code",
   "execution_count": null,
   "metadata": {},
   "outputs": [],
   "source": []
  },
  {
   "cell_type": "code",
   "execution_count": 9,
   "metadata": {},
   "outputs": [],
   "source": [
    "# Ratingの変換"
   ]
  },
  {
   "cell_type": "code",
   "execution_count": 10,
   "metadata": {},
   "outputs": [],
   "source": [
    "def encode_label(train, test):\n",
    "    cate_col = ['Rating', 'Platform', 'Genre']\n",
    "    oe = ce.OrdinalEncoder(cols=cate_col, drop_invariant=True, handle_missing='return_nan')\n",
    "    train.loc[:,cate_col] = oe.fit_transform(train[cate_col])\n",
    "    test.loc[:,cate_col] = oe.transform(test[cate_col])\n",
    "    return train, test"
   ]
  },
  {
   "cell_type": "code",
   "execution_count": 11,
   "metadata": {},
   "outputs": [
    {
     "name": "stderr",
     "output_type": "stream",
     "text": [
      "/home/user/.local/lib/python3.6/site-packages/category_encoders/utils.py:21: FutureWarning:\n",
      "\n",
      "is_categorical is deprecated and will be removed in a future version.  Use is_categorical_dtype instead\n",
      "\n",
      "/usr/local/lib/python3.6/dist-packages/pandas/core/indexing.py:1717: SettingWithCopyWarning:\n",
      "\n",
      "\n",
      "A value is trying to be set on a copy of a slice from a DataFrame.\n",
      "Try using .loc[row_indexer,col_indexer] = value instead\n",
      "\n",
      "See the caveats in the documentation: https://pandas.pydata.org/pandas-docs/stable/user_guide/indexing.html#returning-a-view-versus-a-copy\n",
      "\n"
     ]
    }
   ],
   "source": [
    "train_df_drop, test_df = encode_label(train_df_drop, test_df)"
   ]
  },
  {
   "cell_type": "code",
   "execution_count": 12,
   "metadata": {},
   "outputs": [],
   "source": [
    "custom_pipeline = [preprocessing.fillna\n",
    "                   , preprocessing.lowercase\n",
    "                   , preprocessing.remove_digits\n",
    "                   , preprocessing.remove_punctuation\n",
    "                   , preprocessing.remove_diacritics\n",
    "                   , preprocessing.remove_whitespace\n",
    "                  ]"
   ]
  },
  {
   "cell_type": "code",
   "execution_count": 13,
   "metadata": {},
   "outputs": [],
   "source": [
    "def translate_name(df):\n",
    "    n_pca = hero.pca(hero.tfidf(hero.clean(df['Name'], pipeline=custom_pipeline)))\n",
    "    n_pca_l = []\n",
    "    for i in range(len(n_pca)):\n",
    "        n_pca_l.append(n_pca.values[i])\n",
    "    n_pca_np = np.array(n_pca_l)\n",
    "    df['Name_0'] = n_pca_np[:, 0]\n",
    "    df['Name_1'] = n_pca_np[:, 1]\n",
    "    \n",
    "#     n_pca = hero.pca(hero.tfidf(hero.clean(df['Developer'], pipeline=custom_pipeline)))\n",
    "#     n_pca_l = []\n",
    "#     for i in range(len(n_pca)):\n",
    "#         n_pca_l.append(n_pca.values[i])\n",
    "#     n_pca_np = np.array(n_pca_l)\n",
    "#     df['Developer_0'] = n_pca_np[:, 0]\n",
    "#     df['Developer_1'] = n_pca_np[:, 1]\n",
    "    \n",
    "#     n_pca = hero.pca(hero.tfidf(hero.clean(df['Publisher'], pipeline=custom_pipeline)))\n",
    "#     n_pca_l = []\n",
    "#     for i in range(len(n_pca)):\n",
    "#         n_pca_l.append(n_pca.values[i])\n",
    "#     n_pca_np = np.array(n_pca_l)\n",
    "#     df['Publisher_0'] = n_pca_np[:, 0]\n",
    "#     df['Publisher_1'] = n_pca_np[:, 1]\n",
    "    \n",
    "    return df"
   ]
  },
  {
   "cell_type": "code",
   "execution_count": 14,
   "metadata": {},
   "outputs": [
    {
     "name": "stderr",
     "output_type": "stream",
     "text": [
      "/usr/local/lib/python3.6/dist-packages/ipykernel_launcher.py:7: SettingWithCopyWarning:\n",
      "\n",
      "\n",
      "A value is trying to be set on a copy of a slice from a DataFrame.\n",
      "Try using .loc[row_indexer,col_indexer] = value instead\n",
      "\n",
      "See the caveats in the documentation: https://pandas.pydata.org/pandas-docs/stable/user_guide/indexing.html#returning-a-view-versus-a-copy\n",
      "\n",
      "/usr/local/lib/python3.6/dist-packages/ipykernel_launcher.py:8: SettingWithCopyWarning:\n",
      "\n",
      "\n",
      "A value is trying to be set on a copy of a slice from a DataFrame.\n",
      "Try using .loc[row_indexer,col_indexer] = value instead\n",
      "\n",
      "See the caveats in the documentation: https://pandas.pydata.org/pandas-docs/stable/user_guide/indexing.html#returning-a-view-versus-a-copy\n",
      "\n"
     ]
    }
   ],
   "source": [
    "train_df_drop = translate_name(train_df_drop)\n",
    "test_df = translate_name(test_df)"
   ]
  },
  {
   "cell_type": "code",
   "execution_count": null,
   "metadata": {},
   "outputs": [],
   "source": []
  },
  {
   "cell_type": "code",
   "execution_count": 15,
   "metadata": {},
   "outputs": [
    {
     "name": "stderr",
     "output_type": "stream",
     "text": [
      "/usr/local/lib/python3.6/dist-packages/ipykernel_launcher.py:10: SettingWithCopyWarning:\n",
      "\n",
      "\n",
      "A value is trying to be set on a copy of a slice from a DataFrame.\n",
      "Try using .loc[row_indexer,col_indexer] = value instead\n",
      "\n",
      "See the caveats in the documentation: https://pandas.pydata.org/pandas-docs/stable/user_guide/indexing.html#returning-a-view-versus-a-copy\n",
      "\n",
      "/usr/local/lib/python3.6/dist-packages/ipykernel_launcher.py:11: SettingWithCopyWarning:\n",
      "\n",
      "\n",
      "A value is trying to be set on a copy of a slice from a DataFrame.\n",
      "Try using .loc[row_indexer,col_indexer] = value instead\n",
      "\n",
      "See the caveats in the documentation: https://pandas.pydata.org/pandas-docs/stable/user_guide/indexing.html#returning-a-view-versus-a-copy\n",
      "\n"
     ]
    }
   ],
   "source": [
    "oof_JP = pd.read_csv('./sub07/oof07JP_Sales.csv')\n",
    "oof_JP_ = np.expm1(oof_JP['JP_Sales'].values)\n",
    "oof_NA = pd.read_csv('./sub07/oof07NA_Sales.csv')\n",
    "oof_NA_ = np.expm1(oof_NA['NA_Sales'].values)\n",
    "oof_EU = pd.read_csv('./sub07/oof07EU_Sales.csv')\n",
    "oof_EU_ = np.expm1(oof_EU['EU_Sales'].values)\n",
    "oof_Other = pd.read_csv('./sub07/oof07Other_Sales.csv')\n",
    "oof_Other_ = np.expm1(oof_Other['Other_Sales'].values)\n",
    "\n",
    "train_df_drop['JP_Sales'] = oof_JP_\n",
    "train_df_drop['NA_Sales'] = oof_NA_\n",
    "train_df_drop['EU_Sales'] = oof_EU_\n",
    "train_df_drop['Other_Sales'] = oof_Other_\n",
    "\n",
    "\n",
    "sub_JP = pd.read_csv('./sub07/sub07JP_Sales.csv')\n",
    "sub_JP_ = np.expm1(sub_JP['JP_Sales'].values)\n",
    "sub_NA = pd.read_csv('./sub07/sub07NA_Sales.csv')\n",
    "sub_NA_ = np.expm1(sub_NA['NA_Sales'].values)\n",
    "sub_EU = pd.read_csv('./sub07/sub07EU_Sales.csv')\n",
    "sub_EU_ = np.expm1(sub_EU['EU_Sales'].values)\n",
    "sub_Other = pd.read_csv('./sub07/sub07Other_Sales.csv')\n",
    "sub_Other_ = np.expm1(sub_Other['Other_Sales'].values)\n",
    "\n",
    "test_df['JP_Sales'] = sub_JP_\n",
    "test_df['NA_Sales'] = sub_NA_\n",
    "test_df['EU_Sales'] = sub_EU_\n",
    "test_df['Other_Sales'] = sub_Other_\n"
   ]
  },
  {
   "cell_type": "code",
   "execution_count": null,
   "metadata": {},
   "outputs": [],
   "source": []
  },
  {
   "cell_type": "code",
   "execution_count": 16,
   "metadata": {},
   "outputs": [
    {
     "data": {
      "text/html": [
       "<div>\n",
       "<style scoped>\n",
       "    .dataframe tbody tr th:only-of-type {\n",
       "        vertical-align: middle;\n",
       "    }\n",
       "\n",
       "    .dataframe tbody tr th {\n",
       "        vertical-align: top;\n",
       "    }\n",
       "\n",
       "    .dataframe thead th {\n",
       "        text-align: right;\n",
       "    }\n",
       "</style>\n",
       "<table border=\"1\" class=\"dataframe\">\n",
       "  <thead>\n",
       "    <tr style=\"text-align: right;\">\n",
       "      <th></th>\n",
       "      <th>JP_Sales</th>\n",
       "      <th>NA_Sales</th>\n",
       "      <th>EU_Sales</th>\n",
       "      <th>Other_Sales</th>\n",
       "    </tr>\n",
       "  </thead>\n",
       "  <tbody>\n",
       "    <tr>\n",
       "      <th>0</th>\n",
       "      <td>0.195116</td>\n",
       "      <td>110.339205</td>\n",
       "      <td>64.387287</td>\n",
       "      <td>22.467856</td>\n",
       "    </tr>\n",
       "    <tr>\n",
       "      <th>1</th>\n",
       "      <td>0.065438</td>\n",
       "      <td>53.191584</td>\n",
       "      <td>35.717341</td>\n",
       "      <td>8.660092</td>\n",
       "    </tr>\n",
       "    <tr>\n",
       "      <th>2</th>\n",
       "      <td>-0.281719</td>\n",
       "      <td>73.285979</td>\n",
       "      <td>79.348651</td>\n",
       "      <td>26.845741</td>\n",
       "    </tr>\n",
       "    <tr>\n",
       "      <th>3</th>\n",
       "      <td>0.108562</td>\n",
       "      <td>35.232946</td>\n",
       "      <td>2.846780</td>\n",
       "      <td>0.518564</td>\n",
       "    </tr>\n",
       "    <tr>\n",
       "      <th>4</th>\n",
       "      <td>0.168898</td>\n",
       "      <td>44.650584</td>\n",
       "      <td>37.649890</td>\n",
       "      <td>8.541944</td>\n",
       "    </tr>\n",
       "    <tr>\n",
       "      <th>...</th>\n",
       "      <td>...</td>\n",
       "      <td>...</td>\n",
       "      <td>...</td>\n",
       "      <td>...</td>\n",
       "    </tr>\n",
       "    <tr>\n",
       "      <th>8354</th>\n",
       "      <td>-0.419574</td>\n",
       "      <td>-0.219972</td>\n",
       "      <td>7.125007</td>\n",
       "      <td>0.166070</td>\n",
       "    </tr>\n",
       "    <tr>\n",
       "      <th>8355</th>\n",
       "      <td>0.054789</td>\n",
       "      <td>0.496931</td>\n",
       "      <td>1.507095</td>\n",
       "      <td>0.052332</td>\n",
       "    </tr>\n",
       "    <tr>\n",
       "      <th>8356</th>\n",
       "      <td>1.960770</td>\n",
       "      <td>-0.178722</td>\n",
       "      <td>-0.199779</td>\n",
       "      <td>-0.128329</td>\n",
       "    </tr>\n",
       "    <tr>\n",
       "      <th>8357</th>\n",
       "      <td>9.128860</td>\n",
       "      <td>3.310586</td>\n",
       "      <td>1.180593</td>\n",
       "      <td>1.422212</td>\n",
       "    </tr>\n",
       "    <tr>\n",
       "      <th>8358</th>\n",
       "      <td>7.491351</td>\n",
       "      <td>0.425121</td>\n",
       "      <td>-0.113683</td>\n",
       "      <td>-0.186523</td>\n",
       "    </tr>\n",
       "  </tbody>\n",
       "</table>\n",
       "<p>8359 rows × 4 columns</p>\n",
       "</div>"
      ],
      "text/plain": [
       "      JP_Sales    NA_Sales   EU_Sales  Other_Sales\n",
       "0     0.195116  110.339205  64.387287    22.467856\n",
       "1     0.065438   53.191584  35.717341     8.660092\n",
       "2    -0.281719   73.285979  79.348651    26.845741\n",
       "3     0.108562   35.232946   2.846780     0.518564\n",
       "4     0.168898   44.650584  37.649890     8.541944\n",
       "...        ...         ...        ...          ...\n",
       "8354 -0.419574   -0.219972   7.125007     0.166070\n",
       "8355  0.054789    0.496931   1.507095     0.052332\n",
       "8356  1.960770   -0.178722  -0.199779    -0.128329\n",
       "8357  9.128860    3.310586   1.180593     1.422212\n",
       "8358  7.491351    0.425121  -0.113683    -0.186523\n",
       "\n",
       "[8359 rows x 4 columns]"
      ]
     },
     "execution_count": 16,
     "metadata": {},
     "output_type": "execute_result"
    }
   ],
   "source": [
    "drop_c = ['Name', 'Publisher', 'Developer']\n",
    "train_df_drop.drop(drop_c, axis=1, inplace=True)\n",
    "test_df.drop(drop_c, axis=1, inplace=True)\n",
    "train_df_drop"
   ]
  },
  {
   "cell_type": "code",
   "execution_count": 17,
   "metadata": {},
   "outputs": [],
   "source": [
    "train_df_drop = train_df_drop.astype('float64')\n",
    "test_df = test_df.astype('float64')"
   ]
  },
  {
   "cell_type": "code",
   "execution_count": 18,
   "metadata": {},
   "outputs": [],
   "source": [
    "def train(X, y):\n",
    "    # kfoldの分割数\n",
    "    k = 5\n",
    "    kf = KFold(n_splits=k, shuffle=True, random_state=0)\n",
    "    # kf = GroupKFold(n_splits=k)\n",
    "\n",
    "    lgbm_params = {'objective': 'regression',\n",
    "                  \"metric\":\"rmse\",\n",
    "                  \"learning_rate\": 0.05,\n",
    "                   'colsample_bytree': 0.8}\n",
    "\n",
    "    rmsle_train_list = []\n",
    "    rmsle_eval_list = []\n",
    "\n",
    "    pred_test_np = np.zeros([k, len(test_df)])\n",
    "    oof_pred = np.zeros_like(y, dtype=np.float)\n",
    "\n",
    "    # kfoldで分割\n",
    "    for i, (train_index, test_index) in enumerate(kf.split(X, y)):\n",
    "\n",
    "        X_train = X.iloc[train_index]\n",
    "        y_train = y.iloc[train_index]\n",
    "        X_test = X.iloc[test_index]\n",
    "        y_test = y.iloc[test_index]\n",
    "        y_train = np.log1p(y_train)\n",
    "        y_test = np.log1p(y_test)\n",
    "\n",
    "        # データセットを生成する\n",
    "        lgb_train = lgb.Dataset(X_train, y_train)\n",
    "        lgb_eval = lgb.Dataset(X_test, y_test)\n",
    "\n",
    "        # 学習\n",
    "        model = lgb.train(lgbm_params,\n",
    "                            lgb_train,\n",
    "                            valid_sets=[lgb_eval, lgb_train],\n",
    "                            num_boost_round=10000,\n",
    "                            early_stopping_rounds=1000,\n",
    "                            verbose_eval=200)\n",
    "\n",
    "        predict_train = model.predict(X_train, num_iteration=model.best_iteration)\n",
    "        predict_eval = model.predict(X_test, num_iteration=model.best_iteration)\n",
    "        oof_pred[test_index] = predict_eval\n",
    "\n",
    "        rmsle_train = np.sqrt(mean_squared_error(y_train, predict_train))\n",
    "        rmsle_eval = np.sqrt(mean_squared_error(y_test, predict_eval))\n",
    "        print(f'RMSLE_train: {rmsle_train}, RMSLE_eval: {rmsle_eval}')\n",
    "        rmsle_train_list.append(rmsle_train)\n",
    "        rmsle_eval_list.append(rmsle_eval)\n",
    "\n",
    "        pred_test_np[i] = model.predict(test_df, num_iteration=model.best_iteration)\n",
    "\n",
    "    print(f'RMSLE_train_mean: {np.mean(rmsle_train_list)}, RMSLE_eval_mean: {np.mean(rmsle_eval_list)}')\n",
    "    \n",
    "    return oof_pred, pred_test_np, model"
   ]
  },
  {
   "cell_type": "code",
   "execution_count": 19,
   "metadata": {},
   "outputs": [
    {
     "name": "stdout",
     "output_type": "stream",
     "text": [
      "Training until validation scores don't improve for 1000 rounds\n",
      "[200]\ttraining's rmse: 0.83623\tvalid_0's rmse: 0.946476\n",
      "[400]\ttraining's rmse: 0.765389\tvalid_0's rmse: 0.962561\n",
      "[600]\ttraining's rmse: 0.707396\tvalid_0's rmse: 0.974604\n",
      "[800]\ttraining's rmse: 0.659193\tvalid_0's rmse: 0.988463\n",
      "[1000]\ttraining's rmse: 0.620728\tvalid_0's rmse: 0.997823\n",
      "Early stopping, best iteration is:\n",
      "[97]\ttraining's rmse: 0.881473\tvalid_0's rmse: 0.939964\n",
      "RMSLE_train: 0.8814725055473903, RMSLE_eval: 0.9399643011674181\n",
      "Training until validation scores don't improve for 1000 rounds\n",
      "[200]\ttraining's rmse: 0.826674\tvalid_0's rmse: 0.984267\n",
      "[400]\ttraining's rmse: 0.755873\tvalid_0's rmse: 0.997416\n",
      "[600]\ttraining's rmse: 0.699246\tvalid_0's rmse: 1.00953\n",
      "[800]\ttraining's rmse: 0.652299\tvalid_0's rmse: 1.02154\n",
      "[1000]\ttraining's rmse: 0.612781\tvalid_0's rmse: 1.02975\n",
      "Early stopping, best iteration is:\n",
      "[69]\ttraining's rmse: 0.89595\tvalid_0's rmse: 0.974829\n",
      "RMSLE_train: 0.8959504506238916, RMSLE_eval: 0.9748292795998478\n",
      "Training until validation scores don't improve for 1000 rounds\n",
      "[200]\ttraining's rmse: 0.830291\tvalid_0's rmse: 0.97473\n",
      "[400]\ttraining's rmse: 0.757654\tvalid_0's rmse: 0.988151\n",
      "[600]\ttraining's rmse: 0.698841\tvalid_0's rmse: 1.00074\n",
      "[800]\ttraining's rmse: 0.652161\tvalid_0's rmse: 1.01414\n",
      "[1000]\ttraining's rmse: 0.608831\tvalid_0's rmse: 1.02476\n",
      "Early stopping, best iteration is:\n",
      "[63]\ttraining's rmse: 0.903159\tvalid_0's rmse: 0.963952\n",
      "RMSLE_train: 0.9031588651862277, RMSLE_eval: 0.963952025582128\n",
      "Training until validation scores don't improve for 1000 rounds\n",
      "[200]\ttraining's rmse: 0.821854\tvalid_0's rmse: 0.990367\n",
      "[400]\ttraining's rmse: 0.747469\tvalid_0's rmse: 1.00525\n",
      "[600]\ttraining's rmse: 0.694421\tvalid_0's rmse: 1.01573\n",
      "[800]\ttraining's rmse: 0.651108\tvalid_0's rmse: 1.02376\n",
      "[1000]\ttraining's rmse: 0.605642\tvalid_0's rmse: 1.0343\n",
      "Early stopping, best iteration is:\n",
      "[77]\ttraining's rmse: 0.885321\tvalid_0's rmse: 0.982082\n",
      "RMSLE_train: 0.8853205896261037, RMSLE_eval: 0.9820818280214781\n",
      "Training until validation scores don't improve for 1000 rounds\n",
      "[200]\ttraining's rmse: 0.828305\tvalid_0's rmse: 0.985936\n",
      "[400]\ttraining's rmse: 0.75667\tvalid_0's rmse: 1.00289\n",
      "[600]\ttraining's rmse: 0.698906\tvalid_0's rmse: 1.01364\n",
      "[800]\ttraining's rmse: 0.650914\tvalid_0's rmse: 1.02173\n",
      "[1000]\ttraining's rmse: 0.612286\tvalid_0's rmse: 1.03057\n",
      "Early stopping, best iteration is:\n",
      "[62]\ttraining's rmse: 0.902468\tvalid_0's rmse: 0.974924\n",
      "RMSLE_train: 0.9024678576042365, RMSLE_eval: 0.974923648890229\n",
      "RMSLE_train_mean: 0.8936740537175698, RMSLE_eval_mean: 0.9671502166522201\n",
      "0.9672621628094871\n"
     ]
    }
   ],
   "source": [
    "sales = 'Global_Sales'\n",
    "X = train_df_drop\n",
    "y = train_df[sales].astype('float64')\n",
    "oof_pred, pred_test_np, model = train(X, y)\n",
    "print(np.sqrt(mean_squared_error(np.log1p(y), oof_pred)))"
   ]
  },
  {
   "cell_type": "code",
   "execution_count": 28,
   "metadata": {},
   "outputs": [],
   "source": [
    "oof_df = pd.DataFrame(oof_pred, columns=[sales])\n",
    "oof_df.to_csv(OUTPUT_DIR + \"oof08\" + sales + \".csv\", index = False)"
   ]
  },
  {
   "cell_type": "code",
   "execution_count": 29,
   "metadata": {},
   "outputs": [],
   "source": [
    "pred_test_mean = np.mean(pred_test_np, axis=0)\n",
    "pred_test_exp = np.expm1(pred_test_mean)"
   ]
  },
  {
   "cell_type": "code",
   "execution_count": 30,
   "metadata": {},
   "outputs": [],
   "source": [
    "sub = pd.read_csv(DATA_DIR / 'atmaCup8_sample-submission.csv')\n",
    "sub['Global_Sales'] = pred_test_exp\n",
    "sub.rename(columns={'Global_Sales': sales}, inplace=True)\n",
    "sub.to_csv(OUTPUT_DIR + \"sub08\" + sales + \".csv\", index = False)"
   ]
  },
  {
   "cell_type": "code",
   "execution_count": null,
   "metadata": {},
   "outputs": [],
   "source": []
  },
  {
   "cell_type": "code",
   "execution_count": null,
   "metadata": {},
   "outputs": [],
   "source": []
  },
  {
   "cell_type": "code",
   "execution_count": 33,
   "metadata": {},
   "outputs": [],
   "source": [
    "def visualize_importance(models, feat_train_df):\n",
    "    \"\"\"lightGBM の model 配列の feature importance を plot する\n",
    "    CVごとのブレを boxen plot として表現します.\n",
    "\n",
    "    args:\n",
    "        models:\n",
    "            List of lightGBM models\n",
    "        feat_train_df:\n",
    "            学習時に使った DataFrame\n",
    "    \"\"\"\n",
    "    feature_importance_df = pd.DataFrame()\n",
    "    model = models\n",
    "#     for i, model in enumerate(models):\n",
    "    _df = pd.DataFrame()\n",
    "    _df['feature_importance'] = model.feature_importance(importance_type='gain')\n",
    "    _df['column'] = feat_train_df.columns\n",
    "#     _df['fold'] = i + 1\n",
    "    feature_importance_df = pd.concat([feature_importance_df, _df], axis=0, ignore_index=True)\n",
    "\n",
    "    order = feature_importance_df.groupby('column')\\\n",
    "        .sum()[['feature_importance']]\\\n",
    "        .sort_values('feature_importance', ascending=False).index[:50]\n",
    "\n",
    "    fig, ax = plt.subplots(figsize=(max(6, len(order) * .4), 7))\n",
    "    sns.boxenplot(data=feature_importance_df, x='column', y='feature_importance', order=order, ax=ax, palette='viridis')\n",
    "    ax.tick_params(axis='x', rotation=90)\n",
    "    ax.grid()\n",
    "    fig.tight_layout()\n",
    "    return fig, ax"
   ]
  },
  {
   "cell_type": "code",
   "execution_count": 34,
   "metadata": {},
   "outputs": [
    {
     "data": {
      "image/png": "[encoded data removed]",
      "text/plain": [
       "<Figure size 432x504 with 1 Axes>"
      ]
     },
     "metadata": {
      "needs_background": "light"
     },
     "output_type": "display_data"
    }
   ],
   "source": [
    "fig, ax = visualize_importance(model, X)\n"
   ]
  },
  {
   "cell_type": "code",
   "execution_count": 25,
   "metadata": {},
   "outputs": [
    {
     "data": {
      "text/html": [
       "<div>\n",
       "<style scoped>\n",
       "    .dataframe tbody tr th:only-of-type {\n",
       "        vertical-align: middle;\n",
       "    }\n",
       "\n",
       "    .dataframe tbody tr th {\n",
       "        vertical-align: top;\n",
       "    }\n",
       "\n",
       "    .dataframe thead th {\n",
       "        text-align: right;\n",
       "    }\n",
       "</style>\n",
       "<table border=\"1\" class=\"dataframe\">\n",
       "  <thead>\n",
       "    <tr style=\"text-align: right;\">\n",
       "      <th></th>\n",
       "      <th>importance</th>\n",
       "    </tr>\n",
       "  </thead>\n",
       "  <tbody>\n",
       "    <tr>\n",
       "      <th>Rating</th>\n",
       "      <td>1923.628176</td>\n",
       "    </tr>\n",
       "    <tr>\n",
       "      <th>Developer_0</th>\n",
       "      <td>2262.207175</td>\n",
       "    </tr>\n",
       "    <tr>\n",
       "      <th>Developer_1</th>\n",
       "      <td>2521.593219</td>\n",
       "    </tr>\n",
       "    <tr>\n",
       "      <th>User_Score</th>\n",
       "      <td>3441.732117</td>\n",
       "    </tr>\n",
       "    <tr>\n",
       "      <th>Genre</th>\n",
       "      <td>4986.717704</td>\n",
       "    </tr>\n",
       "    <tr>\n",
       "      <th>Critic_Score</th>\n",
       "      <td>5141.556932</td>\n",
       "    </tr>\n",
       "    <tr>\n",
       "      <th>Critic_Count</th>\n",
       "      <td>7634.363927</td>\n",
       "    </tr>\n",
       "    <tr>\n",
       "      <th>Name_0</th>\n",
       "      <td>8909.336788</td>\n",
       "    </tr>\n",
       "    <tr>\n",
       "      <th>Name_1</th>\n",
       "      <td>10338.221252</td>\n",
       "    </tr>\n",
       "    <tr>\n",
       "      <th>Publisher_1</th>\n",
       "      <td>12838.359179</td>\n",
       "    </tr>\n",
       "    <tr>\n",
       "      <th>Platform</th>\n",
       "      <td>13534.552237</td>\n",
       "    </tr>\n",
       "    <tr>\n",
       "      <th>Publisher_0</th>\n",
       "      <td>14412.254073</td>\n",
       "    </tr>\n",
       "    <tr>\n",
       "      <th>Year_of_Release</th>\n",
       "      <td>14838.012031</td>\n",
       "    </tr>\n",
       "    <tr>\n",
       "      <th>User_Count</th>\n",
       "      <td>19137.192743</td>\n",
       "    </tr>\n",
       "  </tbody>\n",
       "</table>\n",
       "</div>"
      ],
      "text/plain": [
       "                   importance\n",
       "Rating            1923.628176\n",
       "Developer_0       2262.207175\n",
       "Developer_1       2521.593219\n",
       "User_Score        3441.732117\n",
       "Genre             4986.717704\n",
       "Critic_Score      5141.556932\n",
       "Critic_Count      7634.363927\n",
       "Name_0            8909.336788\n",
       "Name_1           10338.221252\n",
       "Publisher_1      12838.359179\n",
       "Platform         13534.552237\n",
       "Publisher_0      14412.254073\n",
       "Year_of_Release  14838.012031\n",
       "User_Count       19137.192743"
      ]
     },
     "execution_count": 25,
     "metadata": {},
     "output_type": "execute_result"
    }
   ],
   "source": [
    "importance = pd.DataFrame(model.feature_importance(importance_type='gain'), index=train_df_drop.columns, columns=['importance'])\n",
    "importance.sort_values(['importance'])"
   ]
  },
  {
   "cell_type": "code",
   "execution_count": null,
   "metadata": {},
   "outputs": [],
   "source": []
  },
  {
   "cell_type": "code",
   "execution_count": null,
   "metadata": {},
   "outputs": [],
   "source": []
  }
 ],
 "metadata": {
  "kernelspec": {
   "display_name": "Python 3",
   "language": "python",
   "name": "python3"
  },
  "language_info": {
   "codemirror_mode": {
    "name": "ipython",
    "version": 3
   },
   "file_extension": ".py",
   "mimetype": "text/x-python",
   "name": "python",
   "nbconvert_exporter": "python",
   "pygments_lexer": "ipython3",
   "version": "3.6.12"
  }
 },
 "nbformat": 4,
 "nbformat_minor": 4
}
