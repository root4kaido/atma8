{
 "cells": [
  {
   "cell_type": "code",
   "execution_count": 1,
   "metadata": {},
   "outputs": [
    {
     "name": "stdout",
     "output_type": "stream",
     "text": [
      "Defaulting to user installation because normal site-packages is not writeable\n",
      "Requirement already satisfied: category_encoders in /home/user/.local/lib/python3.6/site-packages (2.2.2)\n",
      "Requirement already satisfied: statsmodels>=0.9.0 in /home/user/.local/lib/python3.6/site-packages (from category_encoders) (0.12.1)\n",
      "Requirement already satisfied: pandas>=0.21.1 in /usr/local/lib/python3.6/dist-packages (from category_encoders) (1.1.1)\n",
      "Requirement already satisfied: numpy>=1.14.0 in /usr/local/lib/python3.6/dist-packages (from category_encoders) (1.17.4)\n",
      "Requirement already satisfied: scipy>=1.0.0 in /home/user/.local/lib/python3.6/site-packages (from category_encoders) (1.5.4)\n",
      "Requirement already satisfied: scikit-learn>=0.20.0 in /home/user/.local/lib/python3.6/site-packages (from category_encoders) (0.23.2)\n",
      "Requirement already satisfied: patsy>=0.5.1 in /usr/local/lib/python3.6/dist-packages (from category_encoders) (0.5.1)\n",
      "Requirement already satisfied: pytz>=2017.2 in /usr/local/lib/python3.6/dist-packages (from pandas>=0.21.1->category_encoders) (2020.1)\n",
      "Requirement already satisfied: python-dateutil>=2.7.3 in /usr/local/lib/python3.6/dist-packages (from pandas>=0.21.1->category_encoders) (2.7.3)\n",
      "Requirement already satisfied: threadpoolctl>=2.0.0 in /home/user/.local/lib/python3.6/site-packages (from scikit-learn>=0.20.0->category_encoders) (2.1.0)\n",
      "Requirement already satisfied: joblib>=0.11 in /usr/local/lib/python3.6/dist-packages (from scikit-learn>=0.20.0->category_encoders) (0.16.0)\n",
      "Requirement already satisfied: six in /usr/local/lib/python3.6/dist-packages (from patsy>=0.5.1->category_encoders) (1.11.0)\n",
      "\u001b[33mWARNING: You are using pip version 20.2.2; however, version 20.3.1 is available.\n",
      "You should consider upgrading via the '/usr/bin/python3 -m pip install --upgrade pip' command.\u001b[0m\n",
      "Defaulting to user installation because normal site-packages is not writeable\n",
      "Requirement already satisfied: texthero in /home/user/.local/lib/python3.6/site-packages (1.0.9)\n",
      "Requirement already satisfied: spacy>=2.2.2 in /home/user/.local/lib/python3.6/site-packages (from texthero) (2.3.4)\n",
      "Requirement already satisfied: numpy>=1.17 in /usr/local/lib/python3.6/dist-packages (from texthero) (1.17.4)\n",
      "Requirement already satisfied: pandas>=1.0.2 in /usr/local/lib/python3.6/dist-packages (from texthero) (1.1.1)\n",
      "Requirement already satisfied: scikit-learn>=0.22 in /home/user/.local/lib/python3.6/site-packages (from texthero) (0.23.2)\n",
      "Requirement already satisfied: matplotlib>=3.1.0 in /home/user/.local/lib/python3.6/site-packages (from texthero) (3.3.3)\n",
      "Requirement already satisfied: gensim>=3.6.0 in /home/user/.local/lib/python3.6/site-packages (from texthero) (3.8.3)\n",
      "Requirement already satisfied: plotly>=4.2.0 in /usr/local/lib/python3.6/dist-packages (from texthero) (4.9.0)\n",
      "Requirement already satisfied: wordcloud>=1.5.0 in /home/user/.local/lib/python3.6/site-packages (from texthero) (1.8.1)\n",
      "Requirement already satisfied: nltk>=3.3 in /home/user/.local/lib/python3.6/site-packages (from texthero) (3.5)\n",
      "Requirement already satisfied: tqdm>=4.3 in /usr/local/lib/python3.6/dist-packages (from texthero) (4.48.2)\n",
      "Requirement already satisfied: unidecode>=1.1.1 in /home/user/.local/lib/python3.6/site-packages (from texthero) (1.1.1)\n",
      "Requirement already satisfied: catalogue<1.1.0,>=0.0.7 in /home/user/.local/lib/python3.6/site-packages (from spacy>=2.2.2->texthero) (1.0.0)\n",
      "Requirement already satisfied: plac<1.2.0,>=0.9.6 in /home/user/.local/lib/python3.6/site-packages (from spacy>=2.2.2->texthero) (1.1.3)\n",
      "Requirement already satisfied: murmurhash<1.1.0,>=0.28.0 in /home/user/.local/lib/python3.6/site-packages (from spacy>=2.2.2->texthero) (1.0.4)\n",
      "Requirement already satisfied: requests<3.0.0,>=2.13.0 in /usr/local/lib/python3.6/dist-packages (from spacy>=2.2.2->texthero) (2.24.0)\n",
      "Requirement already satisfied: wasabi<1.1.0,>=0.4.0 in /home/user/.local/lib/python3.6/site-packages (from spacy>=2.2.2->texthero) (0.8.0)\n",
      "Requirement already satisfied: setuptools in /usr/local/lib/python3.6/dist-packages (from spacy>=2.2.2->texthero) (49.6.0)\n",
      "Requirement already satisfied: cymem<2.1.0,>=2.0.2 in /home/user/.local/lib/python3.6/site-packages (from spacy>=2.2.2->texthero) (2.0.4)\n",
      "Requirement already satisfied: thinc<7.5.0,>=7.4.1 in /home/user/.local/lib/python3.6/site-packages (from spacy>=2.2.2->texthero) (7.4.3)\n",
      "Requirement already satisfied: srsly<1.1.0,>=1.0.2 in /home/user/.local/lib/python3.6/site-packages (from spacy>=2.2.2->texthero) (1.0.4)\n",
      "Requirement already satisfied: preshed<3.1.0,>=3.0.2 in /home/user/.local/lib/python3.6/site-packages (from spacy>=2.2.2->texthero) (3.0.4)\n",
      "Requirement already satisfied: blis<0.8.0,>=0.4.0; python_version >= \"3.6\" in /home/user/.local/lib/python3.6/site-packages (from spacy>=2.2.2->texthero) (0.7.3)\n",
      "Requirement already satisfied: pytz>=2017.2 in /usr/local/lib/python3.6/dist-packages (from pandas>=1.0.2->texthero) (2020.1)\n",
      "Requirement already satisfied: python-dateutil>=2.7.3 in /usr/local/lib/python3.6/dist-packages (from pandas>=1.0.2->texthero) (2.7.3)\n",
      "Requirement already satisfied: scipy>=0.19.1 in /home/user/.local/lib/python3.6/site-packages (from scikit-learn>=0.22->texthero) (1.5.4)\n",
      "Requirement already satisfied: joblib>=0.11 in /usr/local/lib/python3.6/dist-packages (from scikit-learn>=0.22->texthero) (0.16.0)\n",
      "Requirement already satisfied: threadpoolctl>=2.0.0 in /home/user/.local/lib/python3.6/site-packages (from scikit-learn>=0.22->texthero) (2.1.0)\n",
      "Requirement already satisfied: pyparsing!=2.0.4,!=2.1.2,!=2.1.6,>=2.0.3 in /usr/local/lib/python3.6/dist-packages (from matplotlib>=3.1.0->texthero) (2.2.2)\n",
      "Requirement already satisfied: cycler>=0.10 in /usr/local/lib/python3.6/dist-packages (from matplotlib>=3.1.0->texthero) (0.10.0)\n",
      "Requirement already satisfied: kiwisolver>=1.0.1 in /usr/local/lib/python3.6/dist-packages (from matplotlib>=3.1.0->texthero) (1.0.1)\n",
      "Requirement already satisfied: pillow>=6.2.0 in /usr/local/lib/python3.6/dist-packages (from matplotlib>=3.1.0->texthero) (7.2.0)\n",
      "Requirement already satisfied: six>=1.5.0 in /usr/local/lib/python3.6/dist-packages (from gensim>=3.6.0->texthero) (1.11.0)\n",
      "Requirement already satisfied: smart-open>=1.8.1 in /home/user/.local/lib/python3.6/site-packages (from gensim>=3.6.0->texthero) (4.0.1)\n",
      "Requirement already satisfied: retrying>=1.3.3 in /usr/local/lib/python3.6/dist-packages (from plotly>=4.2.0->texthero) (1.3.3)\n",
      "Requirement already satisfied: click in /home/user/.local/lib/python3.6/site-packages (from nltk>=3.3->texthero) (7.1.2)\n",
      "Requirement already satisfied: regex in /home/user/.local/lib/python3.6/site-packages (from nltk>=3.3->texthero) (2020.11.13)\n",
      "Requirement already satisfied: importlib-metadata>=0.20; python_version < \"3.8\" in /usr/local/lib/python3.6/dist-packages (from catalogue<1.1.0,>=0.0.7->spacy>=2.2.2->texthero) (1.7.0)\n",
      "Requirement already satisfied: urllib3!=1.25.0,!=1.25.1,<1.26,>=1.21.1 in /usr/local/lib/python3.6/dist-packages (from requests<3.0.0,>=2.13.0->spacy>=2.2.2->texthero) (1.25.10)\n",
      "Requirement already satisfied: idna<3,>=2.5 in /usr/local/lib/python3.6/dist-packages (from requests<3.0.0,>=2.13.0->spacy>=2.2.2->texthero) (2.10)\n",
      "Requirement already satisfied: chardet<4,>=3.0.2 in /usr/local/lib/python3.6/dist-packages (from requests<3.0.0,>=2.13.0->spacy>=2.2.2->texthero) (3.0.4)\n",
      "Requirement already satisfied: certifi>=2017.4.17 in /usr/local/lib/python3.6/dist-packages (from requests<3.0.0,>=2.13.0->spacy>=2.2.2->texthero) (2020.6.20)\n",
      "Requirement already satisfied: zipp>=0.5 in /usr/local/lib/python3.6/dist-packages (from importlib-metadata>=0.20; python_version < \"3.8\"->catalogue<1.1.0,>=0.0.7->spacy>=2.2.2->texthero) (3.1.0)\n",
      "\u001b[33mWARNING: You are using pip version 20.2.2; however, version 20.3.1 is available.\n",
      "You should consider upgrading via the '/usr/bin/python3 -m pip install --upgrade pip' command.\u001b[0m\n",
      "Defaulting to user installation because normal site-packages is not writeable\n",
      "Requirement already satisfied: textdistance in /home/user/.local/lib/python3.6/site-packages (4.2.0)\n",
      "\u001b[33mWARNING: You are using pip version 20.2.2; however, version 20.3.1 is available.\n",
      "You should consider upgrading via the '/usr/bin/python3 -m pip install --upgrade pip' command.\u001b[0m\n"
     ]
    }
   ],
   "source": [
    "!pip install category_encoders\n",
    "!pip install texthero\n",
    "!pip install textdistance\n"
   ]
  },
  {
   "cell_type": "code",
   "execution_count": 1,
   "metadata": {},
   "outputs": [],
   "source": [
    "import pandas as pd\n",
    "import pathlib\n",
    "import category_encoders as ce\n",
    "import matplotlib.pyplot as plt\n",
    "import seaborn as sns\n",
    "import numpy as np\n",
    "import pandas as pd\n",
    "from sklearn.decomposition import PCA\n",
    "\n",
    "import texthero as hero\n",
    "from texthero import preprocessing\n",
    "\n",
    "from sklearn import metrics\n",
    "from sklearn.model_selection import GroupKFold, KFold\n",
    "\n",
    "import lightgbm as lgb\n",
    "\n",
    "from sklearn.metrics import mean_squared_error, mean_squared_log_error\n",
    "from gensim.models import word2vec"
   ]
  },
  {
   "cell_type": "code",
   "execution_count": 2,
   "metadata": {},
   "outputs": [],
   "source": [
    "DATA_DIR = pathlib.Path('/home/knikaido/work/atma8/data/')\n",
    "OUTPUT_DIR = './sub13/'\n",
    "train_csv_path = DATA_DIR / 'train.csv'\n",
    "test_csv_path = DATA_DIR / 'test.csv'"
   ]
  },
  {
   "cell_type": "code",
   "execution_count": 3,
   "metadata": {},
   "outputs": [],
   "source": [
    "train_df = pd.read_csv(train_csv_path)\n",
    "test_df = pd.read_csv(test_csv_path)\n",
    "whole_df = pd.concat([train_df, test_df], ignore_index=True)"
   ]
  },
  {
   "cell_type": "code",
   "execution_count": 4,
   "metadata": {},
   "outputs": [],
   "source": [
    "def preprocess(input_df: pd.DataFrame) -> pd.DataFrame:\n",
    "    output_df = input_df.copy()\n",
    "\n",
    "    idx_tbd = input_df['User_Score'] == 'tbd'\n",
    "    output_df['User_Score_is_tbd'] = idx_tbd.astype(int)\n",
    "\n",
    "    output_df['User_Score'] = input_df['User_Score'].replace('tbd', None).astype(float)\n",
    "    return output_df\n",
    "\n",
    "def create_continuous_features(input_df):\n",
    "    input_df = preprocess(input_df)\n",
    "    use_columns = [\n",
    "        # 連続変数\n",
    "        'Critic_Score',\n",
    "        'Critic_Count', \n",
    "        'User_Score', \n",
    "        'User_Count',\n",
    "        'Year_of_Release',\n",
    "        'User_Score_is_tbd'\n",
    "    ]\n",
    "    return input_df[use_columns].copy()"
   ]
  },
  {
   "cell_type": "code",
   "execution_count": 5,
   "metadata": {},
   "outputs": [],
   "source": [
    "\n",
    "def create_boolean_feature(input_df):\n",
    "    output_df = pd.DataFrame()\n",
    "\n",
    "    texts = [\n",
    "        'japan', 'nintendo'\n",
    "    ]\n",
    "\n",
    "    for t in texts:\n",
    "        output_df[f'Developer_has_{t}'] = input_df['Developer'].fillna('').str.lower().str.contains(t).astype(int)\n",
    "    return output_df"
   ]
  },
  {
   "cell_type": "code",
   "execution_count": 6,
   "metadata": {},
   "outputs": [],
   "source": [
    "class BaseBlock(object):\n",
    "    def fit(self, input_df, y=None):\n",
    "        return self.transform(input_df)\n",
    "\n",
    "    def transform(self, input_df):\n",
    "        raise NotImplementedError()"
   ]
  },
  {
   "cell_type": "code",
   "execution_count": 7,
   "metadata": {},
   "outputs": [
    {
     "data": {
      "text/plain": [
       "array([7, 4, 7, ..., 1, 2, 2], dtype=object)"
      ]
     },
     "execution_count": 7,
     "metadata": {},
     "output_type": "execute_result"
    }
   ],
   "source": [
    "_df = train_df.groupby('Name')['Platform'].count()\n",
    "pd.merge(train_df['Name'], _df, on='Name', how='left').values[:, 1]"
   ]
  },
  {
   "cell_type": "code",
   "execution_count": 8,
   "metadata": {},
   "outputs": [],
   "source": [
    "class CountEncodingBlock(BaseBlock):\n",
    "    def __init__(self, column, whole_df: pd.DataFrame):\n",
    "        self.column = column\n",
    "        self.whole_df = whole_df\n",
    "\n",
    "    def transform(self, input_df):\n",
    "        output_df = pd.DataFrame()\n",
    "        c = self.column\n",
    "\n",
    "        vc = self.whole_df[c].value_counts()\n",
    "        output_df[c] = input_df[c].map(vc)\n",
    "        return output_df.add_prefix('CE_')"
   ]
  },
  {
   "cell_type": "code",
   "execution_count": 9,
   "metadata": {},
   "outputs": [],
   "source": [
    "class OneHotBlock(BaseBlock):\n",
    "    def __init__(self, column: str):\n",
    "        self.column = column\n",
    "        self.cats_ = None\n",
    "\n",
    "    def fit(self, input_df, y=None):\n",
    "        vc = input_df[self.column].dropna().value_counts()\n",
    "        cats = vc[vc > 40].index\n",
    "        self.cats_ = cats\n",
    "        return self.transform(input_df)\n",
    "\n",
    "    def transform(self, input_df):\n",
    "        x = pd.Categorical(input_df[self.column], categories=self.cats_)\n",
    "        out_df = pd.get_dummies(x, dummy_na=False)\n",
    "        out_df.columns = out_df.columns.tolist()\n",
    "        return out_df.add_prefix(f'OH_{self.column}=')"
   ]
  },
  {
   "cell_type": "code",
   "execution_count": 10,
   "metadata": {},
   "outputs": [],
   "source": [
    "from textdistance import jaro\n"
   ]
  },
  {
   "cell_type": "code",
   "execution_count": null,
   "metadata": {},
   "outputs": [],
   "source": []
  },
  {
   "cell_type": "code",
   "execution_count": null,
   "metadata": {},
   "outputs": [],
   "source": []
  },
  {
   "cell_type": "code",
   "execution_count": null,
   "metadata": {},
   "outputs": [],
   "source": []
  },
  {
   "cell_type": "code",
   "execution_count": null,
   "metadata": {},
   "outputs": [],
   "source": []
  },
  {
   "cell_type": "code",
   "execution_count": 11,
   "metadata": {},
   "outputs": [],
   "source": [
    "from nltk.util import ngrams\n",
    "\n",
    "def line_ngram(line, n=2):\n",
    "    words = [w for w in line.split(' ') if len(w) != 0] # 空文字は取り除く\n",
    "    return list(ngrams(words, n))"
   ]
  },
  {
   "cell_type": "code",
   "execution_count": 12,
   "metadata": {},
   "outputs": [],
   "source": [
    "def clearn_by_hero(x):\n",
    "    custom_pipeline = [preprocessing.fillna\n",
    "                   , preprocessing.lowercase\n",
    "                   , preprocessing.remove_digits\n",
    "                   , preprocessing.remove_punctuation\n",
    "                   , preprocessing.remove_diacritics\n",
    "                   , preprocessing.remove_whitespace\n",
    "                   , preprocessing.remove_stopwords\n",
    "                  ]\n",
    "    return hero.clean(x, custom_pipeline)\n",
    "\n",
    "def create_n_gram(x, n=3):\n",
    "    x = clearn_by_hero(x)\n",
    "    x = pd.Series(x).map(lambda r: line_ngram(r, n=n))\n",
    "    return x\n",
    "\n",
    "class NameNGramBlock(BaseBlock):\n",
    "    def __init__(self, whole_df, n=3):\n",
    "        self.whole_df = whole_df\n",
    "        self.n = n\n",
    "\n",
    "    def fit(self, input_df, y=None):\n",
    "        name_grams = create_n_gram(self.whole_df['Name'], n=self.n)\n",
    "        grams = [x for row in name_grams for x in row if len(x) > 0]\n",
    "        top_grams = pd.Series(grams).value_counts().head(20).index\n",
    "\n",
    "        self.top_grams_ = top_grams\n",
    "        return self.transform(input_df)\n",
    "\n",
    "    def transform(self, input_df):\n",
    "        name_grams = create_n_gram(input_df['Name'], n=self.n)\n",
    "        output_df = pd.DataFrame()\n",
    "\n",
    "        for top in self.top_grams_:\n",
    "            s_top = '-'.join(top)\n",
    "            output_df[f'{s_top}'] = name_grams.map(lambda x: top in x).map(int)\n",
    "\n",
    "        return output_df.add_prefix('Name_has_').add_suffix(f'_n={self.n}')"
   ]
  },
  {
   "cell_type": "code",
   "execution_count": 13,
   "metadata": {},
   "outputs": [
    {
     "data": {
      "text/html": [
       "<div>\n",
       "<style scoped>\n",
       "    .dataframe tbody tr th:only-of-type {\n",
       "        vertical-align: middle;\n",
       "    }\n",
       "\n",
       "    .dataframe tbody tr th {\n",
       "        vertical-align: top;\n",
       "    }\n",
       "\n",
       "    .dataframe thead th {\n",
       "        text-align: right;\n",
       "    }\n",
       "</style>\n",
       "<table border=\"1\" class=\"dataframe\">\n",
       "  <thead>\n",
       "    <tr style=\"text-align: right;\">\n",
       "      <th></th>\n",
       "      <th>Name_has_major-league-baseball_n=3</th>\n",
       "      <th>Name_has_grand-theft-auto_n=3</th>\n",
       "      <th>Name_has_smackdown-vs-raw_n=3</th>\n",
       "      <th>Name_has_super-robot-taisen_n=3</th>\n",
       "      <th>Name_has_wwe-smackdown-vs_n=3</th>\n",
       "      <th>Name_has_shin-megami-tensei_n=3</th>\n",
       "      <th>Name_has_lego-star-wars_n=3</th>\n",
       "      <th>Name_has_dragon-ball-z_n=3</th>\n",
       "      <th>Name_has_katekyoo-hitman-reborn_n=3</th>\n",
       "      <th>Name_has_star-wars-force_n=3</th>\n",
       "      <th>Name_has_marvel-super-heroes_n=3</th>\n",
       "      <th>Name_has_romance-three-kingdoms_n=3</th>\n",
       "      <th>Name_has_hisshou-pachinko-pachi_n=3</th>\n",
       "      <th>Name_has_mx-vs-atv_n=3</th>\n",
       "      <th>Name_has_lego-harry-potter_n=3</th>\n",
       "      <th>Name_has_pachi-slot-kouryaku_n=3</th>\n",
       "      <th>Name_has_slot-kouryaku-series_n=3</th>\n",
       "      <th>Name_has_pachinko-pachi-slot_n=3</th>\n",
       "      <th>Name_has_rock-band-track_n=3</th>\n",
       "      <th>Name_has_harry-potter-years_n=3</th>\n",
       "    </tr>\n",
       "  </thead>\n",
       "  <tbody>\n",
       "    <tr>\n",
       "      <th>0</th>\n",
       "      <td>0</td>\n",
       "      <td>0</td>\n",
       "      <td>0</td>\n",
       "      <td>0</td>\n",
       "      <td>0</td>\n",
       "      <td>0</td>\n",
       "      <td>0</td>\n",
       "      <td>0</td>\n",
       "      <td>0</td>\n",
       "      <td>0</td>\n",
       "      <td>0</td>\n",
       "      <td>0</td>\n",
       "      <td>0</td>\n",
       "      <td>0</td>\n",
       "      <td>0</td>\n",
       "      <td>0</td>\n",
       "      <td>0</td>\n",
       "      <td>0</td>\n",
       "      <td>0</td>\n",
       "      <td>0</td>\n",
       "    </tr>\n",
       "    <tr>\n",
       "      <th>1</th>\n",
       "      <td>0</td>\n",
       "      <td>0</td>\n",
       "      <td>0</td>\n",
       "      <td>0</td>\n",
       "      <td>0</td>\n",
       "      <td>0</td>\n",
       "      <td>0</td>\n",
       "      <td>0</td>\n",
       "      <td>0</td>\n",
       "      <td>0</td>\n",
       "      <td>0</td>\n",
       "      <td>0</td>\n",
       "      <td>0</td>\n",
       "      <td>0</td>\n",
       "      <td>0</td>\n",
       "      <td>0</td>\n",
       "      <td>0</td>\n",
       "      <td>0</td>\n",
       "      <td>0</td>\n",
       "      <td>0</td>\n",
       "    </tr>\n",
       "    <tr>\n",
       "      <th>2</th>\n",
       "      <td>0</td>\n",
       "      <td>0</td>\n",
       "      <td>0</td>\n",
       "      <td>0</td>\n",
       "      <td>0</td>\n",
       "      <td>0</td>\n",
       "      <td>0</td>\n",
       "      <td>0</td>\n",
       "      <td>0</td>\n",
       "      <td>0</td>\n",
       "      <td>0</td>\n",
       "      <td>0</td>\n",
       "      <td>0</td>\n",
       "      <td>0</td>\n",
       "      <td>0</td>\n",
       "      <td>0</td>\n",
       "      <td>0</td>\n",
       "      <td>0</td>\n",
       "      <td>0</td>\n",
       "      <td>0</td>\n",
       "    </tr>\n",
       "    <tr>\n",
       "      <th>3</th>\n",
       "      <td>0</td>\n",
       "      <td>0</td>\n",
       "      <td>0</td>\n",
       "      <td>0</td>\n",
       "      <td>0</td>\n",
       "      <td>0</td>\n",
       "      <td>0</td>\n",
       "      <td>0</td>\n",
       "      <td>0</td>\n",
       "      <td>0</td>\n",
       "      <td>0</td>\n",
       "      <td>0</td>\n",
       "      <td>0</td>\n",
       "      <td>0</td>\n",
       "      <td>0</td>\n",
       "      <td>0</td>\n",
       "      <td>0</td>\n",
       "      <td>0</td>\n",
       "      <td>0</td>\n",
       "      <td>0</td>\n",
       "    </tr>\n",
       "    <tr>\n",
       "      <th>4</th>\n",
       "      <td>0</td>\n",
       "      <td>0</td>\n",
       "      <td>0</td>\n",
       "      <td>0</td>\n",
       "      <td>0</td>\n",
       "      <td>0</td>\n",
       "      <td>0</td>\n",
       "      <td>0</td>\n",
       "      <td>0</td>\n",
       "      <td>0</td>\n",
       "      <td>0</td>\n",
       "      <td>0</td>\n",
       "      <td>0</td>\n",
       "      <td>0</td>\n",
       "      <td>1</td>\n",
       "      <td>0</td>\n",
       "      <td>0</td>\n",
       "      <td>0</td>\n",
       "      <td>0</td>\n",
       "      <td>1</td>\n",
       "    </tr>\n",
       "  </tbody>\n",
       "</table>\n",
       "</div>"
      ],
      "text/plain": [
       "   Name_has_major-league-baseball_n=3  Name_has_grand-theft-auto_n=3  \\\n",
       "0                                   0                              0   \n",
       "1                                   0                              0   \n",
       "2                                   0                              0   \n",
       "3                                   0                              0   \n",
       "4                                   0                              0   \n",
       "\n",
       "   Name_has_smackdown-vs-raw_n=3  Name_has_super-robot-taisen_n=3  \\\n",
       "0                              0                                0   \n",
       "1                              0                                0   \n",
       "2                              0                                0   \n",
       "3                              0                                0   \n",
       "4                              0                                0   \n",
       "\n",
       "   Name_has_wwe-smackdown-vs_n=3  Name_has_shin-megami-tensei_n=3  \\\n",
       "0                              0                                0   \n",
       "1                              0                                0   \n",
       "2                              0                                0   \n",
       "3                              0                                0   \n",
       "4                              0                                0   \n",
       "\n",
       "   Name_has_lego-star-wars_n=3  Name_has_dragon-ball-z_n=3  \\\n",
       "0                            0                           0   \n",
       "1                            0                           0   \n",
       "2                            0                           0   \n",
       "3                            0                           0   \n",
       "4                            0                           0   \n",
       "\n",
       "   Name_has_katekyoo-hitman-reborn_n=3  Name_has_star-wars-force_n=3  \\\n",
       "0                                    0                             0   \n",
       "1                                    0                             0   \n",
       "2                                    0                             0   \n",
       "3                                    0                             0   \n",
       "4                                    0                             0   \n",
       "\n",
       "   Name_has_marvel-super-heroes_n=3  Name_has_romance-three-kingdoms_n=3  \\\n",
       "0                                 0                                    0   \n",
       "1                                 0                                    0   \n",
       "2                                 0                                    0   \n",
       "3                                 0                                    0   \n",
       "4                                 0                                    0   \n",
       "\n",
       "   Name_has_hisshou-pachinko-pachi_n=3  Name_has_mx-vs-atv_n=3  \\\n",
       "0                                    0                       0   \n",
       "1                                    0                       0   \n",
       "2                                    0                       0   \n",
       "3                                    0                       0   \n",
       "4                                    0                       0   \n",
       "\n",
       "   Name_has_lego-harry-potter_n=3  Name_has_pachi-slot-kouryaku_n=3  \\\n",
       "0                               0                                 0   \n",
       "1                               0                                 0   \n",
       "2                               0                                 0   \n",
       "3                               0                                 0   \n",
       "4                               1                                 0   \n",
       "\n",
       "   Name_has_slot-kouryaku-series_n=3  Name_has_pachinko-pachi-slot_n=3  \\\n",
       "0                                  0                                 0   \n",
       "1                                  0                                 0   \n",
       "2                                  0                                 0   \n",
       "3                                  0                                 0   \n",
       "4                                  0                                 0   \n",
       "\n",
       "   Name_has_rock-band-track_n=3  Name_has_harry-potter-years_n=3  \n",
       "0                             0                                0  \n",
       "1                             0                                0  \n",
       "2                             0                                0  \n",
       "3                             0                                0  \n",
       "4                             0                                1  "
      ]
     },
     "execution_count": 13,
     "metadata": {},
     "output_type": "execute_result"
    }
   ],
   "source": [
    "block = NameNGramBlock(train_df, n=3)\n",
    "block.fit(train_df).head()"
   ]
  },
  {
   "cell_type": "code",
   "execution_count": 14,
   "metadata": {},
   "outputs": [],
   "source": [
    "sales_columns = train_df.columns[train_df.columns.str.contains('Sales')].tolist()\n",
    "sales_columns = sorted(sales_columns)"
   ]
  },
  {
   "cell_type": "code",
   "execution_count": 15,
   "metadata": {},
   "outputs": [
    {
     "data": {
      "text/html": [
       "<div>\n",
       "<style scoped>\n",
       "    .dataframe tbody tr th:only-of-type {\n",
       "        vertical-align: middle;\n",
       "    }\n",
       "\n",
       "    .dataframe tbody tr th {\n",
       "        vertical-align: top;\n",
       "    }\n",
       "\n",
       "    .dataframe thead th {\n",
       "        text-align: right;\n",
       "    }\n",
       "</style>\n",
       "<table border=\"1\" class=\"dataframe\">\n",
       "  <thead>\n",
       "    <tr style=\"text-align: right;\">\n",
       "      <th></th>\n",
       "      <th>EU_Sales</th>\n",
       "      <th>Global_Sales</th>\n",
       "      <th>JP_Sales</th>\n",
       "      <th>NA_Sales</th>\n",
       "      <th>Other_Sales</th>\n",
       "    </tr>\n",
       "    <tr>\n",
       "      <th>Genre</th>\n",
       "      <th></th>\n",
       "      <th></th>\n",
       "      <th></th>\n",
       "      <th></th>\n",
       "      <th></th>\n",
       "    </tr>\n",
       "  </thead>\n",
       "  <tbody>\n",
       "    <tr>\n",
       "      <th>Action</th>\n",
       "      <td>30483</td>\n",
       "      <td>106343</td>\n",
       "      <td>10165</td>\n",
       "      <td>54010</td>\n",
       "      <td>11610</td>\n",
       "    </tr>\n",
       "    <tr>\n",
       "      <th>Adventure</th>\n",
       "      <td>4522</td>\n",
       "      <td>16634</td>\n",
       "      <td>3753</td>\n",
       "      <td>7229</td>\n",
       "      <td>1131</td>\n",
       "    </tr>\n",
       "    <tr>\n",
       "      <th>Fighting</th>\n",
       "      <td>5807</td>\n",
       "      <td>27258</td>\n",
       "      <td>5808</td>\n",
       "      <td>13313</td>\n",
       "      <td>2307</td>\n",
       "    </tr>\n",
       "    <tr>\n",
       "      <th>Misc</th>\n",
       "      <td>13411</td>\n",
       "      <td>48441</td>\n",
       "      <td>7803</td>\n",
       "      <td>22588</td>\n",
       "      <td>4601</td>\n",
       "    </tr>\n",
       "    <tr>\n",
       "      <th>Platform</th>\n",
       "      <td>16573</td>\n",
       "      <td>71149</td>\n",
       "      <td>12114</td>\n",
       "      <td>38119</td>\n",
       "      <td>4320</td>\n",
       "    </tr>\n",
       "    <tr>\n",
       "      <th>Puzzle</th>\n",
       "      <td>3871</td>\n",
       "      <td>19153</td>\n",
       "      <td>4497</td>\n",
       "      <td>9849</td>\n",
       "      <td>921</td>\n",
       "    </tr>\n",
       "    <tr>\n",
       "      <th>Racing</th>\n",
       "      <td>13039</td>\n",
       "      <td>44301</td>\n",
       "      <td>5026</td>\n",
       "      <td>21745</td>\n",
       "      <td>4465</td>\n",
       "    </tr>\n",
       "    <tr>\n",
       "      <th>Role-Playing</th>\n",
       "      <td>13536</td>\n",
       "      <td>72067</td>\n",
       "      <td>29886</td>\n",
       "      <td>24282</td>\n",
       "      <td>4348</td>\n",
       "    </tr>\n",
       "    <tr>\n",
       "      <th>Shooter</th>\n",
       "      <td>10890</td>\n",
       "      <td>43028</td>\n",
       "      <td>1964</td>\n",
       "      <td>26631</td>\n",
       "      <td>3506</td>\n",
       "    </tr>\n",
       "    <tr>\n",
       "      <th>Simulation</th>\n",
       "      <td>5357</td>\n",
       "      <td>18452</td>\n",
       "      <td>4056</td>\n",
       "      <td>7749</td>\n",
       "      <td>1288</td>\n",
       "    </tr>\n",
       "    <tr>\n",
       "      <th>Sports</th>\n",
       "      <td>14727</td>\n",
       "      <td>53700</td>\n",
       "      <td>6299</td>\n",
       "      <td>27919</td>\n",
       "      <td>4742</td>\n",
       "    </tr>\n",
       "    <tr>\n",
       "      <th>Strategy</th>\n",
       "      <td>2094</td>\n",
       "      <td>9199</td>\n",
       "      <td>3160</td>\n",
       "      <td>3354</td>\n",
       "      <td>571</td>\n",
       "    </tr>\n",
       "  </tbody>\n",
       "</table>\n",
       "</div>"
      ],
      "text/plain": [
       "              EU_Sales  Global_Sales  JP_Sales  NA_Sales  Other_Sales\n",
       "Genre                                                                \n",
       "Action           30483        106343     10165     54010        11610\n",
       "Adventure         4522         16634      3753      7229         1131\n",
       "Fighting          5807         27258      5808     13313         2307\n",
       "Misc             13411         48441      7803     22588         4601\n",
       "Platform         16573         71149     12114     38119         4320\n",
       "Puzzle            3871         19153      4497      9849          921\n",
       "Racing           13039         44301      5026     21745         4465\n",
       "Role-Playing     13536         72067     29886     24282         4348\n",
       "Shooter          10890         43028      1964     26631         3506\n",
       "Simulation        5357         18452      4056      7749         1288\n",
       "Sports           14727         53700      6299     27919         4742\n",
       "Strategy          2094          9199      3160      3354          571"
      ]
     },
     "execution_count": 15,
     "metadata": {},
     "output_type": "execute_result"
    }
   ],
   "source": [
    "key = 'Genre'\n",
    "\n",
    "input_df = train_df\n",
    "input_df[sales_columns].groupby(input_df[key]).sum()"
   ]
  },
  {
   "cell_type": "code",
   "execution_count": 16,
   "metadata": {},
   "outputs": [
    {
     "data": {
      "text/html": [
       "<div>\n",
       "<style scoped>\n",
       "    .dataframe tbody tr th:only-of-type {\n",
       "        vertical-align: middle;\n",
       "    }\n",
       "\n",
       "    .dataframe tbody tr th {\n",
       "        vertical-align: top;\n",
       "    }\n",
       "\n",
       "    .dataframe thead th {\n",
       "        text-align: right;\n",
       "    }\n",
       "</style>\n",
       "<table border=\"1\" class=\"dataframe\">\n",
       "  <thead>\n",
       "    <tr style=\"text-align: right;\">\n",
       "      <th></th>\n",
       "      <th>EU_Sales</th>\n",
       "      <th>Global_Sales</th>\n",
       "      <th>JP_Sales</th>\n",
       "      <th>NA_Sales</th>\n",
       "      <th>Other_Sales</th>\n",
       "    </tr>\n",
       "    <tr>\n",
       "      <th>Genre</th>\n",
       "      <th></th>\n",
       "      <th></th>\n",
       "      <th></th>\n",
       "      <th></th>\n",
       "      <th></th>\n",
       "    </tr>\n",
       "  </thead>\n",
       "  <tbody>\n",
       "    <tr>\n",
       "      <th>Action</th>\n",
       "      <td>0.143375</td>\n",
       "      <td>0.500176</td>\n",
       "      <td>0.047810</td>\n",
       "      <td>0.254032</td>\n",
       "      <td>0.054607</td>\n",
       "    </tr>\n",
       "    <tr>\n",
       "      <th>Adventure</th>\n",
       "      <td>0.135922</td>\n",
       "      <td>0.499985</td>\n",
       "      <td>0.112808</td>\n",
       "      <td>0.217289</td>\n",
       "      <td>0.033996</td>\n",
       "    </tr>\n",
       "    <tr>\n",
       "      <th>Fighting</th>\n",
       "      <td>0.106564</td>\n",
       "      <td>0.500211</td>\n",
       "      <td>0.106582</td>\n",
       "      <td>0.244307</td>\n",
       "      <td>0.042336</td>\n",
       "    </tr>\n",
       "    <tr>\n",
       "      <th>Misc</th>\n",
       "      <td>0.138480</td>\n",
       "      <td>0.500196</td>\n",
       "      <td>0.080573</td>\n",
       "      <td>0.233241</td>\n",
       "      <td>0.047509</td>\n",
       "    </tr>\n",
       "    <tr>\n",
       "      <th>Platform</th>\n",
       "      <td>0.116486</td>\n",
       "      <td>0.500081</td>\n",
       "      <td>0.085145</td>\n",
       "      <td>0.267925</td>\n",
       "      <td>0.030364</td>\n",
       "    </tr>\n",
       "    <tr>\n",
       "      <th>Puzzle</th>\n",
       "      <td>0.101094</td>\n",
       "      <td>0.500196</td>\n",
       "      <td>0.117443</td>\n",
       "      <td>0.257214</td>\n",
       "      <td>0.024053</td>\n",
       "    </tr>\n",
       "    <tr>\n",
       "      <th>Racing</th>\n",
       "      <td>0.147207</td>\n",
       "      <td>0.500147</td>\n",
       "      <td>0.056742</td>\n",
       "      <td>0.245495</td>\n",
       "      <td>0.050409</td>\n",
       "    </tr>\n",
       "    <tr>\n",
       "      <th>Role-Playing</th>\n",
       "      <td>0.093922</td>\n",
       "      <td>0.500052</td>\n",
       "      <td>0.207370</td>\n",
       "      <td>0.168486</td>\n",
       "      <td>0.030170</td>\n",
       "    </tr>\n",
       "    <tr>\n",
       "      <th>Shooter</th>\n",
       "      <td>0.126600</td>\n",
       "      <td>0.500215</td>\n",
       "      <td>0.022832</td>\n",
       "      <td>0.309594</td>\n",
       "      <td>0.040758</td>\n",
       "    </tr>\n",
       "    <tr>\n",
       "      <th>Simulation</th>\n",
       "      <td>0.145168</td>\n",
       "      <td>0.500027</td>\n",
       "      <td>0.109913</td>\n",
       "      <td>0.209989</td>\n",
       "      <td>0.034903</td>\n",
       "    </tr>\n",
       "    <tr>\n",
       "      <th>Sports</th>\n",
       "      <td>0.137140</td>\n",
       "      <td>0.500061</td>\n",
       "      <td>0.058657</td>\n",
       "      <td>0.259985</td>\n",
       "      <td>0.044158</td>\n",
       "    </tr>\n",
       "    <tr>\n",
       "      <th>Strategy</th>\n",
       "      <td>0.113941</td>\n",
       "      <td>0.500544</td>\n",
       "      <td>0.171945</td>\n",
       "      <td>0.182501</td>\n",
       "      <td>0.031070</td>\n",
       "    </tr>\n",
       "  </tbody>\n",
       "</table>\n",
       "</div>"
      ],
      "text/plain": [
       "              EU_Sales  Global_Sales  JP_Sales  NA_Sales  Other_Sales\n",
       "Genre                                                                \n",
       "Action        0.143375      0.500176  0.047810  0.254032     0.054607\n",
       "Adventure     0.135922      0.499985  0.112808  0.217289     0.033996\n",
       "Fighting      0.106564      0.500211  0.106582  0.244307     0.042336\n",
       "Misc          0.138480      0.500196  0.080573  0.233241     0.047509\n",
       "Platform      0.116486      0.500081  0.085145  0.267925     0.030364\n",
       "Puzzle        0.101094      0.500196  0.117443  0.257214     0.024053\n",
       "Racing        0.147207      0.500147  0.056742  0.245495     0.050409\n",
       "Role-Playing  0.093922      0.500052  0.207370  0.168486     0.030170\n",
       "Shooter       0.126600      0.500215  0.022832  0.309594     0.040758\n",
       "Simulation    0.145168      0.500027  0.109913  0.209989     0.034903\n",
       "Sports        0.137140      0.500061  0.058657  0.259985     0.044158\n",
       "Strategy      0.113941      0.500544  0.171945  0.182501     0.031070"
      ]
     },
     "execution_count": 16,
     "metadata": {},
     "output_type": "execute_result"
    }
   ],
   "source": [
    "key = 'Genre'\n",
    "\n",
    "input_df = train_df\n",
    "\n",
    "_df = input_df[sales_columns].groupby(input_df[key]).sum()\n",
    "_df = (_df.T / _df.sum(axis=1)).T\n",
    "_df"
   ]
  },
  {
   "cell_type": "code",
   "execution_count": 17,
   "metadata": {},
   "outputs": [],
   "source": [
    "class SalesPortfolioBlock(BaseBlock):\n",
    "    \"\"\"売上ポートフォリオ\"\"\"\n",
    "\n",
    "    def __init__(self, key: str):\n",
    "        self.key = key    \n",
    "        self.meta_df = None\n",
    "\n",
    "    def fit(self, input_df):\n",
    "        _df = input_df[sales_columns].groupby(input_df[self.key]).sum()\n",
    "        _df = (_df.T / _df.sum(axis=1)).T\n",
    "        self.meta_df = _df\n",
    "        return self.transform(input_df)\n",
    "\n",
    "    def transform(self, input_df):\n",
    "        out_df = pd.merge(input_df[self.key], self.meta_df, on=self.key, how='left').drop(columns=[self.key])\n",
    "        out_df = out_df.add_prefix(f'SP@{self.key}_')\n",
    "        return out_df"
   ]
  },
  {
   "cell_type": "code",
   "execution_count": 18,
   "metadata": {},
   "outputs": [],
   "source": [
    "class WrapperBlock(BaseBlock):\n",
    "    def __init__(self, function):\n",
    "        self.function = function\n",
    "\n",
    "    def transform(self, input_df):\n",
    "        return self.function(input_df)"
   ]
  },
  {
   "cell_type": "code",
   "execution_count": 19,
   "metadata": {},
   "outputs": [],
   "source": [
    "# https://github.com/nyk510/vivid/blob/master/vivid/utils.py\n",
    "from contextlib import contextmanager\n",
    "from time import time\n",
    "\n",
    "@contextmanager\n",
    "def timer(logger=None, format_str='{:.3f}[s]', prefix=None, suffix=None):\n",
    "    if prefix: format_str = str(prefix) + format_str\n",
    "    if suffix: format_str = format_str + str(suffix)\n",
    "    start = time()\n",
    "    yield\n",
    "    d = time() - start\n",
    "    out_str = format_str.format(d)\n",
    "    if logger:\n",
    "        logger.info(out_str)\n",
    "    else:\n",
    "        print(out_str)"
   ]
  },
  {
   "cell_type": "code",
   "execution_count": 20,
   "metadata": {},
   "outputs": [],
   "source": [
    "process_blocks = [\n",
    "    WrapperBlock(create_continuous_features),\n",
    "    WrapperBlock(create_boolean_feature),\n",
    "    NameNGramBlock(whole_df, n=3),\n",
    "    *[OneHotBlock(c) for c in ['Platform', 'Genre', 'Publisher', 'Rating']],\n",
    "    *[CountEncodingBlock(c, whole_df=whole_df) for c in ['Name', 'Platform', 'Year_of_Release']],\n",
    "    *[SalesPortfolioBlock(c) for c in ['Genre']]\n",
    "]"
   ]
  },
  {
   "cell_type": "code",
   "execution_count": 21,
   "metadata": {},
   "outputs": [],
   "source": [
    "from tqdm import tqdm\n",
    "\n",
    "\n",
    "def get_function(block, is_train):\n",
    "    s = mapping = {\n",
    "        True: 'fit',\n",
    "        False: 'transform'\n",
    "    }.get(is_train)\n",
    "    return getattr(block, s)\n",
    "\n",
    "\n",
    "def to_feature(input_df, \n",
    "               blocks,\n",
    "               is_train=False):\n",
    "    out_df = pd.DataFrame()\n",
    "\n",
    "    for block in tqdm(blocks, total=len(blocks)):\n",
    "        func = get_function(block, is_train)\n",
    "\n",
    "        with timer(prefix='create ' + str(block) + ' '):\n",
    "            _df = func(input_df)\n",
    "\n",
    "        assert len(_df) == len(input_df), func.__name__\n",
    "        out_df = pd.concat([out_df, _df], axis=1)\n",
    "\n",
    "    return out_df\n"
   ]
  },
  {
   "cell_type": "code",
   "execution_count": 22,
   "metadata": {},
   "outputs": [
    {
     "name": "stderr",
     "output_type": "stream",
     "text": [
      "  0%|          | 0/11 [00:00<?, ?it/s]"
     ]
    },
    {
     "name": "stdout",
     "output_type": "stream",
     "text": [
      "create <__main__.WrapperBlock object at 0x7fa7ee7ae748> 0.007[s]\n",
      "create <__main__.WrapperBlock object at 0x7fa7ee7ae828> 0.011[s]\n"
     ]
    },
    {
     "name": "stderr",
     "output_type": "stream",
     "text": [
      "100%|██████████| 11/11 [00:00<00:00, 30.97it/s]\n",
      "  0%|          | 0/11 [00:00<?, ?it/s]"
     ]
    },
    {
     "name": "stdout",
     "output_type": "stream",
     "text": [
      "create <__main__.NameNGramBlock object at 0x7fa7ee7ae898> 0.303[s]\n",
      "create <__main__.OneHotBlock object at 0x7fa7ee7ae860> 0.003[s]\n",
      "create <__main__.OneHotBlock object at 0x7fa7ee7aef98> 0.002[s]\n",
      "create <__main__.OneHotBlock object at 0x7fa7ee7aef60> 0.003[s]\n",
      "create <__main__.OneHotBlock object at 0x7fa7ee7aeac8> 0.002[s]\n",
      "create <__main__.CountEncodingBlock object at 0x7fa7ee7aeef0> 0.005[s]\n",
      "create <__main__.CountEncodingBlock object at 0x7fa7ee7ae8d0> 0.003[s]\n",
      "create <__main__.CountEncodingBlock object at 0x7fa7ee7ae978> 0.002[s]\n",
      "create <__main__.SalesPortfolioBlock object at 0x7fa7ee7ae9b0> 0.005[s]\n",
      "create <__main__.WrapperBlock object at 0x7fa7ee7ae748> 0.003[s]\n",
      "create <__main__.WrapperBlock object at 0x7fa7ee7ae828> 0.011[s]\n"
     ]
    },
    {
     "name": "stderr",
     "output_type": "stream",
     "text": [
      "100%|██████████| 11/11 [00:00<00:00, 46.32it/s]"
     ]
    },
    {
     "name": "stdout",
     "output_type": "stream",
     "text": [
      "create <__main__.NameNGramBlock object at 0x7fa7ee7ae898> 0.196[s]\n",
      "create <__main__.OneHotBlock object at 0x7fa7ee7ae860> 0.001[s]\n",
      "create <__main__.OneHotBlock object at 0x7fa7ee7aef98> 0.001[s]\n",
      "create <__main__.OneHotBlock object at 0x7fa7ee7aef60> 0.001[s]\n",
      "create <__main__.OneHotBlock object at 0x7fa7ee7aeac8> 0.001[s]\n",
      "create <__main__.CountEncodingBlock object at 0x7fa7ee7aeef0> 0.005[s]\n",
      "create <__main__.CountEncodingBlock object at 0x7fa7ee7ae8d0> 0.003[s]\n",
      "create <__main__.CountEncodingBlock object at 0x7fa7ee7ae978> 0.002[s]\n",
      "create <__main__.SalesPortfolioBlock object at 0x7fa7ee7ae9b0> 0.002[s]\n"
     ]
    },
    {
     "name": "stderr",
     "output_type": "stream",
     "text": [
      "\n"
     ]
    }
   ],
   "source": [
    "train_feat_df = to_feature(train_df, process_blocks, is_train=True)\n",
    "test_feat_df = to_feature(test_df, process_blocks)"
   ]
  },
  {
   "cell_type": "code",
   "execution_count": 23,
   "metadata": {},
   "outputs": [
    {
     "data": {
      "text/plain": [
       "Index(['Critic_Score', 'Critic_Count', 'User_Score', 'User_Count',\n",
       "       'Year_of_Release', 'User_Score_is_tbd', 'Developer_has_japan',\n",
       "       'Developer_has_nintendo', 'Name_has_jikkyou-powerful-pro_n=3',\n",
       "       'Name_has_pro-evolution-soccer_n=3',\n",
       "       ...\n",
       "       'OH_Rating=M', 'OH_Rating=E10+', 'CE_Name', 'CE_Platform',\n",
       "       'CE_Year_of_Release', 'SP@Genre_EU_Sales', 'SP@Genre_Global_Sales',\n",
       "       'SP@Genre_JP_Sales', 'SP@Genre_NA_Sales', 'SP@Genre_Other_Sales'],\n",
       "      dtype='object', length=106)"
      ]
     },
     "execution_count": 23,
     "metadata": {},
     "output_type": "execute_result"
    }
   ],
   "source": [
    "train_feat_df.columns"
   ]
  },
  {
   "cell_type": "code",
   "execution_count": 24,
   "metadata": {},
   "outputs": [],
   "source": [
    "X = train_feat_df.astype('float64')\n",
    "y = train_df['Global_Sales'].astype('float64')\n",
    "test_df = test_feat_df"
   ]
  },
  {
   "cell_type": "code",
   "execution_count": null,
   "metadata": {},
   "outputs": [],
   "source": []
  },
  {
   "cell_type": "code",
   "execution_count": null,
   "metadata": {},
   "outputs": [],
   "source": []
  },
  {
   "cell_type": "code",
   "execution_count": null,
   "metadata": {},
   "outputs": [],
   "source": []
  },
  {
   "cell_type": "code",
   "execution_count": 29,
   "metadata": {},
   "outputs": [],
   "source": [
    "train_column = train_df.columns"
   ]
  },
  {
   "cell_type": "code",
   "execution_count": null,
   "metadata": {},
   "outputs": [],
   "source": []
  },
  {
   "cell_type": "code",
   "execution_count": 30,
   "metadata": {},
   "outputs": [],
   "source": [
    "X_column = []\n",
    "for s in train_column:\n",
    "    if not'Sales' in s:\n",
    "        X_column.append(s)"
   ]
  },
  {
   "cell_type": "code",
   "execution_count": 31,
   "metadata": {},
   "outputs": [],
   "source": [
    "train_df_drop = train_df[X_column]"
   ]
  },
  {
   "cell_type": "code",
   "execution_count": 32,
   "metadata": {},
   "outputs": [],
   "source": [
    "# User_Scoreの変換\n",
    "def make_user_score(df):\n",
    "    d = df['User_Score'].copy()\n",
    "    d[d == 'tbd'] = 'nan'\n",
    "    df.loc[:,'User_Score'] = d\n",
    "    \n",
    "    return df"
   ]
  },
  {
   "cell_type": "code",
   "execution_count": 33,
   "metadata": {},
   "outputs": [
    {
     "name": "stderr",
     "output_type": "stream",
     "text": [
      "/usr/local/lib/python3.6/dist-packages/pandas/core/indexing.py:1745: SettingWithCopyWarning:\n",
      "\n",
      "\n",
      "A value is trying to be set on a copy of a slice from a DataFrame.\n",
      "Try using .loc[row_indexer,col_indexer] = value instead\n",
      "\n",
      "See the caveats in the documentation: https://pandas.pydata.org/pandas-docs/stable/user_guide/indexing.html#returning-a-view-versus-a-copy\n",
      "\n",
      "/usr/local/lib/python3.6/dist-packages/pandas/core/computation/expressions.py:68: FutureWarning:\n",
      "\n",
      "elementwise comparison failed; returning scalar instead, but in the future will perform elementwise comparison\n",
      "\n"
     ]
    }
   ],
   "source": [
    "train_df_drop = make_user_score(train_df_drop)\n",
    "test_df = make_user_score(test_df)"
   ]
  },
  {
   "cell_type": "code",
   "execution_count": 34,
   "metadata": {},
   "outputs": [],
   "source": [
    "# Ratingの変換"
   ]
  },
  {
   "cell_type": "code",
   "execution_count": 35,
   "metadata": {},
   "outputs": [],
   "source": [
    "def encode_label(train, test):\n",
    "    cate_col = ['Rating', 'Platform', 'Genre']\n",
    "    oe = ce.OrdinalEncoder(cols=cate_col, drop_invariant=True, handle_missing='return_nan')\n",
    "    train.loc[:,cate_col] = oe.fit_transform(train[cate_col])\n",
    "    test.loc[:,cate_col] = oe.transform(test[cate_col])\n",
    "    return train, test"
   ]
  },
  {
   "cell_type": "code",
   "execution_count": 36,
   "metadata": {},
   "outputs": [
    {
     "name": "stderr",
     "output_type": "stream",
     "text": [
      "/home/user/.local/lib/python3.6/site-packages/category_encoders/utils.py:21: FutureWarning:\n",
      "\n",
      "is_categorical is deprecated and will be removed in a future version.  Use is_categorical_dtype instead\n",
      "\n",
      "/usr/local/lib/python3.6/dist-packages/pandas/core/indexing.py:1717: SettingWithCopyWarning:\n",
      "\n",
      "\n",
      "A value is trying to be set on a copy of a slice from a DataFrame.\n",
      "Try using .loc[row_indexer,col_indexer] = value instead\n",
      "\n",
      "See the caveats in the documentation: https://pandas.pydata.org/pandas-docs/stable/user_guide/indexing.html#returning-a-view-versus-a-copy\n",
      "\n"
     ]
    },
    {
     "ename": "KeyError",
     "evalue": "\"None of [Index(['Rating', 'Platform', 'Genre'], dtype='object')] are in the [columns]\"",
     "output_type": "error",
     "traceback": [
      "\u001b[0;31m---------------------------------------------------------------------------\u001b[0m",
      "\u001b[0;31mKeyError\u001b[0m                                  Traceback (most recent call last)",
      "\u001b[0;32m<ipython-input-36-6305deb67229>\u001b[0m in \u001b[0;36m<module>\u001b[0;34m\u001b[0m\n\u001b[0;32m----> 1\u001b[0;31m \u001b[0mtrain_df_drop\u001b[0m\u001b[0;34m,\u001b[0m \u001b[0mtest_df\u001b[0m \u001b[0;34m=\u001b[0m \u001b[0mencode_label\u001b[0m\u001b[0;34m(\u001b[0m\u001b[0mtrain_df_drop\u001b[0m\u001b[0;34m,\u001b[0m \u001b[0mtest_df\u001b[0m\u001b[0;34m)\u001b[0m\u001b[0;34m\u001b[0m\u001b[0;34m\u001b[0m\u001b[0m\n\u001b[0m",
      "\u001b[0;32m<ipython-input-35-eb0776017fe3>\u001b[0m in \u001b[0;36mencode_label\u001b[0;34m(train, test)\u001b[0m\n\u001b[1;32m      3\u001b[0m     \u001b[0moe\u001b[0m \u001b[0;34m=\u001b[0m \u001b[0mce\u001b[0m\u001b[0;34m.\u001b[0m\u001b[0mOrdinalEncoder\u001b[0m\u001b[0;34m(\u001b[0m\u001b[0mcols\u001b[0m\u001b[0;34m=\u001b[0m\u001b[0mcate_col\u001b[0m\u001b[0;34m,\u001b[0m \u001b[0mdrop_invariant\u001b[0m\u001b[0;34m=\u001b[0m\u001b[0;32mTrue\u001b[0m\u001b[0;34m,\u001b[0m \u001b[0mhandle_missing\u001b[0m\u001b[0;34m=\u001b[0m\u001b[0;34m'return_nan'\u001b[0m\u001b[0;34m)\u001b[0m\u001b[0;34m\u001b[0m\u001b[0;34m\u001b[0m\u001b[0m\n\u001b[1;32m      4\u001b[0m     \u001b[0mtrain\u001b[0m\u001b[0;34m.\u001b[0m\u001b[0mloc\u001b[0m\u001b[0;34m[\u001b[0m\u001b[0;34m:\u001b[0m\u001b[0;34m,\u001b[0m\u001b[0mcate_col\u001b[0m\u001b[0;34m]\u001b[0m \u001b[0;34m=\u001b[0m \u001b[0moe\u001b[0m\u001b[0;34m.\u001b[0m\u001b[0mfit_transform\u001b[0m\u001b[0;34m(\u001b[0m\u001b[0mtrain\u001b[0m\u001b[0;34m[\u001b[0m\u001b[0mcate_col\u001b[0m\u001b[0;34m]\u001b[0m\u001b[0;34m)\u001b[0m\u001b[0;34m\u001b[0m\u001b[0;34m\u001b[0m\u001b[0m\n\u001b[0;32m----> 5\u001b[0;31m     \u001b[0mtest\u001b[0m\u001b[0;34m.\u001b[0m\u001b[0mloc\u001b[0m\u001b[0;34m[\u001b[0m\u001b[0;34m:\u001b[0m\u001b[0;34m,\u001b[0m\u001b[0mcate_col\u001b[0m\u001b[0;34m]\u001b[0m \u001b[0;34m=\u001b[0m \u001b[0moe\u001b[0m\u001b[0;34m.\u001b[0m\u001b[0mtransform\u001b[0m\u001b[0;34m(\u001b[0m\u001b[0mtest\u001b[0m\u001b[0;34m[\u001b[0m\u001b[0mcate_col\u001b[0m\u001b[0;34m]\u001b[0m\u001b[0;34m)\u001b[0m\u001b[0;34m\u001b[0m\u001b[0;34m\u001b[0m\u001b[0m\n\u001b[0m\u001b[1;32m      6\u001b[0m     \u001b[0;32mreturn\u001b[0m \u001b[0mtrain\u001b[0m\u001b[0;34m,\u001b[0m \u001b[0mtest\u001b[0m\u001b[0;34m\u001b[0m\u001b[0;34m\u001b[0m\u001b[0m\n",
      "\u001b[0;32m/usr/local/lib/python3.6/dist-packages/pandas/core/frame.py\u001b[0m in \u001b[0;36m__getitem__\u001b[0;34m(self, key)\u001b[0m\n\u001b[1;32m   2906\u001b[0m             \u001b[0;32mif\u001b[0m \u001b[0mis_iterator\u001b[0m\u001b[0;34m(\u001b[0m\u001b[0mkey\u001b[0m\u001b[0;34m)\u001b[0m\u001b[0;34m:\u001b[0m\u001b[0;34m\u001b[0m\u001b[0;34m\u001b[0m\u001b[0m\n\u001b[1;32m   2907\u001b[0m                 \u001b[0mkey\u001b[0m \u001b[0;34m=\u001b[0m \u001b[0mlist\u001b[0m\u001b[0;34m(\u001b[0m\u001b[0mkey\u001b[0m\u001b[0;34m)\u001b[0m\u001b[0;34m\u001b[0m\u001b[0;34m\u001b[0m\u001b[0m\n\u001b[0;32m-> 2908\u001b[0;31m             \u001b[0mindexer\u001b[0m \u001b[0;34m=\u001b[0m \u001b[0mself\u001b[0m\u001b[0;34m.\u001b[0m\u001b[0mloc\u001b[0m\u001b[0;34m.\u001b[0m\u001b[0m_get_listlike_indexer\u001b[0m\u001b[0;34m(\u001b[0m\u001b[0mkey\u001b[0m\u001b[0;34m,\u001b[0m \u001b[0maxis\u001b[0m\u001b[0;34m=\u001b[0m\u001b[0;36m1\u001b[0m\u001b[0;34m,\u001b[0m \u001b[0mraise_missing\u001b[0m\u001b[0;34m=\u001b[0m\u001b[0;32mTrue\u001b[0m\u001b[0;34m)\u001b[0m\u001b[0;34m[\u001b[0m\u001b[0;36m1\u001b[0m\u001b[0;34m]\u001b[0m\u001b[0;34m\u001b[0m\u001b[0;34m\u001b[0m\u001b[0m\n\u001b[0m\u001b[1;32m   2909\u001b[0m \u001b[0;34m\u001b[0m\u001b[0m\n\u001b[1;32m   2910\u001b[0m         \u001b[0;31m# take() does not accept boolean indexers\u001b[0m\u001b[0;34m\u001b[0m\u001b[0;34m\u001b[0m\u001b[0;34m\u001b[0m\u001b[0m\n",
      "\u001b[0;32m/usr/local/lib/python3.6/dist-packages/pandas/core/indexing.py\u001b[0m in \u001b[0;36m_get_listlike_indexer\u001b[0;34m(self, key, axis, raise_missing)\u001b[0m\n\u001b[1;32m   1252\u001b[0m             \u001b[0mkeyarr\u001b[0m\u001b[0;34m,\u001b[0m \u001b[0mindexer\u001b[0m\u001b[0;34m,\u001b[0m \u001b[0mnew_indexer\u001b[0m \u001b[0;34m=\u001b[0m \u001b[0max\u001b[0m\u001b[0;34m.\u001b[0m\u001b[0m_reindex_non_unique\u001b[0m\u001b[0;34m(\u001b[0m\u001b[0mkeyarr\u001b[0m\u001b[0;34m)\u001b[0m\u001b[0;34m\u001b[0m\u001b[0;34m\u001b[0m\u001b[0m\n\u001b[1;32m   1253\u001b[0m \u001b[0;34m\u001b[0m\u001b[0m\n\u001b[0;32m-> 1254\u001b[0;31m         \u001b[0mself\u001b[0m\u001b[0;34m.\u001b[0m\u001b[0m_validate_read_indexer\u001b[0m\u001b[0;34m(\u001b[0m\u001b[0mkeyarr\u001b[0m\u001b[0;34m,\u001b[0m \u001b[0mindexer\u001b[0m\u001b[0;34m,\u001b[0m \u001b[0maxis\u001b[0m\u001b[0;34m,\u001b[0m \u001b[0mraise_missing\u001b[0m\u001b[0;34m=\u001b[0m\u001b[0mraise_missing\u001b[0m\u001b[0;34m)\u001b[0m\u001b[0;34m\u001b[0m\u001b[0;34m\u001b[0m\u001b[0m\n\u001b[0m\u001b[1;32m   1255\u001b[0m         \u001b[0;32mreturn\u001b[0m \u001b[0mkeyarr\u001b[0m\u001b[0;34m,\u001b[0m \u001b[0mindexer\u001b[0m\u001b[0;34m\u001b[0m\u001b[0;34m\u001b[0m\u001b[0m\n\u001b[1;32m   1256\u001b[0m \u001b[0;34m\u001b[0m\u001b[0m\n",
      "\u001b[0;32m/usr/local/lib/python3.6/dist-packages/pandas/core/indexing.py\u001b[0m in \u001b[0;36m_validate_read_indexer\u001b[0;34m(self, key, indexer, axis, raise_missing)\u001b[0m\n\u001b[1;32m   1296\u001b[0m             \u001b[0;32mif\u001b[0m \u001b[0mmissing\u001b[0m \u001b[0;34m==\u001b[0m \u001b[0mlen\u001b[0m\u001b[0;34m(\u001b[0m\u001b[0mindexer\u001b[0m\u001b[0;34m)\u001b[0m\u001b[0;34m:\u001b[0m\u001b[0;34m\u001b[0m\u001b[0;34m\u001b[0m\u001b[0m\n\u001b[1;32m   1297\u001b[0m                 \u001b[0maxis_name\u001b[0m \u001b[0;34m=\u001b[0m \u001b[0mself\u001b[0m\u001b[0;34m.\u001b[0m\u001b[0mobj\u001b[0m\u001b[0;34m.\u001b[0m\u001b[0m_get_axis_name\u001b[0m\u001b[0;34m(\u001b[0m\u001b[0maxis\u001b[0m\u001b[0;34m)\u001b[0m\u001b[0;34m\u001b[0m\u001b[0;34m\u001b[0m\u001b[0m\n\u001b[0;32m-> 1298\u001b[0;31m                 \u001b[0;32mraise\u001b[0m \u001b[0mKeyError\u001b[0m\u001b[0;34m(\u001b[0m\u001b[0;34mf\"None of [{key}] are in the [{axis_name}]\"\u001b[0m\u001b[0;34m)\u001b[0m\u001b[0;34m\u001b[0m\u001b[0;34m\u001b[0m\u001b[0m\n\u001b[0m\u001b[1;32m   1299\u001b[0m \u001b[0;34m\u001b[0m\u001b[0m\n\u001b[1;32m   1300\u001b[0m             \u001b[0;31m# We (temporarily) allow for some missing keys with .loc, except in\u001b[0m\u001b[0;34m\u001b[0m\u001b[0;34m\u001b[0m\u001b[0;34m\u001b[0m\u001b[0m\n",
      "\u001b[0;31mKeyError\u001b[0m: \"None of [Index(['Rating', 'Platform', 'Genre'], dtype='object')] are in the [columns]\""
     ]
    }
   ],
   "source": [
    "train_df_drop, test_df = encode_label(train_df_drop, test_df)"
   ]
  },
  {
   "cell_type": "code",
   "execution_count": 37,
   "metadata": {},
   "outputs": [],
   "source": [
    "custom_pipeline = [preprocessing.fillna\n",
    "                   , preprocessing.lowercase\n",
    "                   , preprocessing.remove_digits\n",
    "                   , preprocessing.remove_punctuation\n",
    "                   , preprocessing.remove_diacritics\n",
    "                   , preprocessing.remove_whitespace\n",
    "                  ]"
   ]
  },
  {
   "cell_type": "code",
   "execution_count": 73,
   "metadata": {},
   "outputs": [],
   "source": [
    "def translate_name(df1, df2):\n",
    "    df = pd.concat([df1, df2])\n",
    "    C_Name = hero.clean(df['Name'], pipeline=custom_pipeline)\n",
    "    sentences = []\n",
    "    for sentence in C_Name:\n",
    "        data = sentence.split()\n",
    "        sentences.append(data)\n",
    "    model = word2vec.Word2Vec(sentences,\n",
    "                              size=200,\n",
    "                              min_count=1,\n",
    "                              window=5,\n",
    "                              iter=20,\n",
    "                              sg = 0)\n",
    "    w_vec = []\n",
    "    for sentence in C_Name:\n",
    "        data = sentence.split()\n",
    "        tmp = np.zeros(200)\n",
    "        for d in data:\n",
    "            tmp += model[d]\n",
    "        w_vec.append(tmp)\n",
    "    w_vec = np.array(w_vec)\n",
    "    pca = PCA(n_components=2)\n",
    "    w_vec_pca = pca.fit_transform(w_vec)\n",
    "    \n",
    "    df['Name_0'] = w_vec_pca[:, 0]\n",
    "    df['Name_1'] = w_vec_pca[:, 1]\n",
    "    df1 = df.iloc[:len(df1), :]\n",
    "    df2 = df.iloc[len(df1):, :]\n",
    "    \n",
    "#     n_pca = hero.pca(hero.tfidf(hero.clean(df['Developer'], pipeline=custom_pipeline)))\n",
    "#     n_pca_l = []\n",
    "#     for i in range(len(n_pca)):\n",
    "#         n_pca_l.append(n_pca.values[i])\n",
    "#     n_pca_np = np.array(n_pca_l)\n",
    "#     df['Developer_0'] = n_pca_np[:, 0]\n",
    "#     df['Developer_1'] = n_pca_np[:, 1]\n",
    "    \n",
    "#     n_pca = hero.pca(hero.tfidf(hero.clean(df['Publisher'], pipeline=custom_pipeline)))\n",
    "#     n_pca_l = []\n",
    "#     for i in range(len(n_pca)):\n",
    "#         n_pca_l.append(n_pca.values[i])\n",
    "#     n_pca_np = np.array(n_pca_l)\n",
    "#     df['Publisher_0'] = n_pca_np[:, 0]\n",
    "#     df['Publisher_1'] = n_pca_np[:, 1]\n",
    "    \n",
    "    return df1, df2"
   ]
  },
  {
   "cell_type": "code",
   "execution_count": 74,
   "metadata": {},
   "outputs": [
    {
     "name": "stderr",
     "output_type": "stream",
     "text": [
      "/usr/local/lib/python3.6/dist-packages/ipykernel_launcher.py:19: DeprecationWarning:\n",
      "\n",
      "Call to deprecated `__getitem__` (Method will be removed in 4.0.0, use self.wv.__getitem__() instead).\n",
      "\n"
     ]
    }
   ],
   "source": [
    "train_df_drop, test_df = translate_name(train_df_drop, test_df)\n"
   ]
  },
  {
   "cell_type": "code",
   "execution_count": 75,
   "metadata": {},
   "outputs": [
    {
     "data": {
      "text/plain": [
       "<matplotlib.collections.PathCollection at 0x7f000867fa90>"
      ]
     },
     "execution_count": 75,
     "metadata": {},
     "output_type": "execute_result"
    },
    {
     "data": {
      "image/png": "[encoded data removed]",
      "text/plain": [
       "<Figure size 432x288 with 1 Axes>"
      ]
     },
     "metadata": {
      "needs_background": "light"
     },
     "output_type": "display_data"
    }
   ],
   "source": [
    "plt.scatter(train_df_drop['Name_0'].values, train_df_drop['Name_1'].values)\n",
    "plt.scatter(test_df['Name_0'].values, test_df['Name_1'].values)"
   ]
  },
  {
   "cell_type": "code",
   "execution_count": 76,
   "metadata": {},
   "outputs": [
    {
     "data": {
      "image/png": "[encoded data removed]",
      "text/plain": [
       "<Figure size 1152x432 with 1 Axes>"
      ]
     },
     "metadata": {
      "needs_background": "light"
     },
     "output_type": "display_data"
    }
   ],
   "source": [
    "cols = 'Name_0'\n",
    "fig, ax = plt.subplots(figsize = (16, 6))\n",
    "\n",
    "sns.distplot(train_df_drop['Name_0'].values, \n",
    "             hist=True, rug=True, label='train',kde_kws=dict(linewidth=4))\n",
    "sns.distplot(test_df['Name_0'].values, \n",
    "             hist=True, rug=True, label='test', kde_kws=dict(linewidth=4))\n",
    "ax.set_title(f'Distribution for {cols}', fontsize=16)\n",
    "sns.despine(left=True, bottom=True)\n",
    "plt.legend()\n",
    "plt.show()"
   ]
  },
  {
   "cell_type": "code",
   "execution_count": 77,
   "metadata": {},
   "outputs": [
    {
     "data": {
      "image/png": "[encoded data removed]",
      "text/plain": [
       "<Figure size 1152x432 with 1 Axes>"
      ]
     },
     "metadata": {
      "needs_background": "light"
     },
     "output_type": "display_data"
    }
   ],
   "source": [
    "cols = 'Name_1'\n",
    "fig, ax = plt.subplots(figsize = (16, 6))\n",
    "\n",
    "sns.distplot(train_df_drop['Name_1'].values, \n",
    "             hist=True, rug=True, label='train',kde_kws=dict(linewidth=4))\n",
    "sns.distplot(test_df['Name_1'].values, \n",
    "             hist=True, rug=True, label='test', kde_kws=dict(linewidth=4))\n",
    "ax.set_title(f'Distribution for {cols}', fontsize=16)\n",
    "sns.despine(left=True, bottom=True)\n",
    "plt.legend()\n",
    "plt.show()"
   ]
  },
  {
   "cell_type": "code",
   "execution_count": 78,
   "metadata": {},
   "outputs": [],
   "source": [
    "def translate_developer(df1, df2):\n",
    "    df = pd.concat([df1, df2])\n",
    "    C_Name = hero.clean(df['Publisher'], pipeline=custom_pipeline)\n",
    "    sentences = []\n",
    "    for sentence in C_Name:\n",
    "        data = sentence.split()\n",
    "        sentences.append(data)\n",
    "    model = word2vec.Word2Vec(sentences,\n",
    "                              size=200,\n",
    "                              min_count=1,\n",
    "                              window=5,\n",
    "                              iter=20,\n",
    "                              sg = 0)\n",
    "    w_vec = []\n",
    "    for sentence in C_Name:\n",
    "        data = sentence.split()\n",
    "        tmp = np.zeros(200)\n",
    "        for d in data:\n",
    "            tmp += model[d]\n",
    "        w_vec.append(tmp)\n",
    "    w_vec = np.array(w_vec)\n",
    "    pca = PCA(n_components=2)\n",
    "    w_vec_pca = pca.fit_transform(w_vec)\n",
    "    \n",
    "    df['Developer_0'] = w_vec_pca[:, 0]\n",
    "    df['Developer_1'] = w_vec_pca[:, 1]\n",
    "    df1 = df.iloc[:len(df1), :]\n",
    "    df2 = df.iloc[len(df1):, :]\n",
    "    \n",
    "#     n_pca = hero.pca(hero.tfidf(hero.clean(df['Developer'], pipeline=custom_pipeline)))\n",
    "#     n_pca_l = []\n",
    "#     for i in range(len(n_pca)):\n",
    "#         n_pca_l.append(n_pca.values[i])\n",
    "#     n_pca_np = np.array(n_pca_l)\n",
    "#     df['Developer_0'] = n_pca_np[:, 0]\n",
    "#     df['Developer_1'] = n_pca_np[:, 1]\n",
    "    \n",
    "#     n_pca = hero.pca(hero.tfidf(hero.clean(df['Publisher'], pipeline=custom_pipeline)))\n",
    "#     n_pca_l = []\n",
    "#     for i in range(len(n_pca)):\n",
    "#         n_pca_l.append(n_pca.values[i])\n",
    "#     n_pca_np = np.array(n_pca_l)\n",
    "#     df['Publisher_0'] = n_pca_np[:, 0]\n",
    "#     df['Publisher_1'] = n_pca_np[:, 1]\n",
    "    \n",
    "    return df1, df2"
   ]
  },
  {
   "cell_type": "code",
   "execution_count": 45,
   "metadata": {},
   "outputs": [
    {
     "name": "stderr",
     "output_type": "stream",
     "text": [
      "/usr/local/lib/python3.6/dist-packages/ipykernel_launcher.py:19: DeprecationWarning:\n",
      "\n",
      "Call to deprecated `__getitem__` (Method will be removed in 4.0.0, use self.wv.__getitem__() instead).\n",
      "\n"
     ]
    }
   ],
   "source": [
    "train_df_drop, test_df = translate_developer(train_df_drop, test_df)\n"
   ]
  },
  {
   "cell_type": "code",
   "execution_count": 46,
   "metadata": {},
   "outputs": [
    {
     "data": {
      "text/plain": [
       "<matplotlib.collections.PathCollection at 0x7f001b388780>"
      ]
     },
     "execution_count": 46,
     "metadata": {},
     "output_type": "execute_result"
    },
    {
     "data": {
      "image/png": "[encoded data removed]",
      "text/plain": [
       "<Figure size 432x288 with 1 Axes>"
      ]
     },
     "metadata": {
      "needs_background": "light"
     },
     "output_type": "display_data"
    }
   ],
   "source": [
    "plt.scatter(train_df_drop['Developer_0'].values, train_df_drop['Developer_1'].values)\n",
    "plt.scatter(test_df['Developer_0'].values, test_df['Developer_1'].values)"
   ]
  },
  {
   "cell_type": "code",
   "execution_count": 47,
   "metadata": {},
   "outputs": [
    {
     "data": {
      "image/png": "[encoded data removed]",
      "text/plain": [
       "<Figure size 1152x432 with 1 Axes>"
      ]
     },
     "metadata": {
      "needs_background": "light"
     },
     "output_type": "display_data"
    }
   ],
   "source": [
    "cols = 'Developer_0'\n",
    "fig, ax = plt.subplots(figsize = (16, 6))\n",
    "\n",
    "sns.distplot(train_df_drop['Developer_0'].values, \n",
    "             hist=True, rug=True, label='train',kde_kws=dict(linewidth=4))\n",
    "sns.distplot(test_df['Developer_0'].values, \n",
    "             hist=True, rug=True, label='test', kde_kws=dict(linewidth=4))\n",
    "ax.set_title(f'Distribution for {cols}', fontsize=16)\n",
    "sns.despine(left=True, bottom=True)\n",
    "plt.legend()\n",
    "plt.show()"
   ]
  },
  {
   "cell_type": "code",
   "execution_count": 48,
   "metadata": {},
   "outputs": [
    {
     "data": {
      "image/png": "[encoded data removed]",
      "text/plain": [
       "<Figure size 1152x432 with 1 Axes>"
      ]
     },
     "metadata": {
      "needs_background": "light"
     },
     "output_type": "display_data"
    }
   ],
   "source": [
    "cols = 'Developer_1'\n",
    "fig, ax = plt.subplots(figsize = (16, 6))\n",
    "\n",
    "sns.distplot(train_df_drop['Developer_1'].values, \n",
    "             hist=True, rug=True, label='train',kde_kws=dict(linewidth=4))\n",
    "sns.distplot(test_df['Developer_1'].values, \n",
    "             hist=True, rug=True, label='test', kde_kws=dict(linewidth=4))\n",
    "ax.set_title(f'Distribution for {cols}', fontsize=16)\n",
    "sns.despine(left=True, bottom=True)\n",
    "plt.legend()\n",
    "plt.show()"
   ]
  },
  {
   "cell_type": "code",
   "execution_count": null,
   "metadata": {},
   "outputs": [],
   "source": []
  },
  {
   "cell_type": "code",
   "execution_count": 79,
   "metadata": {},
   "outputs": [
    {
     "data": {
      "text/html": [
       "<div>\n",
       "<style scoped>\n",
       "    .dataframe tbody tr th:only-of-type {\n",
       "        vertical-align: middle;\n",
       "    }\n",
       "\n",
       "    .dataframe tbody tr th {\n",
       "        vertical-align: top;\n",
       "    }\n",
       "\n",
       "    .dataframe thead th {\n",
       "        text-align: right;\n",
       "    }\n",
       "</style>\n",
       "<table border=\"1\" class=\"dataframe\">\n",
       "  <thead>\n",
       "    <tr style=\"text-align: right;\">\n",
       "      <th></th>\n",
       "      <th>Platform</th>\n",
       "      <th>Year_of_Release</th>\n",
       "      <th>Genre</th>\n",
       "      <th>Critic_Score</th>\n",
       "      <th>Critic_Count</th>\n",
       "      <th>User_Score</th>\n",
       "      <th>User_Count</th>\n",
       "      <th>Rating</th>\n",
       "      <th>Name_0</th>\n",
       "      <th>Name_1</th>\n",
       "    </tr>\n",
       "  </thead>\n",
       "  <tbody>\n",
       "    <tr>\n",
       "      <th>0</th>\n",
       "      <td>1.0</td>\n",
       "      <td>NaN</td>\n",
       "      <td>1.0</td>\n",
       "      <td>74.0</td>\n",
       "      <td>17.0</td>\n",
       "      <td>7.9</td>\n",
       "      <td>22.0</td>\n",
       "      <td>1.0</td>\n",
       "      <td>12.449312</td>\n",
       "      <td>-7.095173</td>\n",
       "    </tr>\n",
       "    <tr>\n",
       "      <th>1</th>\n",
       "      <td>1.0</td>\n",
       "      <td>NaN</td>\n",
       "      <td>1.0</td>\n",
       "      <td>78.0</td>\n",
       "      <td>22.0</td>\n",
       "      <td>6.6</td>\n",
       "      <td>28.0</td>\n",
       "      <td>1.0</td>\n",
       "      <td>20.005083</td>\n",
       "      <td>-7.109552</td>\n",
       "    </tr>\n",
       "    <tr>\n",
       "      <th>2</th>\n",
       "      <td>2.0</td>\n",
       "      <td>NaN</td>\n",
       "      <td>1.0</td>\n",
       "      <td>73.0</td>\n",
       "      <td>5.0</td>\n",
       "      <td>7.4</td>\n",
       "      <td>10.0</td>\n",
       "      <td>1.0</td>\n",
       "      <td>12.449312</td>\n",
       "      <td>-7.095173</td>\n",
       "    </tr>\n",
       "    <tr>\n",
       "      <th>3</th>\n",
       "      <td>3.0</td>\n",
       "      <td>NaN</td>\n",
       "      <td>1.0</td>\n",
       "      <td>NaN</td>\n",
       "      <td>NaN</td>\n",
       "      <td>NaN</td>\n",
       "      <td>NaN</td>\n",
       "      <td>NaN</td>\n",
       "      <td>-6.980628</td>\n",
       "      <td>-3.526879</td>\n",
       "    </tr>\n",
       "    <tr>\n",
       "      <th>4</th>\n",
       "      <td>1.0</td>\n",
       "      <td>NaN</td>\n",
       "      <td>1.0</td>\n",
       "      <td>76.0</td>\n",
       "      <td>8.0</td>\n",
       "      <td>7.8</td>\n",
       "      <td>13.0</td>\n",
       "      <td>1.0</td>\n",
       "      <td>15.165423</td>\n",
       "      <td>-5.791763</td>\n",
       "    </tr>\n",
       "    <tr>\n",
       "      <th>...</th>\n",
       "      <td>...</td>\n",
       "      <td>...</td>\n",
       "      <td>...</td>\n",
       "      <td>...</td>\n",
       "      <td>...</td>\n",
       "      <td>...</td>\n",
       "      <td>...</td>\n",
       "      <td>...</td>\n",
       "      <td>...</td>\n",
       "      <td>...</td>\n",
       "    </tr>\n",
       "    <tr>\n",
       "      <th>8354</th>\n",
       "      <td>9.0</td>\n",
       "      <td>2016.0</td>\n",
       "      <td>12.0</td>\n",
       "      <td>78.0</td>\n",
       "      <td>57.0</td>\n",
       "      <td>8</td>\n",
       "      <td>569.0</td>\n",
       "      <td>NaN</td>\n",
       "      <td>-9.489566</td>\n",
       "      <td>-4.711438</td>\n",
       "    </tr>\n",
       "    <tr>\n",
       "      <th>8355</th>\n",
       "      <td>9.0</td>\n",
       "      <td>2016.0</td>\n",
       "      <td>12.0</td>\n",
       "      <td>NaN</td>\n",
       "      <td>NaN</td>\n",
       "      <td>NaN</td>\n",
       "      <td>NaN</td>\n",
       "      <td>NaN</td>\n",
       "      <td>2.535284</td>\n",
       "      <td>-4.089223</td>\n",
       "    </tr>\n",
       "    <tr>\n",
       "      <th>8356</th>\n",
       "      <td>14.0</td>\n",
       "      <td>2017.0</td>\n",
       "      <td>1.0</td>\n",
       "      <td>NaN</td>\n",
       "      <td>NaN</td>\n",
       "      <td>NaN</td>\n",
       "      <td>NaN</td>\n",
       "      <td>NaN</td>\n",
       "      <td>-3.639430</td>\n",
       "      <td>-1.776631</td>\n",
       "    </tr>\n",
       "    <tr>\n",
       "      <th>8357</th>\n",
       "      <td>30.0</td>\n",
       "      <td>2017.0</td>\n",
       "      <td>8.0</td>\n",
       "      <td>NaN</td>\n",
       "      <td>NaN</td>\n",
       "      <td>NaN</td>\n",
       "      <td>NaN</td>\n",
       "      <td>NaN</td>\n",
       "      <td>7.182669</td>\n",
       "      <td>1.728667</td>\n",
       "    </tr>\n",
       "    <tr>\n",
       "      <th>8358</th>\n",
       "      <td>14.0</td>\n",
       "      <td>2017.0</td>\n",
       "      <td>8.0</td>\n",
       "      <td>NaN</td>\n",
       "      <td>NaN</td>\n",
       "      <td>NaN</td>\n",
       "      <td>NaN</td>\n",
       "      <td>NaN</td>\n",
       "      <td>7.182669</td>\n",
       "      <td>1.728667</td>\n",
       "    </tr>\n",
       "  </tbody>\n",
       "</table>\n",
       "<p>8359 rows × 10 columns</p>\n",
       "</div>"
      ],
      "text/plain": [
       "      Platform  Year_of_Release  Genre  Critic_Score  Critic_Count User_Score  \\\n",
       "0          1.0              NaN    1.0          74.0          17.0        7.9   \n",
       "1          1.0              NaN    1.0          78.0          22.0        6.6   \n",
       "2          2.0              NaN    1.0          73.0           5.0        7.4   \n",
       "3          3.0              NaN    1.0           NaN           NaN        NaN   \n",
       "4          1.0              NaN    1.0          76.0           8.0        7.8   \n",
       "...        ...              ...    ...           ...           ...        ...   \n",
       "8354       9.0           2016.0   12.0          78.0          57.0          8   \n",
       "8355       9.0           2016.0   12.0           NaN           NaN        NaN   \n",
       "8356      14.0           2017.0    1.0           NaN           NaN        NaN   \n",
       "8357      30.0           2017.0    8.0           NaN           NaN        NaN   \n",
       "8358      14.0           2017.0    8.0           NaN           NaN        NaN   \n",
       "\n",
       "      User_Count  Rating     Name_0    Name_1  \n",
       "0           22.0     1.0  12.449312 -7.095173  \n",
       "1           28.0     1.0  20.005083 -7.109552  \n",
       "2           10.0     1.0  12.449312 -7.095173  \n",
       "3            NaN     NaN  -6.980628 -3.526879  \n",
       "4           13.0     1.0  15.165423 -5.791763  \n",
       "...          ...     ...        ...       ...  \n",
       "8354       569.0     NaN  -9.489566 -4.711438  \n",
       "8355         NaN     NaN   2.535284 -4.089223  \n",
       "8356         NaN     NaN  -3.639430 -1.776631  \n",
       "8357         NaN     NaN   7.182669  1.728667  \n",
       "8358         NaN     NaN   7.182669  1.728667  \n",
       "\n",
       "[8359 rows x 10 columns]"
      ]
     },
     "execution_count": 79,
     "metadata": {},
     "output_type": "execute_result"
    }
   ],
   "source": [
    "drop_c = ['Name', 'Publisher', 'Developer']\n",
    "train_df_drop.drop(drop_c, axis=1, inplace=True)\n",
    "test_df.drop(drop_c, axis=1, inplace=True)\n",
    "train_df_drop"
   ]
  },
  {
   "cell_type": "code",
   "execution_count": 80,
   "metadata": {},
   "outputs": [],
   "source": [
    "train_df_drop = train_df_drop.astype('float64')\n",
    "test_df = test_df.astype('float64')"
   ]
  },
  {
   "cell_type": "code",
   "execution_count": 81,
   "metadata": {},
   "outputs": [],
   "source": [
    "X = train_df_drop\n",
    "y = train_df['Global_Sales'].astype('float64')\n",
    "groups = train_df['Publisher']"
   ]
  },
  {
   "cell_type": "code",
   "execution_count": 26,
   "metadata": {},
   "outputs": [
    {
     "name": "stderr",
     "output_type": "stream",
     "text": [
      "/home/user/.local/lib/python3.6/site-packages/sklearn/model_selection/_split.py:672: UserWarning:\n",
      "\n",
      "The least populated class in y has only 1 members, which is less than n_splits=10.\n",
      "\n"
     ]
    }
   ],
   "source": [
    "from sklearn import model_selection\n",
    "def create_folds(data, target_col):\n",
    "    num_bins = np.int(1 + np.log2(len(data)))\n",
    "    bins = pd.cut(\n",
    "        data[target_col],\n",
    "        bins=num_bins,\n",
    "        labels=False\n",
    "    )\n",
    "    kf = model_selection.StratifiedKFold(n_splits=10)\n",
    "    fold_ids = list(kf.split(X=data, y=bins.values))\n",
    "    return fold_ids\n",
    "\n",
    "fold_ids = create_folds(train_df, \"Global_Sales\")"
   ]
  },
  {
   "cell_type": "code",
   "execution_count": 30,
   "metadata": {},
   "outputs": [
    {
     "name": "stdout",
     "output_type": "stream",
     "text": [
      "Training until validation scores don't improve for 1000 rounds\n",
      "[200]\ttraining's rmse: 0.760522\tvalid_0's rmse: 0.899636\n",
      "[400]\ttraining's rmse: 0.690834\tvalid_0's rmse: 0.890451\n",
      "[600]\ttraining's rmse: 0.64566\tvalid_0's rmse: 0.889077\n",
      "[800]\ttraining's rmse: 0.610906\tvalid_0's rmse: 0.889733\n",
      "[1000]\ttraining's rmse: 0.583021\tvalid_0's rmse: 0.892988\n",
      "[1200]\ttraining's rmse: 0.561712\tvalid_0's rmse: 0.896776\n",
      "[1400]\ttraining's rmse: 0.543045\tvalid_0's rmse: 0.900567\n",
      "Early stopping, best iteration is:\n",
      "[550]\ttraining's rmse: 0.655942\tvalid_0's rmse: 0.887869\n",
      "RMSLE_train: 0.6559418288319763, RMSLE_eval: 0.8878687378530427\n",
      "Training until validation scores don't improve for 1000 rounds\n",
      "[200]\ttraining's rmse: 0.770051\tvalid_0's rmse: 0.819603\n",
      "[400]\ttraining's rmse: 0.698896\tvalid_0's rmse: 0.81567\n",
      "[600]\ttraining's rmse: 0.654441\tvalid_0's rmse: 0.815891\n",
      "[800]\ttraining's rmse: 0.620849\tvalid_0's rmse: 0.81552\n",
      "[1000]\ttraining's rmse: 0.59423\tvalid_0's rmse: 0.817698\n",
      "[1200]\ttraining's rmse: 0.571809\tvalid_0's rmse: 0.817544\n",
      "[1400]\ttraining's rmse: 0.552885\tvalid_0's rmse: 0.81967\n",
      "[1600]\ttraining's rmse: 0.536783\tvalid_0's rmse: 0.820134\n",
      "Early stopping, best iteration is:\n",
      "[617]\ttraining's rmse: 0.650876\tvalid_0's rmse: 0.814916\n",
      "RMSLE_train: 0.6508757515463556, RMSLE_eval: 0.814915829739154\n",
      "Training until validation scores don't improve for 1000 rounds\n",
      "[200]\ttraining's rmse: 0.7683\tvalid_0's rmse: 0.86229\n",
      "[400]\ttraining's rmse: 0.699677\tvalid_0's rmse: 0.856349\n",
      "[600]\ttraining's rmse: 0.654086\tvalid_0's rmse: 0.856962\n",
      "[800]\ttraining's rmse: 0.619515\tvalid_0's rmse: 0.858834\n",
      "[1000]\ttraining's rmse: 0.591377\tvalid_0's rmse: 0.861305\n",
      "[1200]\ttraining's rmse: 0.568877\tvalid_0's rmse: 0.862278\n",
      "[1400]\ttraining's rmse: 0.549866\tvalid_0's rmse: 0.864566\n",
      "Early stopping, best iteration is:\n",
      "[428]\ttraining's rmse: 0.691885\tvalid_0's rmse: 0.854662\n",
      "RMSLE_train: 0.6918850911393903, RMSLE_eval: 0.8546623846769659\n",
      "Training until validation scores don't improve for 1000 rounds\n",
      "[200]\ttraining's rmse: 0.763089\tvalid_0's rmse: 0.898451\n",
      "[400]\ttraining's rmse: 0.695953\tvalid_0's rmse: 0.887493\n",
      "[600]\ttraining's rmse: 0.650313\tvalid_0's rmse: 0.883933\n",
      "[800]\ttraining's rmse: 0.615607\tvalid_0's rmse: 0.884069\n",
      "[1000]\ttraining's rmse: 0.589344\tvalid_0's rmse: 0.887556\n",
      "[1200]\ttraining's rmse: 0.565052\tvalid_0's rmse: 0.890479\n",
      "[1400]\ttraining's rmse: 0.544422\tvalid_0's rmse: 0.893754\n",
      "[1600]\ttraining's rmse: 0.52695\tvalid_0's rmse: 0.895774\n",
      "Early stopping, best iteration is:\n",
      "[674]\ttraining's rmse: 0.636787\tvalid_0's rmse: 0.883165\n",
      "RMSLE_train: 0.6367870360912713, RMSLE_eval: 0.8831651579634683\n",
      "Training until validation scores don't improve for 1000 rounds\n",
      "[200]\ttraining's rmse: 0.76034\tvalid_0's rmse: 0.9076\n",
      "[400]\ttraining's rmse: 0.690629\tvalid_0's rmse: 0.903045\n",
      "[600]\ttraining's rmse: 0.64479\tvalid_0's rmse: 0.904086\n",
      "[800]\ttraining's rmse: 0.609879\tvalid_0's rmse: 0.906515\n",
      "[1000]\ttraining's rmse: 0.582826\tvalid_0's rmse: 0.910482\n",
      "[1200]\ttraining's rmse: 0.559865\tvalid_0's rmse: 0.912986\n",
      "[1400]\ttraining's rmse: 0.541593\tvalid_0's rmse: 0.915834\n",
      "Early stopping, best iteration is:\n",
      "[475]\ttraining's rmse: 0.671425\tvalid_0's rmse: 0.901791\n",
      "RMSLE_train: 0.6714246781132678, RMSLE_eval: 0.9017909994268039\n",
      "Training until validation scores don't improve for 1000 rounds\n",
      "[200]\ttraining's rmse: 0.76518\tvalid_0's rmse: 0.871069\n",
      "[400]\ttraining's rmse: 0.695258\tvalid_0's rmse: 0.85962\n",
      "[600]\ttraining's rmse: 0.650586\tvalid_0's rmse: 0.858094\n",
      "[800]\ttraining's rmse: 0.614526\tvalid_0's rmse: 0.862549\n",
      "[1000]\ttraining's rmse: 0.587097\tvalid_0's rmse: 0.865181\n",
      "[1200]\ttraining's rmse: 0.564484\tvalid_0's rmse: 0.868601\n",
      "[1400]\ttraining's rmse: 0.544343\tvalid_0's rmse: 0.872233\n",
      "Early stopping, best iteration is:\n",
      "[537]\ttraining's rmse: 0.662777\tvalid_0's rmse: 0.857197\n",
      "RMSLE_train: 0.6627772436058299, RMSLE_eval: 0.8571972008539808\n",
      "Training until validation scores don't improve for 1000 rounds\n",
      "[200]\ttraining's rmse: 0.766245\tvalid_0's rmse: 0.874601\n",
      "[400]\ttraining's rmse: 0.698695\tvalid_0's rmse: 0.863739\n",
      "[600]\ttraining's rmse: 0.652376\tvalid_0's rmse: 0.859163\n",
      "[800]\ttraining's rmse: 0.618035\tvalid_0's rmse: 0.859851\n",
      "[1000]\ttraining's rmse: 0.592555\tvalid_0's rmse: 0.862181\n",
      "[1200]\ttraining's rmse: 0.569056\tvalid_0's rmse: 0.864223\n",
      "[1400]\ttraining's rmse: 0.549863\tvalid_0's rmse: 0.867198\n",
      "[1600]\ttraining's rmse: 0.532684\tvalid_0's rmse: 0.868916\n",
      "Early stopping, best iteration is:\n",
      "[677]\ttraining's rmse: 0.63769\tvalid_0's rmse: 0.858647\n",
      "RMSLE_train: 0.6376902858591059, RMSLE_eval: 0.8586472638460056\n",
      "Training until validation scores don't improve for 1000 rounds\n",
      "[200]\ttraining's rmse: 0.761255\tvalid_0's rmse: 0.908576\n",
      "[400]\ttraining's rmse: 0.692632\tvalid_0's rmse: 0.904141\n",
      "[600]\ttraining's rmse: 0.649207\tvalid_0's rmse: 0.905118\n",
      "[800]\ttraining's rmse: 0.614328\tvalid_0's rmse: 0.904769\n",
      "[1000]\ttraining's rmse: 0.586022\tvalid_0's rmse: 0.906553\n",
      "[1200]\ttraining's rmse: 0.563432\tvalid_0's rmse: 0.909369\n",
      "Early stopping, best iteration is:\n",
      "[332]\ttraining's rmse: 0.712322\tvalid_0's rmse: 0.903298\n",
      "RMSLE_train: 0.7123222951559444, RMSLE_eval: 0.9032977428159489\n",
      "Training until validation scores don't improve for 1000 rounds\n",
      "[200]\ttraining's rmse: 0.768088\tvalid_0's rmse: 0.847675\n",
      "[400]\ttraining's rmse: 0.701354\tvalid_0's rmse: 0.847416\n",
      "[600]\ttraining's rmse: 0.654201\tvalid_0's rmse: 0.851652\n",
      "[800]\ttraining's rmse: 0.620008\tvalid_0's rmse: 0.854525\n",
      "[1000]\ttraining's rmse: 0.593141\tvalid_0's rmse: 0.859061\n",
      "[1200]\ttraining's rmse: 0.570849\tvalid_0's rmse: 0.862327\n",
      "[1400]\ttraining's rmse: 0.551501\tvalid_0's rmse: 0.86665\n",
      "Early stopping, best iteration is:\n",
      "[422]\ttraining's rmse: 0.695497\tvalid_0's rmse: 0.846511\n",
      "RMSLE_train: 0.6954971651197022, RMSLE_eval: 0.8465105599161226\n",
      "Training until validation scores don't improve for 1000 rounds\n",
      "[200]\ttraining's rmse: 0.762551\tvalid_0's rmse: 0.907478\n",
      "[400]\ttraining's rmse: 0.693269\tvalid_0's rmse: 0.904661\n",
      "[600]\ttraining's rmse: 0.64769\tvalid_0's rmse: 0.906239\n",
      "[800]\ttraining's rmse: 0.612195\tvalid_0's rmse: 0.906677\n",
      "[1000]\ttraining's rmse: 0.582821\tvalid_0's rmse: 0.909973\n",
      "[1200]\ttraining's rmse: 0.561179\tvalid_0's rmse: 0.912537\n",
      "Early stopping, best iteration is:\n",
      "[379]\ttraining's rmse: 0.69889\tvalid_0's rmse: 0.90377\n",
      "RMSLE_train: 0.6988904437383411, RMSLE_eval: 0.9037696524420558\n",
      "RMSLE_train_mean: 0.6714091819201184, RMSLE_eval_mean: 0.8711825529533549\n"
     ]
    }
   ],
   "source": [
    "\n",
    "\n",
    "# kfoldの分割数\n",
    "k = 10\n",
    "kf = KFold(n_splits=k, shuffle=True, random_state=0)\n",
    "# kf = GroupKFold(n_splits=k)\n",
    "\n",
    "lgbm_params = {'objective': 'regression',\n",
    "              \"metric\":\"rmse\",\n",
    "              \"learning_rate\": 0.05,\n",
    "               'colsample_bytree': 0.8}\n",
    "\n",
    "rmsle_train_list = []\n",
    "rmsle_eval_list = []\n",
    "\n",
    "pred_test_np = np.zeros([k, len(test_df)])\n",
    "oof_pred = np.zeros_like(y, dtype=np.float)\n",
    "\n",
    "# kfoldで分割\n",
    "for i, (train_index, test_index) in enumerate(kf.split(X, y)):\n",
    "\n",
    "    X_train = X.iloc[train_index]\n",
    "    y_train = y.iloc[train_index]\n",
    "    X_test = X.iloc[test_index]\n",
    "    y_test = y.iloc[test_index]\n",
    "    y_train = np.log1p(y_train)\n",
    "    y_test = np.log1p(y_test)\n",
    "\n",
    "    # データセットを生成する\n",
    "    lgb_train = lgb.Dataset(X_train, y_train)\n",
    "    lgb_eval = lgb.Dataset(X_test, y_test)\n",
    "\n",
    "    # 学習\n",
    "    model = lgb.train(lgbm_params,\n",
    "                        lgb_train,\n",
    "                        valid_sets=[lgb_eval, lgb_train],\n",
    "                        num_boost_round=10000,\n",
    "                        early_stopping_rounds=1000,\n",
    "                        verbose_eval=200)\n",
    "\n",
    "    predict_train = model.predict(X_train, num_iteration=model.best_iteration)\n",
    "    predict_eval = model.predict(X_test, num_iteration=model.best_iteration)\n",
    "    oof_pred[test_index] = predict_eval\n",
    "    \n",
    "    rmsle_train = np.sqrt(mean_squared_error(y_train, predict_train))\n",
    "    rmsle_eval = np.sqrt(mean_squared_error(y_test, predict_eval))\n",
    "    print(f'RMSLE_train: {rmsle_train}, RMSLE_eval: {rmsle_eval}')\n",
    "    rmsle_train_list.append(rmsle_train)\n",
    "    rmsle_eval_list.append(rmsle_eval)\n",
    "    \n",
    "    pred_test_np[i] = model.predict(test_df, num_iteration=model.best_iteration)\n",
    "    \n",
    "print(f'RMSLE_train_mean: {np.mean(rmsle_train_list)}, RMSLE_eval_mean: {np.mean(rmsle_eval_list)}')\n",
    "\n",
    "    # predict_probaが0.5以上なら1とする\n",
    "#     predict = [0 if i < 0.5 else 1 for i in predict_proba]\n",
    "\n",
    "#     auc, precision, recall = get_evaluate(y_test, predict)\n",
    "\n",
    "#     print('AUC:{}, precision:{}, recall:{}'.format(auc, precision, recall))\n",
    "\n",
    "#     auc_list.append(auc)\n",
    "#     precision_list.append(precision)\n",
    "#     recall_list.append(recall)\n",
    "\n",
    "# # kfoldの平均値を取得\n",
    "# print('Kfold平均 AUC:{}, precision:{}, recall:{}'.format(np.mean(auc_list), \n",
    "#                                                          np.mean(precision_list), \n",
    "#                                                          np.mean(recall_list)))"
   ]
  },
  {
   "cell_type": "code",
   "execution_count": 31,
   "metadata": {},
   "outputs": [
    {
     "name": "stdout",
     "output_type": "stream",
     "text": [
      "0.8716292006078639\n"
     ]
    }
   ],
   "source": [
    "print(np.sqrt(mean_squared_error(np.log1p(y), oof_pred)))"
   ]
  },
  {
   "cell_type": "code",
   "execution_count": 33,
   "metadata": {},
   "outputs": [],
   "source": [
    "oof_df = pd.DataFrame(oof_pred, columns=['Global_Sales'])\n",
    "oof_df.to_csv(OUTPUT_DIR + \"oof13.csv\", index = False)"
   ]
  },
  {
   "cell_type": "code",
   "execution_count": 34,
   "metadata": {},
   "outputs": [],
   "source": [
    "pred_test_mean = np.mean(pred_test_np, axis=0)\n",
    "pred_test_exp = np.expm1(pred_test_mean)"
   ]
  },
  {
   "cell_type": "code",
   "execution_count": 35,
   "metadata": {},
   "outputs": [],
   "source": [
    "sub = pd.read_csv(DATA_DIR / 'atmaCup8_sample-submission.csv')\n",
    "sub['Global_Sales'] = pred_test_exp\n",
    "sub.to_csv(OUTPUT_DIR + \"sub13.csv\", index = False)"
   ]
  },
  {
   "cell_type": "code",
   "execution_count": null,
   "metadata": {},
   "outputs": [],
   "source": []
  },
  {
   "cell_type": "code",
   "execution_count": 87,
   "metadata": {},
   "outputs": [],
   "source": [
    "def visualize_importance(models, feat_train_df):\n",
    "    \"\"\"lightGBM の model 配列の feature importance を plot する\n",
    "    CVごとのブレを boxen plot として表現します.\n",
    "\n",
    "    args:\n",
    "        models:\n",
    "            List of lightGBM models\n",
    "        feat_train_df:\n",
    "            学習時に使った DataFrame\n",
    "    \"\"\"\n",
    "    feature_importance_df = pd.DataFrame()\n",
    "    model = models\n",
    "#     for i, model in enumerate(models):\n",
    "    _df = pd.DataFrame()\n",
    "    _df['feature_importance'] = model.feature_importance(importance_type='gain')\n",
    "    _df['column'] = feat_train_df.columns\n",
    "    _df['fold'] = i + 1\n",
    "    feature_importance_df = pd.concat([feature_importance_df, _df], axis=0, ignore_index=True)\n",
    "\n",
    "    order = feature_importance_df.groupby('column')\\\n",
    "        .sum()[['feature_importance']]\\\n",
    "        .sort_values('feature_importance', ascending=False).index[:50]\n",
    "\n",
    "    fig, ax = plt.subplots(figsize=(max(6, len(order) * .4), 7))\n",
    "    sns.boxenplot(data=feature_importance_df, x='column', y='feature_importance', order=order, ax=ax, palette='viridis')\n",
    "    ax.tick_params(axis='x', rotation=90)\n",
    "    ax.grid()\n",
    "    fig.tight_layout()\n",
    "    return fig, ax"
   ]
  },
  {
   "cell_type": "code",
   "execution_count": 88,
   "metadata": {},
   "outputs": [
    {
     "data": {
      "image/png": "[encoded data removed]",
      "text/plain": [
       "<Figure size 432x504 with 1 Axes>"
      ]
     },
     "metadata": {
      "needs_background": "light"
     },
     "output_type": "display_data"
    }
   ],
   "source": [
    "fig, ax = visualize_importance(model, X)\n"
   ]
  },
  {
   "cell_type": "code",
   "execution_count": 89,
   "metadata": {},
   "outputs": [
    {
     "data": {
      "text/html": [
       "<div>\n",
       "<style scoped>\n",
       "    .dataframe tbody tr th:only-of-type {\n",
       "        vertical-align: middle;\n",
       "    }\n",
       "\n",
       "    .dataframe tbody tr th {\n",
       "        vertical-align: top;\n",
       "    }\n",
       "\n",
       "    .dataframe thead th {\n",
       "        text-align: right;\n",
       "    }\n",
       "</style>\n",
       "<table border=\"1\" class=\"dataframe\">\n",
       "  <thead>\n",
       "    <tr style=\"text-align: right;\">\n",
       "      <th></th>\n",
       "      <th>importance</th>\n",
       "    </tr>\n",
       "  </thead>\n",
       "  <tbody>\n",
       "    <tr>\n",
       "      <th>Rating</th>\n",
       "      <td>3541.424763</td>\n",
       "    </tr>\n",
       "    <tr>\n",
       "      <th>User_Score</th>\n",
       "      <td>3762.594382</td>\n",
       "    </tr>\n",
       "    <tr>\n",
       "      <th>Critic_Score</th>\n",
       "      <td>5945.821293</td>\n",
       "    </tr>\n",
       "    <tr>\n",
       "      <th>Genre</th>\n",
       "      <td>6855.950514</td>\n",
       "    </tr>\n",
       "    <tr>\n",
       "      <th>Critic_Count</th>\n",
       "      <td>8590.046331</td>\n",
       "    </tr>\n",
       "    <tr>\n",
       "      <th>Name_0</th>\n",
       "      <td>9584.047110</td>\n",
       "    </tr>\n",
       "    <tr>\n",
       "      <th>Name_1</th>\n",
       "      <td>11068.488889</td>\n",
       "    </tr>\n",
       "    <tr>\n",
       "      <th>Year_of_Release</th>\n",
       "      <td>14787.648650</td>\n",
       "    </tr>\n",
       "    <tr>\n",
       "      <th>Platform</th>\n",
       "      <td>18717.573786</td>\n",
       "    </tr>\n",
       "    <tr>\n",
       "      <th>User_Count</th>\n",
       "      <td>19073.707179</td>\n",
       "    </tr>\n",
       "  </tbody>\n",
       "</table>\n",
       "</div>"
      ],
      "text/plain": [
       "                   importance\n",
       "Rating            3541.424763\n",
       "User_Score        3762.594382\n",
       "Critic_Score      5945.821293\n",
       "Genre             6855.950514\n",
       "Critic_Count      8590.046331\n",
       "Name_0            9584.047110\n",
       "Name_1           11068.488889\n",
       "Year_of_Release  14787.648650\n",
       "Platform         18717.573786\n",
       "User_Count       19073.707179"
      ]
     },
     "execution_count": 89,
     "metadata": {},
     "output_type": "execute_result"
    }
   ],
   "source": [
    "importance = pd.DataFrame(model.feature_importance(importance_type='gain'), index=train_df_drop.columns, columns=['importance'])\n",
    "importance.sort_values(['importance'])"
   ]
  },
  {
   "cell_type": "code",
   "execution_count": 90,
   "metadata": {},
   "outputs": [
    {
     "data": {
      "image/png": "[encoded data removed]",
      "text/plain": [
       "<Figure size 576x576 with 1 Axes>"
      ]
     },
     "metadata": {
      "needs_background": "light"
     },
     "output_type": "display_data"
    }
   ],
   "source": [
    "fig, ax = plt.subplots(figsize=(8, 8))\n",
    "sns.distplot(np.log1p(pred_test_np), label='Test Predict')\n",
    "sns.distplot(np.log1p(oof_pred), label='Out Of Fold')\n",
    "ax.legend()\n",
    "ax.grid()"
   ]
  },
  {
   "cell_type": "code",
   "execution_count": 41,
   "metadata": {},
   "outputs": [
    {
     "name": "stdout",
     "output_type": "stream",
     "text": [
      "OH_Publisher=THQ\n",
      "OH_Publisher=Nintendo\n",
      "OH_Publisher=Sony Computer Entertainment\n",
      "OH_Publisher=Sega\n",
      "OH_Publisher=Take-Two Interactive\n",
      "OH_Publisher=Capcom\n",
      "OH_Publisher=Atari\n",
      "OH_Publisher=Tecmo Koei\n",
      "OH_Publisher=Warner Bros. Interactive Entertainment\n",
      "OH_Publisher=Square Enix\n",
      "OH_Publisher=Disney Interactive Studios\n",
      "OH_Publisher=505 Games\n",
      "OH_Publisher=Microsoft Game Studios\n",
      "OH_Publisher=D3Publisher\n",
      "OH_Publisher=Vivendi Games\n",
      "OH_Publisher=Idea Factory\n",
      "OH_Publisher=Nippon Ichi Software\n",
      "OH_Publisher=Majesco Entertainment\n",
      "OH_Publisher=LucasArts\n",
      "OH_Publisher=Bethesda Softworks\n",
      "OH_Publisher=Banpresto\n",
      "OH_Publisher=Crave Entertainment\n",
      "OH_Publisher=Atlus\n",
      "OH_Publisher=Focus Home Interactive\n",
      "OH_Publisher=Ignition Entertainment\n",
      "OH_Publisher=Marvelous Interactive\n",
      "OH_Publisher=SquareSoft\n",
      "OH_Publisher=Kadokawa Shoten\n",
      "OH_Publisher=Destineer\n",
      "OH_Publisher=Alchemist\n",
      "OH_Publisher=MTV Games\n"
     ]
    }
   ],
   "source": [
    "for c in train_feat_df.columns:\n",
    "    if 'Publish' in c:\n",
    "        print(c)"
   ]
  },
  {
   "cell_type": "code",
   "execution_count": 46,
   "metadata": {},
   "outputs": [
    {
     "name": "stderr",
     "output_type": "stream",
     "text": [
      "/usr/local/lib/python3.6/dist-packages/seaborn/distributions.py:283: UserWarning:\n",
      "\n",
      "Data must have variance to compute a kernel density estimate.\n",
      "\n"
     ]
    },
    {
     "data": {
      "image/png": "[encoded data removed]",
      "text/plain": [
       "<Figure size 1152x432 with 1 Axes>"
      ]
     },
     "metadata": {
      "needs_background": "light"
     },
     "output_type": "display_data"
    }
   ],
   "source": [
    "cols = 'Name_0'\n",
    "fig, ax = plt.subplots(figsize = (16, 6))\n",
    "\n",
    "sns.distplot(train_feat_df['OH_Publisher=Nippon Ichi Software'].values, \n",
    "             hist=True, rug=True, label='train',kde_kws=dict(linewidth=4))\n",
    "sns.distplot(test_df['OH_Publisher=Nippon Ichi Software'].values, \n",
    "             hist=True, rug=True, label='test', kde_kws=dict(linewidth=4))\n",
    "ax.set_title(f'Distribution for {cols}', fontsize=16)\n",
    "sns.despine(left=True, bottom=True)\n",
    "plt.legend()\n",
    "plt.show()"
   ]
  },
  {
   "cell_type": "code",
   "execution_count": null,
   "metadata": {},
   "outputs": [],
   "source": []
  }
 ],
 "metadata": {
  "kernelspec": {
   "display_name": "Python 3",
   "language": "python",
   "name": "python3"
  },
  "language_info": {
   "codemirror_mode": {
    "name": "ipython",
    "version": 3
   },
   "file_extension": ".py",
   "mimetype": "text/x-python",
   "name": "python",
   "nbconvert_exporter": "python",
   "pygments_lexer": "ipython3",
   "version": "3.6.12"
  }
 },
 "nbformat": 4,
 "nbformat_minor": 4
}
