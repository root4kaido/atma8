{
 "cells": [
  {
   "cell_type": "code",
   "execution_count": 28,
   "metadata": {},
   "outputs": [
    {
     "name": "stdout",
     "output_type": "stream",
     "text": [
      "Defaulting to user installation because normal site-packages is not writeable\n",
      "Requirement already satisfied: category_encoders in /home/user/.local/lib/python3.6/site-packages (2.2.2)\n",
      "Requirement already satisfied: pandas>=0.21.1 in /usr/local/lib/python3.6/dist-packages (from category_encoders) (1.1.1)\n",
      "Requirement already satisfied: numpy>=1.14.0 in /usr/local/lib/python3.6/dist-packages (from category_encoders) (1.17.4)\n",
      "Requirement already satisfied: statsmodels>=0.9.0 in /home/user/.local/lib/python3.6/site-packages (from category_encoders) (0.12.1)\n",
      "Requirement already satisfied: scikit-learn>=0.20.0 in /home/user/.local/lib/python3.6/site-packages (from category_encoders) (0.23.2)\n",
      "Requirement already satisfied: patsy>=0.5.1 in /usr/local/lib/python3.6/dist-packages (from category_encoders) (0.5.1)\n",
      "Requirement already satisfied: scipy>=1.0.0 in /home/user/.local/lib/python3.6/site-packages (from category_encoders) (1.5.4)\n",
      "Requirement already satisfied: pytz>=2017.2 in /usr/local/lib/python3.6/dist-packages (from pandas>=0.21.1->category_encoders) (2020.1)\n",
      "Requirement already satisfied: python-dateutil>=2.7.3 in /usr/local/lib/python3.6/dist-packages (from pandas>=0.21.1->category_encoders) (2.7.3)\n",
      "Requirement already satisfied: threadpoolctl>=2.0.0 in /home/user/.local/lib/python3.6/site-packages (from scikit-learn>=0.20.0->category_encoders) (2.1.0)\n",
      "Requirement already satisfied: joblib>=0.11 in /usr/local/lib/python3.6/dist-packages (from scikit-learn>=0.20.0->category_encoders) (0.16.0)\n",
      "Requirement already satisfied: six in /usr/local/lib/python3.6/dist-packages (from patsy>=0.5.1->category_encoders) (1.11.0)\n",
      "\u001b[33mWARNING: You are using pip version 20.2.2; however, version 20.3.1 is available.\n",
      "You should consider upgrading via the '/usr/bin/python3 -m pip install --upgrade pip' command.\u001b[0m\n",
      "Defaulting to user installation because normal site-packages is not writeable\n",
      "Requirement already satisfied: texthero in /home/user/.local/lib/python3.6/site-packages (1.0.9)\n",
      "Requirement already satisfied: tqdm>=4.3 in /usr/local/lib/python3.6/dist-packages (from texthero) (4.48.2)\n",
      "Requirement already satisfied: gensim>=3.6.0 in /home/user/.local/lib/python3.6/site-packages (from texthero) (3.8.3)\n",
      "Requirement already satisfied: spacy>=2.2.2 in /home/user/.local/lib/python3.6/site-packages (from texthero) (2.3.4)\n",
      "Requirement already satisfied: numpy>=1.17 in /usr/local/lib/python3.6/dist-packages (from texthero) (1.17.4)\n",
      "Requirement already satisfied: scikit-learn>=0.22 in /home/user/.local/lib/python3.6/site-packages (from texthero) (0.23.2)\n",
      "Requirement already satisfied: plotly>=4.2.0 in /usr/local/lib/python3.6/dist-packages (from texthero) (4.9.0)\n",
      "Requirement already satisfied: matplotlib>=3.1.0 in /home/user/.local/lib/python3.6/site-packages (from texthero) (3.3.3)\n",
      "Requirement already satisfied: wordcloud>=1.5.0 in /home/user/.local/lib/python3.6/site-packages (from texthero) (1.8.1)\n",
      "Requirement already satisfied: pandas>=1.0.2 in /usr/local/lib/python3.6/dist-packages (from texthero) (1.1.1)\n",
      "Requirement already satisfied: nltk>=3.3 in /home/user/.local/lib/python3.6/site-packages (from texthero) (3.5)\n",
      "Requirement already satisfied: unidecode>=1.1.1 in /home/user/.local/lib/python3.6/site-packages (from texthero) (1.1.1)\n",
      "Requirement already satisfied: scipy>=0.18.1 in /home/user/.local/lib/python3.6/site-packages (from gensim>=3.6.0->texthero) (1.5.4)\n",
      "Requirement already satisfied: six>=1.5.0 in /usr/local/lib/python3.6/dist-packages (from gensim>=3.6.0->texthero) (1.11.0)\n",
      "Requirement already satisfied: smart-open>=1.8.1 in /home/user/.local/lib/python3.6/site-packages (from gensim>=3.6.0->texthero) (4.0.1)\n",
      "Requirement already satisfied: wasabi<1.1.0,>=0.4.0 in /home/user/.local/lib/python3.6/site-packages (from spacy>=2.2.2->texthero) (0.8.0)\n",
      "Requirement already satisfied: catalogue<1.1.0,>=0.0.7 in /home/user/.local/lib/python3.6/site-packages (from spacy>=2.2.2->texthero) (1.0.0)\n",
      "Requirement already satisfied: thinc<7.5.0,>=7.4.1 in /home/user/.local/lib/python3.6/site-packages (from spacy>=2.2.2->texthero) (7.4.3)\n",
      "Requirement already satisfied: plac<1.2.0,>=0.9.6 in /home/user/.local/lib/python3.6/site-packages (from spacy>=2.2.2->texthero) (1.1.3)\n",
      "Requirement already satisfied: srsly<1.1.0,>=1.0.2 in /home/user/.local/lib/python3.6/site-packages (from spacy>=2.2.2->texthero) (1.0.4)\n",
      "Requirement already satisfied: cymem<2.1.0,>=2.0.2 in /home/user/.local/lib/python3.6/site-packages (from spacy>=2.2.2->texthero) (2.0.4)\n",
      "Requirement already satisfied: requests<3.0.0,>=2.13.0 in /usr/local/lib/python3.6/dist-packages (from spacy>=2.2.2->texthero) (2.24.0)\n",
      "Requirement already satisfied: setuptools in /usr/local/lib/python3.6/dist-packages (from spacy>=2.2.2->texthero) (49.6.0)\n",
      "Requirement already satisfied: blis<0.8.0,>=0.4.0; python_version >= \"3.6\" in /home/user/.local/lib/python3.6/site-packages (from spacy>=2.2.2->texthero) (0.7.3)\n",
      "Requirement already satisfied: murmurhash<1.1.0,>=0.28.0 in /home/user/.local/lib/python3.6/site-packages (from spacy>=2.2.2->texthero) (1.0.4)\n",
      "Requirement already satisfied: preshed<3.1.0,>=3.0.2 in /home/user/.local/lib/python3.6/site-packages (from spacy>=2.2.2->texthero) (3.0.4)\n",
      "Requirement already satisfied: threadpoolctl>=2.0.0 in /home/user/.local/lib/python3.6/site-packages (from scikit-learn>=0.22->texthero) (2.1.0)\n",
      "Requirement already satisfied: joblib>=0.11 in /usr/local/lib/python3.6/dist-packages (from scikit-learn>=0.22->texthero) (0.16.0)\n",
      "Requirement already satisfied: retrying>=1.3.3 in /usr/local/lib/python3.6/dist-packages (from plotly>=4.2.0->texthero) (1.3.3)\n",
      "Requirement already satisfied: python-dateutil>=2.1 in /usr/local/lib/python3.6/dist-packages (from matplotlib>=3.1.0->texthero) (2.7.3)\n",
      "Requirement already satisfied: pillow>=6.2.0 in /usr/local/lib/python3.6/dist-packages (from matplotlib>=3.1.0->texthero) (7.2.0)\n",
      "Requirement already satisfied: pyparsing!=2.0.4,!=2.1.2,!=2.1.6,>=2.0.3 in /usr/local/lib/python3.6/dist-packages (from matplotlib>=3.1.0->texthero) (2.2.2)\n",
      "Requirement already satisfied: cycler>=0.10 in /usr/local/lib/python3.6/dist-packages (from matplotlib>=3.1.0->texthero) (0.10.0)\n",
      "Requirement already satisfied: kiwisolver>=1.0.1 in /usr/local/lib/python3.6/dist-packages (from matplotlib>=3.1.0->texthero) (1.0.1)\n",
      "Requirement already satisfied: pytz>=2017.2 in /usr/local/lib/python3.6/dist-packages (from pandas>=1.0.2->texthero) (2020.1)\n",
      "Requirement already satisfied: regex in /home/user/.local/lib/python3.6/site-packages (from nltk>=3.3->texthero) (2020.11.13)\n",
      "Requirement already satisfied: click in /home/user/.local/lib/python3.6/site-packages (from nltk>=3.3->texthero) (7.1.2)\n",
      "Requirement already satisfied: importlib-metadata>=0.20; python_version < \"3.8\" in /usr/local/lib/python3.6/dist-packages (from catalogue<1.1.0,>=0.0.7->spacy>=2.2.2->texthero) (1.7.0)\n",
      "Requirement already satisfied: chardet<4,>=3.0.2 in /usr/local/lib/python3.6/dist-packages (from requests<3.0.0,>=2.13.0->spacy>=2.2.2->texthero) (3.0.4)\n",
      "Requirement already satisfied: idna<3,>=2.5 in /usr/local/lib/python3.6/dist-packages (from requests<3.0.0,>=2.13.0->spacy>=2.2.2->texthero) (2.10)\n",
      "Requirement already satisfied: certifi>=2017.4.17 in /usr/local/lib/python3.6/dist-packages (from requests<3.0.0,>=2.13.0->spacy>=2.2.2->texthero) (2020.6.20)\n",
      "Requirement already satisfied: urllib3!=1.25.0,!=1.25.1,<1.26,>=1.21.1 in /usr/local/lib/python3.6/dist-packages (from requests<3.0.0,>=2.13.0->spacy>=2.2.2->texthero) (1.25.10)\n",
      "Requirement already satisfied: zipp>=0.5 in /usr/local/lib/python3.6/dist-packages (from importlib-metadata>=0.20; python_version < \"3.8\"->catalogue<1.1.0,>=0.0.7->spacy>=2.2.2->texthero) (3.1.0)\n",
      "\u001b[33mWARNING: You are using pip version 20.2.2; however, version 20.3.1 is available.\n",
      "You should consider upgrading via the '/usr/bin/python3 -m pip install --upgrade pip' command.\u001b[0m\n",
      "Defaulting to user installation because normal site-packages is not writeable\n",
      "Requirement already satisfied: googletrans in /home/user/.local/lib/python3.6/site-packages (3.0.0)\n",
      "Requirement already satisfied: httpx==0.13.3 in /home/user/.local/lib/python3.6/site-packages (from googletrans) (0.13.3)\n",
      "Requirement already satisfied: httpcore==0.9.* in /home/user/.local/lib/python3.6/site-packages (from httpx==0.13.3->googletrans) (0.9.1)\n",
      "Requirement already satisfied: certifi in /usr/local/lib/python3.6/dist-packages (from httpx==0.13.3->googletrans) (2020.6.20)\n",
      "Requirement already satisfied: chardet==3.* in /usr/local/lib/python3.6/dist-packages (from httpx==0.13.3->googletrans) (3.0.4)\n",
      "Requirement already satisfied: hstspreload in /home/user/.local/lib/python3.6/site-packages (from httpx==0.13.3->googletrans) (2020.11.21)\n",
      "Requirement already satisfied: idna==2.* in /usr/local/lib/python3.6/dist-packages (from httpx==0.13.3->googletrans) (2.10)\n",
      "Requirement already satisfied: sniffio in /home/user/.local/lib/python3.6/site-packages (from httpx==0.13.3->googletrans) (1.2.0)\n",
      "Requirement already satisfied: rfc3986<2,>=1.3 in /home/user/.local/lib/python3.6/site-packages (from httpx==0.13.3->googletrans) (1.4.0)\n",
      "Requirement already satisfied: h2==3.* in /home/user/.local/lib/python3.6/site-packages (from httpcore==0.9.*->httpx==0.13.3->googletrans) (3.2.0)\n",
      "Requirement already satisfied: h11<0.10,>=0.8 in /home/user/.local/lib/python3.6/site-packages (from httpcore==0.9.*->httpx==0.13.3->googletrans) (0.9.0)\n",
      "Requirement already satisfied: contextvars>=2.1; python_version < \"3.7\" in /usr/local/lib/python3.6/dist-packages (from sniffio->httpx==0.13.3->googletrans) (2.4)\n",
      "Requirement already satisfied: hpack<4,>=3.0 in /home/user/.local/lib/python3.6/site-packages (from h2==3.*->httpcore==0.9.*->httpx==0.13.3->googletrans) (3.0.0)\n",
      "Requirement already satisfied: hyperframe<6,>=5.2.0 in /home/user/.local/lib/python3.6/site-packages (from h2==3.*->httpcore==0.9.*->httpx==0.13.3->googletrans) (5.2.0)\n",
      "Requirement already satisfied: immutables>=0.9 in /usr/local/lib/python3.6/dist-packages (from contextvars>=2.1; python_version < \"3.7\"->sniffio->httpx==0.13.3->googletrans) (0.14)\n",
      "\u001b[33mWARNING: You are using pip version 20.2.2; however, version 20.3.1 is available.\n",
      "You should consider upgrading via the '/usr/bin/python3 -m pip install --upgrade pip' command.\u001b[0m\n",
      "Defaulting to user installation because normal site-packages is not writeable\n",
      "Collecting git+https://github.com/miurahr/pykakasi\n",
      "  Cloning https://github.com/miurahr/pykakasi to /tmp/pip-req-build-9i38ycwv\n",
      "  Installing build dependencies ... \u001b[?25ldone\n",
      "\u001b[?25h  Getting requirements to build wheel ... \u001b[?25ldone\n",
      "\u001b[?25h    Preparing wheel metadata ... \u001b[?25ldone\n",
      "\u001b[?25hCollecting klepto\n",
      "  Using cached klepto-0.2.0-py2.py3-none-any.whl (85 kB)\n",
      "Requirement already satisfied: importlib-metadata; python_version < \"3.8\" in /usr/local/lib/python3.6/dist-packages (from pykakasi==2.0.5.dev3) (1.7.0)\n",
      "Collecting dill>=0.3.3\n",
      "  Using cached dill-0.3.3-py2.py3-none-any.whl (81 kB)\n",
      "Collecting pox>=0.2.9\n",
      "  Using cached pox-0.2.9-py2.py3-none-any.whl (30 kB)\n",
      "Requirement already satisfied: zipp>=0.5 in /usr/local/lib/python3.6/dist-packages (from importlib-metadata; python_version < \"3.8\"->pykakasi==2.0.5.dev3) (3.1.0)\n",
      "Building wheels for collected packages: pykakasi\n",
      "  Building wheel for pykakasi (PEP 517) ... \u001b[?25ldone\n",
      "\u001b[?25h  Created wheel for pykakasi: filename=pykakasi-2.0.5.dev3-py3-none-any.whl size=2435529 sha256=a348badd94ec4e4409a9e991f065ab0d95a24fbdd906ee73f065eea4c5d0f43c\n",
      "  Stored in directory: /tmp/pip-ephem-wheel-cache-kffhfj49/wheels/1f/2f/09/ffdb17d8236c26522efb60726e6eca6989127324ffd6952a5d\n",
      "Successfully built pykakasi\n",
      "Installing collected packages: dill, pox, klepto, pykakasi\n",
      "Successfully installed dill-0.3.3 klepto-0.2.0 pox-0.2.9 pykakasi-2.0.5.dev3\n",
      "\u001b[33mWARNING: You are using pip version 20.2.2; however, version 20.3.1 is available.\n",
      "You should consider upgrading via the '/usr/bin/python3 -m pip install --upgrade pip' command.\u001b[0m\n"
     ]
    }
   ],
   "source": [
    "!pip install category_encoders\n",
    "!pip install texthero\n",
    "!pip install googletrans\n",
    "!pip install git+https://github.com/miurahr/pykakasi"
   ]
  },
  {
   "cell_type": "code",
   "execution_count": 19,
   "metadata": {},
   "outputs": [],
   "source": [
    "import pandas as pd\n",
    "import pathlib\n",
    "import category_encoders as ce\n",
    "import matplotlib.pyplot as plt\n",
    "import seaborn as sns\n",
    "import numpy as np\n",
    "import pandas as pd\n",
    "from sklearn.decomposition import PCA\n",
    "\n",
    "import texthero as hero\n",
    "from texthero import preprocessing\n",
    "\n",
    "from sklearn import metrics\n",
    "from sklearn.model_selection import GroupKFold, KFold\n",
    "\n",
    "import lightgbm as lgb\n",
    "\n",
    "from sklearn.metrics import mean_squared_error, mean_squared_log_error\n",
    "from gensim.models import word2vec\n",
    "from pykakasi import kakasi"
   ]
  },
  {
   "cell_type": "code",
   "execution_count": 20,
   "metadata": {},
   "outputs": [],
   "source": [
    "DATA_DIR = pathlib.Path('/home/knikaido/work/atma8/data/')\n",
    "OUTPUT_DIR = './sub11/'\n",
    "train_csv_path = DATA_DIR / 'train.csv'\n",
    "test_csv_path = DATA_DIR / 'test.csv'"
   ]
  },
  {
   "cell_type": "code",
   "execution_count": 21,
   "metadata": {},
   "outputs": [],
   "source": [
    "train_df = pd.read_csv(train_csv_path)\n",
    "test_df = pd.read_csv(test_csv_path)"
   ]
  },
  {
   "cell_type": "code",
   "execution_count": 22,
   "metadata": {},
   "outputs": [],
   "source": [
    "train_column = train_df.columns"
   ]
  },
  {
   "cell_type": "code",
   "execution_count": 23,
   "metadata": {},
   "outputs": [],
   "source": [
    "X_column = []\n",
    "for s in train_column:\n",
    "    if not'Sales' in s:\n",
    "        X_column.append(s)"
   ]
  },
  {
   "cell_type": "code",
   "execution_count": 24,
   "metadata": {},
   "outputs": [],
   "source": [
    "train_df_drop = train_df[X_column]"
   ]
  },
  {
   "cell_type": "code",
   "execution_count": 25,
   "metadata": {},
   "outputs": [],
   "source": [
    "# User_Scoreの変換\n",
    "def make_user_score(df):\n",
    "    d = df['User_Score'].copy()\n",
    "    d[d == 'tbd'] = 'nan'\n",
    "    df.loc[:,'User_Score'] = d\n",
    "    \n",
    "    return df"
   ]
  },
  {
   "cell_type": "code",
   "execution_count": 26,
   "metadata": {},
   "outputs": [],
   "source": [
    "train_df_drop = make_user_score(train_df_drop)\n",
    "test_df = make_user_score(test_df)"
   ]
  },
  {
   "cell_type": "code",
   "execution_count": 27,
   "metadata": {},
   "outputs": [],
   "source": [
    "custom_pipeline = [preprocessing.fillna\n",
    "                   , preprocessing.lowercase\n",
    "                   , preprocessing.remove_digits\n",
    "                   , preprocessing.remove_punctuation\n",
    "                   , preprocessing.remove_diacritics\n",
    "                   , preprocessing.remove_whitespace\n",
    "                  ]"
   ]
  },
  {
   "cell_type": "code",
   "execution_count": 28,
   "metadata": {},
   "outputs": [
    {
     "name": "stderr",
     "output_type": "stream",
     "text": [
      "/usr/local/lib/python3.6/dist-packages/ipykernel_launcher.py:1: SettingWithCopyWarning:\n",
      "\n",
      "\n",
      "A value is trying to be set on a copy of a slice from a DataFrame.\n",
      "Try using .loc[row_indexer,col_indexer] = value instead\n",
      "\n",
      "See the caveats in the documentation: https://pandas.pydata.org/pandas-docs/stable/user_guide/indexing.html#returning-a-view-versus-a-copy\n",
      "\n"
     ]
    }
   ],
   "source": [
    "train_df_drop['C_Name'] = hero.clean(train_df_drop['Name'], pipeline=custom_pipeline)"
   ]
  },
  {
   "cell_type": "code",
   "execution_count": 29,
   "metadata": {},
   "outputs": [
    {
     "data": {
      "text/plain": [
       "0                             lego batman the videogame\n",
       "1            lego indiana jones the original adventures\n",
       "2                             lego batman the videogame\n",
       "3                                                combat\n",
       "4                               lego harry potter years\n",
       "5                               lego harry potter years\n",
       "6                                                yakuza\n",
       "7                               lego harry potter years\n",
       "8                the lord of the rings war in the north\n",
       "9                the lord of the rings war in the north\n",
       "10    the chronicles of narnia the lion the witch an...\n",
       "11                              lego harry potter years\n",
       "12                                   the golden compass\n",
       "13                                         circus atari\n",
       "14                  maze craze a game of cops n robbers\n",
       "15                robert ludlum s the bourne conspiracy\n",
       "16                              lego harry potter years\n",
       "17                robert ludlum s the bourne conspiracy\n",
       "18                                   the golden compass\n",
       "19                                          tomb raider\n",
       "Name: C_Name, dtype: object"
      ]
     },
     "execution_count": 29,
     "metadata": {},
     "output_type": "execute_result"
    }
   ],
   "source": [
    "train_df_drop['C_Name'].head(20)"
   ]
  },
  {
   "cell_type": "code",
   "execution_count": 30,
   "metadata": {},
   "outputs": [
    {
     "data": {
      "text/plain": [
       "0                            LEGO Batman: The Videogame\n",
       "1           LEGO Indiana Jones: The Original Adventures\n",
       "2                            LEGO Batman: The Videogame\n",
       "3                                                Combat\n",
       "4                          LEGO Harry Potter: Years 5-7\n",
       "5                          LEGO Harry Potter: Years 5-7\n",
       "6                                              Yakuza 4\n",
       "7                          LEGO Harry Potter: Years 5-7\n",
       "8               The Lord of the Rings: War in the North\n",
       "9               The Lord of the Rings: War in the North\n",
       "10    The Chronicles of Narnia: The Lion, The Witch ...\n",
       "11                         LEGO Harry Potter: Years 5-7\n",
       "12                                   The Golden Compass\n",
       "13                                         Circus Atari\n",
       "14                Maze Craze: A Game of Cops 'n Robbers\n",
       "15                Robert Ludlum's The Bourne Conspiracy\n",
       "16                         LEGO Harry Potter: Years 5-7\n",
       "17                Robert Ludlum's The Bourne Conspiracy\n",
       "18                                   The Golden Compass\n",
       "19                                   Tomb Raider (2013)\n",
       "Name: Name, dtype: object"
      ]
     },
     "execution_count": 30,
     "metadata": {},
     "output_type": "execute_result"
    }
   ],
   "source": [
    "train_df_drop['Name'].head(20)"
   ]
  },
  {
   "cell_type": "code",
   "execution_count": 37,
   "metadata": {},
   "outputs": [],
   "source": [
    "from tqdm import tqdm\n",
    "from pykakasi import kakasi\n"
   ]
  },
  {
   "cell_type": "code",
   "execution_count": 41,
   "metadata": {},
   "outputs": [
    {
     "name": "stderr",
     "output_type": "stream",
     "text": [
      "  0%|          | 0/8359 [00:00<?, ?it/s]\n"
     ]
    }
   ],
   "source": [
    "from googletrans import Translator\n",
    "ja_texts = []\n",
    "roma_texts = []\n",
    "translator = Translator()\n",
    "# kakasi = kakasi()\n",
    "\n",
    "# kakasi.setMode('H', 'a')\n",
    "# kakasi.setMode('K', 'a')\n",
    "# kakasi.setMode('J', 'a')\n",
    "# conv = kakasi.getConverter()\n",
    "\n",
    "for name in tqdm(train_df_drop['Name']):\n",
    "    src = name\n",
    "\n",
    "    #tr = Translator()\n",
    "    tr = Translator(service_urls=['translate.googleapis.com'])\n",
    "    while True:\n",
    "        try:\n",
    "            text = tr.translate(src, dest=\"ja\").text\n",
    "            break\n",
    "        except Exception as e:\n",
    "            #tr = Translator()\n",
    "            tr = Translator(service_urls=['translate.googleapis.com'])\n",
    "            \n",
    "    break\n",
    "    ja_texts.append(text)\n",
    "#     roma_texts.append(conv.do(text))\n"
   ]
  },
  {
   "cell_type": "code",
   "execution_count": 42,
   "metadata": {},
   "outputs": [
    {
     "data": {
      "text/plain": [
       "('LEGO Batman: The Videogame', 'LEGO Batman: The Videogame')"
      ]
     },
     "execution_count": 42,
     "metadata": {},
     "output_type": "execute_result"
    }
   ],
   "source": [
    "text, name"
   ]
  },
  {
   "cell_type": "code",
   "execution_count": 46,
   "metadata": {},
   "outputs": [],
   "source": [
    "\n",
    "src = \"翻訳したいテキスト\"\n",
    "\n",
    "#tr = Translator()\n",
    "tr = Translator(service_urls=['translate.googleapis.com'])\n",
    "while True:\n",
    "    try:\n",
    "        text = tr.translate(src, dest=\"en\").text\n",
    "        break\n",
    "    except Exception as e:\n",
    "        #tr = Translator()\n",
    "        tr = Translator(service_urls=['translate.googleapis.com'])"
   ]
  },
  {
   "cell_type": "code",
   "execution_count": 47,
   "metadata": {},
   "outputs": [
    {
     "data": {
      "text/plain": [
       "'翻訳したいテキスト'"
      ]
     },
     "execution_count": 47,
     "metadata": {},
     "output_type": "execute_result"
    }
   ],
   "source": [
    "text"
   ]
  },
  {
   "cell_type": "code",
   "execution_count": null,
   "metadata": {},
   "outputs": [],
   "source": []
  },
  {
   "cell_type": "code",
   "execution_count": null,
   "metadata": {},
   "outputs": [],
   "source": []
  },
  {
   "cell_type": "code",
   "execution_count": null,
   "metadata": {},
   "outputs": [],
   "source": []
  },
  {
   "cell_type": "code",
   "execution_count": 20,
   "metadata": {},
   "outputs": [],
   "source": [
    "# Ratingの変換"
   ]
  },
  {
   "cell_type": "code",
   "execution_count": 21,
   "metadata": {},
   "outputs": [],
   "source": [
    "def encode_label(train, test):\n",
    "    cate_col = ['Rating', 'Platform', 'Genre']\n",
    "    oe = ce.OrdinalEncoder(cols=cate_col, drop_invariant=True, handle_missing='return_nan')\n",
    "    train.loc[:,cate_col] = oe.fit_transform(train[cate_col])\n",
    "    test.loc[:,cate_col] = oe.transform(test[cate_col])\n",
    "    return train, test"
   ]
  },
  {
   "cell_type": "code",
   "execution_count": 22,
   "metadata": {},
   "outputs": [
    {
     "name": "stderr",
     "output_type": "stream",
     "text": [
      "/home/user/.local/lib/python3.6/site-packages/category_encoders/utils.py:21: FutureWarning:\n",
      "\n",
      "is_categorical is deprecated and will be removed in a future version.  Use is_categorical_dtype instead\n",
      "\n",
      "/usr/local/lib/python3.6/dist-packages/pandas/core/indexing.py:1717: SettingWithCopyWarning:\n",
      "\n",
      "\n",
      "A value is trying to be set on a copy of a slice from a DataFrame.\n",
      "Try using .loc[row_indexer,col_indexer] = value instead\n",
      "\n",
      "See the caveats in the documentation: https://pandas.pydata.org/pandas-docs/stable/user_guide/indexing.html#returning-a-view-versus-a-copy\n",
      "\n"
     ]
    }
   ],
   "source": [
    "train_df_drop, test_df = encode_label(train_df_drop, test_df)"
   ]
  },
  {
   "cell_type": "code",
   "execution_count": 12,
   "metadata": {},
   "outputs": [],
   "source": [
    "custom_pipeline = [preprocessing.fillna\n",
    "                   , preprocessing.lowercase\n",
    "                   , preprocessing.remove_digits\n",
    "                   , preprocessing.remove_punctuation\n",
    "                   , preprocessing.remove_diacritics\n",
    "                   , preprocessing.remove_whitespace\n",
    "                  ]"
   ]
  },
  {
   "cell_type": "code",
   "execution_count": 17,
   "metadata": {},
   "outputs": [],
   "source": [
    "def translate_name(df1, df2):\n",
    "    df = pd.concat([df1, df2])\n",
    "    C_Name = hero.clean(df['Name'], pipeline=custom_pipeline)\n",
    "    sentences = []\n",
    "    for sentence in C_Name:\n",
    "        data = sentence.split()\n",
    "        sentences.append(data)\n",
    "    model = word2vec.Word2Vec(sentences,\n",
    "                              size=200,\n",
    "                              min_count=1,\n",
    "                              window=5,\n",
    "                              iter=20,\n",
    "                              sg = 0)\n",
    "    w_vec = []\n",
    "    for sentence in C_Name:\n",
    "        data = sentence.split()\n",
    "        tmp = np.zeros(200)\n",
    "        for d in data:\n",
    "            tmp += model[d]\n",
    "        w_vec.append(tmp)\n",
    "    w_vec = np.array(w_vec)\n",
    "    \n",
    "#      pca = PCA(n_components=10)\n",
    "#     w_vec_pca = pca.fit_transform(w_vec)    \n",
    "    for i in range(w_vec.shape[1]):\n",
    "        c_ = 'Name_' + str(i)\n",
    "        df[c_] = w_vec[:, i]\n",
    "        \n",
    "        \n",
    "        \n",
    "#     pca = PCA(n_components=10)\n",
    "#     w_vec_pca = pca.fit_transform(w_vec)\n",
    "    \n",
    "#     df['Name_0'] = w_vec_pca[:, 0]\n",
    "#     df['Name_1'] = w_vec_pca[:, 1]\n",
    "#     df['Name_2'] = w_vec_pca[:, 2]\n",
    "#     df['Name_3'] = w_vec_pca[:, 3]\n",
    "#     df['Name_4'] = w_vec_pca[:, 4]\n",
    "#     df['Name_5'] = w_vec_pca[:, 5]\n",
    "#     df['Name_6'] = w_vec_pca[:, 6]\n",
    "#     df['Name_7'] = w_vec_pca[:, 7]\n",
    "#     df['Name_8'] = w_vec_pca[:, 8]\n",
    "#     df['Name_9'] = w_vec_pca[:, 9]\n",
    "    df1 = df.iloc[:len(df1), :]\n",
    "    df2 = df.iloc[len(df1):, :]\n",
    "    \n",
    "#     n_pca = hero.pca(hero.tfidf(hero.clean(df['Developer'], pipeline=custom_pipeline)))\n",
    "#     n_pca_l = []\n",
    "#     for i in range(len(n_pca)):\n",
    "#         n_pca_l.append(n_pca.values[i])\n",
    "#     n_pca_np = np.array(n_pca_l)\n",
    "#     df['Developer_0'] = n_pca_np[:, 0]\n",
    "#     df['Developer_1'] = n_pca_np[:, 1]\n",
    "    \n",
    "#     n_pca = hero.pca(hero.tfidf(hero.clean(df['Publisher'], pipeline=custom_pipeline)))\n",
    "#     n_pca_l = []\n",
    "#     for i in range(len(n_pca)):\n",
    "#         n_pca_l.append(n_pca.values[i])\n",
    "#     n_pca_np = np.array(n_pca_l)\n",
    "#     df['Publisher_0'] = n_pca_np[:, 0]\n",
    "#     df['Publisher_1'] = n_pca_np[:, 1]\n",
    "    \n",
    "    return df1, df2"
   ]
  },
  {
   "cell_type": "code",
   "execution_count": 18,
   "metadata": {},
   "outputs": [
    {
     "name": "stderr",
     "output_type": "stream",
     "text": [
      "/usr/local/lib/python3.6/dist-packages/ipykernel_launcher.py:19: DeprecationWarning:\n",
      "\n",
      "Call to deprecated `__getitem__` (Method will be removed in 4.0.0, use self.wv.__getitem__() instead).\n",
      "\n"
     ]
    }
   ],
   "source": [
    "train_df_drop, test_df = translate_name(train_df_drop, test_df)\n"
   ]
  },
  {
   "cell_type": "code",
   "execution_count": 19,
   "metadata": {},
   "outputs": [
    {
     "data": {
      "text/plain": [
       "<matplotlib.collections.PathCollection at 0x7fcaf7eaabe0>"
      ]
     },
     "execution_count": 19,
     "metadata": {},
     "output_type": "execute_result"
    },
    {
     "data": {
      "image/png": "[encoded data removed]",
      "text/plain": [
       "<Figure size 432x288 with 1 Axes>"
      ]
     },
     "metadata": {
      "needs_background": "light"
     },
     "output_type": "display_data"
    }
   ],
   "source": [
    "plt.scatter(train_df_drop['Name_0'].values, train_df_drop['Name_1'].values)\n",
    "plt.scatter(test_df['Name_0'].values, test_df['Name_1'].values)"
   ]
  },
  {
   "cell_type": "code",
   "execution_count": 20,
   "metadata": {},
   "outputs": [
    {
     "data": {
      "image/png": "[encoded data removed]",
      "text/plain": [
       "<Figure size 1152x432 with 1 Axes>"
      ]
     },
     "metadata": {
      "needs_background": "light"
     },
     "output_type": "display_data"
    }
   ],
   "source": [
    "cols = 'Name_0'\n",
    "fig, ax = plt.subplots(figsize = (16, 6))\n",
    "\n",
    "sns.distplot(train_df_drop['Name_0'].values, \n",
    "             hist=True, rug=True, label='train',kde_kws=dict(linewidth=4))\n",
    "sns.distplot(test_df['Name_0'].values, \n",
    "             hist=True, rug=True, label='test', kde_kws=dict(linewidth=4))\n",
    "ax.set_title(f'Distribution for {cols}', fontsize=16)\n",
    "sns.despine(left=True, bottom=True)\n",
    "plt.legend()\n",
    "plt.show()"
   ]
  },
  {
   "cell_type": "code",
   "execution_count": 21,
   "metadata": {},
   "outputs": [
    {
     "data": {
      "image/png": "[encoded data removed]",
      "text/plain": [
       "<Figure size 1152x432 with 1 Axes>"
      ]
     },
     "metadata": {
      "needs_background": "light"
     },
     "output_type": "display_data"
    }
   ],
   "source": [
    "cols = 'Name_1'\n",
    "fig, ax = plt.subplots(figsize = (16, 6))\n",
    "\n",
    "sns.distplot(train_df_drop['Name_1'].values, \n",
    "             hist=True, rug=True, label='train',kde_kws=dict(linewidth=4))\n",
    "sns.distplot(test_df['Name_1'].values, \n",
    "             hist=True, rug=True, label='test', kde_kws=dict(linewidth=4))\n",
    "ax.set_title(f'Distribution for {cols}', fontsize=16)\n",
    "sns.despine(left=True, bottom=True)\n",
    "plt.legend()\n",
    "plt.show()"
   ]
  },
  {
   "cell_type": "code",
   "execution_count": 18,
   "metadata": {},
   "outputs": [],
   "source": [
    "def translate_developer(df1, df2):\n",
    "    df = pd.concat([df1, df2])\n",
    "    C_Name = hero.clean(df['Publisher'], pipeline=custom_pipeline)\n",
    "    sentences = []\n",
    "    for sentence in C_Name:\n",
    "        data = sentence.split()\n",
    "        sentences.append(data)\n",
    "    model = word2vec.Word2Vec(sentences,\n",
    "                              size=200,\n",
    "                              min_count=1,\n",
    "                              window=5,\n",
    "                              iter=20,\n",
    "                              sg = 0)\n",
    "    w_vec = []\n",
    "    for sentence in C_Name:\n",
    "        data = sentence.split()\n",
    "        tmp = np.zeros(200)\n",
    "        for d in data:\n",
    "            tmp += model[d]\n",
    "        w_vec.append(tmp)\n",
    "    w_vec = np.array(w_vec)\n",
    "    pca = PCA(n_components=2)\n",
    "    w_vec_pca = pca.fit_transform(w_vec)\n",
    "    \n",
    "    df['Developer_0'] = w_vec_pca[:, 0]\n",
    "    df['Developer_1'] = w_vec_pca[:, 1]\n",
    "    df1 = df.iloc[:len(df1), :]\n",
    "    df2 = df.iloc[len(df1):, :]\n",
    "    \n",
    "#     n_pca = hero.pca(hero.tfidf(hero.clean(df['Developer'], pipeline=custom_pipeline)))\n",
    "#     n_pca_l = []\n",
    "#     for i in range(len(n_pca)):\n",
    "#         n_pca_l.append(n_pca.values[i])\n",
    "#     n_pca_np = np.array(n_pca_l)\n",
    "#     df['Developer_0'] = n_pca_np[:, 0]\n",
    "#     df['Developer_1'] = n_pca_np[:, 1]\n",
    "    \n",
    "#     n_pca = hero.pca(hero.tfidf(hero.clean(df['Publisher'], pipeline=custom_pipeline)))\n",
    "#     n_pca_l = []\n",
    "#     for i in range(len(n_pca)):\n",
    "#         n_pca_l.append(n_pca.values[i])\n",
    "#     n_pca_np = np.array(n_pca_l)\n",
    "#     df['Publisher_0'] = n_pca_np[:, 0]\n",
    "#     df['Publisher_1'] = n_pca_np[:, 1]\n",
    "    \n",
    "    return df1, df2"
   ]
  },
  {
   "cell_type": "code",
   "execution_count": 45,
   "metadata": {},
   "outputs": [
    {
     "name": "stderr",
     "output_type": "stream",
     "text": [
      "/usr/local/lib/python3.6/dist-packages/ipykernel_launcher.py:19: DeprecationWarning:\n",
      "\n",
      "Call to deprecated `__getitem__` (Method will be removed in 4.0.0, use self.wv.__getitem__() instead).\n",
      "\n"
     ]
    }
   ],
   "source": [
    "train_df_drop, test_df = translate_developer(train_df_drop, test_df)\n"
   ]
  },
  {
   "cell_type": "code",
   "execution_count": 46,
   "metadata": {},
   "outputs": [
    {
     "data": {
      "text/plain": [
       "<matplotlib.collections.PathCollection at 0x7f001b388780>"
      ]
     },
     "execution_count": 46,
     "metadata": {},
     "output_type": "execute_result"
    },
    {
     "data": {
      "image/png": "[encoded data removed]",
      "text/plain": [
       "<Figure size 432x288 with 1 Axes>"
      ]
     },
     "metadata": {
      "needs_background": "light"
     },
     "output_type": "display_data"
    }
   ],
   "source": [
    "plt.scatter(train_df_drop['Developer_0'].values, train_df_drop['Developer_1'].values)\n",
    "plt.scatter(test_df['Developer_0'].values, test_df['Developer_1'].values)"
   ]
  },
  {
   "cell_type": "code",
   "execution_count": 47,
   "metadata": {},
   "outputs": [
    {
     "data": {
      "image/png": "[encoded data removed]",
      "text/plain": [
       "<Figure size 1152x432 with 1 Axes>"
      ]
     },
     "metadata": {
      "needs_background": "light"
     },
     "output_type": "display_data"
    }
   ],
   "source": [
    "cols = 'Developer_0'\n",
    "fig, ax = plt.subplots(figsize = (16, 6))\n",
    "\n",
    "sns.distplot(train_df_drop['Developer_0'].values, \n",
    "             hist=True, rug=True, label='train',kde_kws=dict(linewidth=4))\n",
    "sns.distplot(test_df['Developer_0'].values, \n",
    "             hist=True, rug=True, label='test', kde_kws=dict(linewidth=4))\n",
    "ax.set_title(f'Distribution for {cols}', fontsize=16)\n",
    "sns.despine(left=True, bottom=True)\n",
    "plt.legend()\n",
    "plt.show()"
   ]
  },
  {
   "cell_type": "code",
   "execution_count": 48,
   "metadata": {},
   "outputs": [
    {
     "data": {
      "image/png": "[encoded data removed]",
      "text/plain": [
       "<Figure size 1152x432 with 1 Axes>"
      ]
     },
     "metadata": {
      "needs_background": "light"
     },
     "output_type": "display_data"
    }
   ],
   "source": [
    "cols = 'Developer_1'\n",
    "fig, ax = plt.subplots(figsize = (16, 6))\n",
    "\n",
    "sns.distplot(train_df_drop['Developer_1'].values, \n",
    "             hist=True, rug=True, label='train',kde_kws=dict(linewidth=4))\n",
    "sns.distplot(test_df['Developer_1'].values, \n",
    "             hist=True, rug=True, label='test', kde_kws=dict(linewidth=4))\n",
    "ax.set_title(f'Distribution for {cols}', fontsize=16)\n",
    "sns.despine(left=True, bottom=True)\n",
    "plt.legend()\n",
    "plt.show()"
   ]
  },
  {
   "cell_type": "code",
   "execution_count": null,
   "metadata": {},
   "outputs": [],
   "source": []
  },
  {
   "cell_type": "code",
   "execution_count": 22,
   "metadata": {},
   "outputs": [
    {
     "data": {
      "text/html": [
       "<div>\n",
       "<style scoped>\n",
       "    .dataframe tbody tr th:only-of-type {\n",
       "        vertical-align: middle;\n",
       "    }\n",
       "\n",
       "    .dataframe tbody tr th {\n",
       "        vertical-align: top;\n",
       "    }\n",
       "\n",
       "    .dataframe thead th {\n",
       "        text-align: right;\n",
       "    }\n",
       "</style>\n",
       "<table border=\"1\" class=\"dataframe\">\n",
       "  <thead>\n",
       "    <tr style=\"text-align: right;\">\n",
       "      <th></th>\n",
       "      <th>Platform</th>\n",
       "      <th>Year_of_Release</th>\n",
       "      <th>Genre</th>\n",
       "      <th>Critic_Score</th>\n",
       "      <th>Critic_Count</th>\n",
       "      <th>User_Score</th>\n",
       "      <th>User_Count</th>\n",
       "      <th>Rating</th>\n",
       "      <th>Name_0</th>\n",
       "      <th>Name_1</th>\n",
       "      <th>...</th>\n",
       "      <th>Name_190</th>\n",
       "      <th>Name_191</th>\n",
       "      <th>Name_192</th>\n",
       "      <th>Name_193</th>\n",
       "      <th>Name_194</th>\n",
       "      <th>Name_195</th>\n",
       "      <th>Name_196</th>\n",
       "      <th>Name_197</th>\n",
       "      <th>Name_198</th>\n",
       "      <th>Name_199</th>\n",
       "    </tr>\n",
       "  </thead>\n",
       "  <tbody>\n",
       "    <tr>\n",
       "      <th>0</th>\n",
       "      <td>1.0</td>\n",
       "      <td>NaN</td>\n",
       "      <td>1.0</td>\n",
       "      <td>74.0</td>\n",
       "      <td>17.0</td>\n",
       "      <td>7.9</td>\n",
       "      <td>22.0</td>\n",
       "      <td>1.0</td>\n",
       "      <td>2.255950</td>\n",
       "      <td>-1.228402</td>\n",
       "      <td>...</td>\n",
       "      <td>-0.208264</td>\n",
       "      <td>-3.675898</td>\n",
       "      <td>-0.278637</td>\n",
       "      <td>-1.128481</td>\n",
       "      <td>-1.674752</td>\n",
       "      <td>1.473212</td>\n",
       "      <td>-0.298637</td>\n",
       "      <td>-2.543966</td>\n",
       "      <td>0.265502</td>\n",
       "      <td>1.065758</td>\n",
       "    </tr>\n",
       "    <tr>\n",
       "      <th>1</th>\n",
       "      <td>1.0</td>\n",
       "      <td>NaN</td>\n",
       "      <td>1.0</td>\n",
       "      <td>78.0</td>\n",
       "      <td>22.0</td>\n",
       "      <td>6.6</td>\n",
       "      <td>28.0</td>\n",
       "      <td>1.0</td>\n",
       "      <td>3.374093</td>\n",
       "      <td>-1.642294</td>\n",
       "      <td>...</td>\n",
       "      <td>-0.332867</td>\n",
       "      <td>-5.125258</td>\n",
       "      <td>-0.736918</td>\n",
       "      <td>-1.075057</td>\n",
       "      <td>-0.797227</td>\n",
       "      <td>2.410554</td>\n",
       "      <td>-0.417196</td>\n",
       "      <td>-3.214041</td>\n",
       "      <td>0.571874</td>\n",
       "      <td>1.723033</td>\n",
       "    </tr>\n",
       "    <tr>\n",
       "      <th>2</th>\n",
       "      <td>2.0</td>\n",
       "      <td>NaN</td>\n",
       "      <td>1.0</td>\n",
       "      <td>73.0</td>\n",
       "      <td>5.0</td>\n",
       "      <td>7.4</td>\n",
       "      <td>10.0</td>\n",
       "      <td>1.0</td>\n",
       "      <td>2.255950</td>\n",
       "      <td>-1.228402</td>\n",
       "      <td>...</td>\n",
       "      <td>-0.208264</td>\n",
       "      <td>-3.675898</td>\n",
       "      <td>-0.278637</td>\n",
       "      <td>-1.128481</td>\n",
       "      <td>-1.674752</td>\n",
       "      <td>1.473212</td>\n",
       "      <td>-0.298637</td>\n",
       "      <td>-2.543966</td>\n",
       "      <td>0.265502</td>\n",
       "      <td>1.065758</td>\n",
       "    </tr>\n",
       "    <tr>\n",
       "      <th>3</th>\n",
       "      <td>3.0</td>\n",
       "      <td>NaN</td>\n",
       "      <td>1.0</td>\n",
       "      <td>NaN</td>\n",
       "      <td>NaN</td>\n",
       "      <td>NaN</td>\n",
       "      <td>NaN</td>\n",
       "      <td>NaN</td>\n",
       "      <td>0.275912</td>\n",
       "      <td>-0.123225</td>\n",
       "      <td>...</td>\n",
       "      <td>-0.114162</td>\n",
       "      <td>-0.379498</td>\n",
       "      <td>-0.139794</td>\n",
       "      <td>0.037900</td>\n",
       "      <td>-0.141308</td>\n",
       "      <td>0.342507</td>\n",
       "      <td>-0.081227</td>\n",
       "      <td>-0.198861</td>\n",
       "      <td>0.271266</td>\n",
       "      <td>0.285540</td>\n",
       "    </tr>\n",
       "    <tr>\n",
       "      <th>4</th>\n",
       "      <td>1.0</td>\n",
       "      <td>NaN</td>\n",
       "      <td>1.0</td>\n",
       "      <td>76.0</td>\n",
       "      <td>8.0</td>\n",
       "      <td>7.8</td>\n",
       "      <td>13.0</td>\n",
       "      <td>1.0</td>\n",
       "      <td>3.235529</td>\n",
       "      <td>-1.350131</td>\n",
       "      <td>...</td>\n",
       "      <td>-0.493970</td>\n",
       "      <td>-4.901072</td>\n",
       "      <td>0.226564</td>\n",
       "      <td>-1.212892</td>\n",
       "      <td>-0.365245</td>\n",
       "      <td>1.211463</td>\n",
       "      <td>-0.302164</td>\n",
       "      <td>-2.091394</td>\n",
       "      <td>0.264894</td>\n",
       "      <td>0.649774</td>\n",
       "    </tr>\n",
       "    <tr>\n",
       "      <th>...</th>\n",
       "      <td>...</td>\n",
       "      <td>...</td>\n",
       "      <td>...</td>\n",
       "      <td>...</td>\n",
       "      <td>...</td>\n",
       "      <td>...</td>\n",
       "      <td>...</td>\n",
       "      <td>...</td>\n",
       "      <td>...</td>\n",
       "      <td>...</td>\n",
       "      <td>...</td>\n",
       "      <td>...</td>\n",
       "      <td>...</td>\n",
       "      <td>...</td>\n",
       "      <td>...</td>\n",
       "      <td>...</td>\n",
       "      <td>...</td>\n",
       "      <td>...</td>\n",
       "      <td>...</td>\n",
       "      <td>...</td>\n",
       "      <td>...</td>\n",
       "    </tr>\n",
       "    <tr>\n",
       "      <th>8354</th>\n",
       "      <td>9.0</td>\n",
       "      <td>2016.0</td>\n",
       "      <td>12.0</td>\n",
       "      <td>78.0</td>\n",
       "      <td>57.0</td>\n",
       "      <td>8</td>\n",
       "      <td>569.0</td>\n",
       "      <td>NaN</td>\n",
       "      <td>0.002429</td>\n",
       "      <td>0.001564</td>\n",
       "      <td>...</td>\n",
       "      <td>-0.001812</td>\n",
       "      <td>0.002095</td>\n",
       "      <td>-0.001459</td>\n",
       "      <td>0.000430</td>\n",
       "      <td>0.001229</td>\n",
       "      <td>-0.000836</td>\n",
       "      <td>0.001622</td>\n",
       "      <td>-0.002206</td>\n",
       "      <td>0.002358</td>\n",
       "      <td>-0.001491</td>\n",
       "    </tr>\n",
       "    <tr>\n",
       "      <th>8355</th>\n",
       "      <td>9.0</td>\n",
       "      <td>2016.0</td>\n",
       "      <td>12.0</td>\n",
       "      <td>NaN</td>\n",
       "      <td>NaN</td>\n",
       "      <td>NaN</td>\n",
       "      <td>NaN</td>\n",
       "      <td>NaN</td>\n",
       "      <td>0.730204</td>\n",
       "      <td>-0.233444</td>\n",
       "      <td>...</td>\n",
       "      <td>-0.259306</td>\n",
       "      <td>-1.796936</td>\n",
       "      <td>-0.289024</td>\n",
       "      <td>-0.568674</td>\n",
       "      <td>-0.820459</td>\n",
       "      <td>0.868285</td>\n",
       "      <td>-0.335908</td>\n",
       "      <td>-0.951145</td>\n",
       "      <td>1.214807</td>\n",
       "      <td>0.880588</td>\n",
       "    </tr>\n",
       "    <tr>\n",
       "      <th>8356</th>\n",
       "      <td>14.0</td>\n",
       "      <td>2017.0</td>\n",
       "      <td>1.0</td>\n",
       "      <td>NaN</td>\n",
       "      <td>NaN</td>\n",
       "      <td>NaN</td>\n",
       "      <td>NaN</td>\n",
       "      <td>NaN</td>\n",
       "      <td>0.858464</td>\n",
       "      <td>-0.384373</td>\n",
       "      <td>...</td>\n",
       "      <td>0.063813</td>\n",
       "      <td>-0.993056</td>\n",
       "      <td>-0.025813</td>\n",
       "      <td>-0.254538</td>\n",
       "      <td>-0.023074</td>\n",
       "      <td>0.773796</td>\n",
       "      <td>-0.074928</td>\n",
       "      <td>-0.885262</td>\n",
       "      <td>0.657424</td>\n",
       "      <td>0.036349</td>\n",
       "    </tr>\n",
       "    <tr>\n",
       "      <th>8357</th>\n",
       "      <td>30.0</td>\n",
       "      <td>2017.0</td>\n",
       "      <td>8.0</td>\n",
       "      <td>NaN</td>\n",
       "      <td>NaN</td>\n",
       "      <td>NaN</td>\n",
       "      <td>NaN</td>\n",
       "      <td>NaN</td>\n",
       "      <td>2.846423</td>\n",
       "      <td>-1.636288</td>\n",
       "      <td>...</td>\n",
       "      <td>-2.182119</td>\n",
       "      <td>-2.073681</td>\n",
       "      <td>-0.809465</td>\n",
       "      <td>0.967081</td>\n",
       "      <td>-1.372475</td>\n",
       "      <td>2.783975</td>\n",
       "      <td>0.168053</td>\n",
       "      <td>-1.281082</td>\n",
       "      <td>0.540261</td>\n",
       "      <td>2.433297</td>\n",
       "    </tr>\n",
       "    <tr>\n",
       "      <th>8358</th>\n",
       "      <td>14.0</td>\n",
       "      <td>2017.0</td>\n",
       "      <td>8.0</td>\n",
       "      <td>NaN</td>\n",
       "      <td>NaN</td>\n",
       "      <td>NaN</td>\n",
       "      <td>NaN</td>\n",
       "      <td>NaN</td>\n",
       "      <td>2.846423</td>\n",
       "      <td>-1.636288</td>\n",
       "      <td>...</td>\n",
       "      <td>-2.182119</td>\n",
       "      <td>-2.073681</td>\n",
       "      <td>-0.809465</td>\n",
       "      <td>0.967081</td>\n",
       "      <td>-1.372475</td>\n",
       "      <td>2.783975</td>\n",
       "      <td>0.168053</td>\n",
       "      <td>-1.281082</td>\n",
       "      <td>0.540261</td>\n",
       "      <td>2.433297</td>\n",
       "    </tr>\n",
       "  </tbody>\n",
       "</table>\n",
       "<p>8359 rows × 208 columns</p>\n",
       "</div>"
      ],
      "text/plain": [
       "      Platform  Year_of_Release  Genre  Critic_Score  Critic_Count User_Score  \\\n",
       "0          1.0              NaN    1.0          74.0          17.0        7.9   \n",
       "1          1.0              NaN    1.0          78.0          22.0        6.6   \n",
       "2          2.0              NaN    1.0          73.0           5.0        7.4   \n",
       "3          3.0              NaN    1.0           NaN           NaN        NaN   \n",
       "4          1.0              NaN    1.0          76.0           8.0        7.8   \n",
       "...        ...              ...    ...           ...           ...        ...   \n",
       "8354       9.0           2016.0   12.0          78.0          57.0          8   \n",
       "8355       9.0           2016.0   12.0           NaN           NaN        NaN   \n",
       "8356      14.0           2017.0    1.0           NaN           NaN        NaN   \n",
       "8357      30.0           2017.0    8.0           NaN           NaN        NaN   \n",
       "8358      14.0           2017.0    8.0           NaN           NaN        NaN   \n",
       "\n",
       "      User_Count  Rating    Name_0    Name_1  ...  Name_190  Name_191  \\\n",
       "0           22.0     1.0  2.255950 -1.228402  ... -0.208264 -3.675898   \n",
       "1           28.0     1.0  3.374093 -1.642294  ... -0.332867 -5.125258   \n",
       "2           10.0     1.0  2.255950 -1.228402  ... -0.208264 -3.675898   \n",
       "3            NaN     NaN  0.275912 -0.123225  ... -0.114162 -0.379498   \n",
       "4           13.0     1.0  3.235529 -1.350131  ... -0.493970 -4.901072   \n",
       "...          ...     ...       ...       ...  ...       ...       ...   \n",
       "8354       569.0     NaN  0.002429  0.001564  ... -0.001812  0.002095   \n",
       "8355         NaN     NaN  0.730204 -0.233444  ... -0.259306 -1.796936   \n",
       "8356         NaN     NaN  0.858464 -0.384373  ...  0.063813 -0.993056   \n",
       "8357         NaN     NaN  2.846423 -1.636288  ... -2.182119 -2.073681   \n",
       "8358         NaN     NaN  2.846423 -1.636288  ... -2.182119 -2.073681   \n",
       "\n",
       "      Name_192  Name_193  Name_194  Name_195  Name_196  Name_197  Name_198  \\\n",
       "0    -0.278637 -1.128481 -1.674752  1.473212 -0.298637 -2.543966  0.265502   \n",
       "1    -0.736918 -1.075057 -0.797227  2.410554 -0.417196 -3.214041  0.571874   \n",
       "2    -0.278637 -1.128481 -1.674752  1.473212 -0.298637 -2.543966  0.265502   \n",
       "3    -0.139794  0.037900 -0.141308  0.342507 -0.081227 -0.198861  0.271266   \n",
       "4     0.226564 -1.212892 -0.365245  1.211463 -0.302164 -2.091394  0.264894   \n",
       "...        ...       ...       ...       ...       ...       ...       ...   \n",
       "8354 -0.001459  0.000430  0.001229 -0.000836  0.001622 -0.002206  0.002358   \n",
       "8355 -0.289024 -0.568674 -0.820459  0.868285 -0.335908 -0.951145  1.214807   \n",
       "8356 -0.025813 -0.254538 -0.023074  0.773796 -0.074928 -0.885262  0.657424   \n",
       "8357 -0.809465  0.967081 -1.372475  2.783975  0.168053 -1.281082  0.540261   \n",
       "8358 -0.809465  0.967081 -1.372475  2.783975  0.168053 -1.281082  0.540261   \n",
       "\n",
       "      Name_199  \n",
       "0     1.065758  \n",
       "1     1.723033  \n",
       "2     1.065758  \n",
       "3     0.285540  \n",
       "4     0.649774  \n",
       "...        ...  \n",
       "8354 -0.001491  \n",
       "8355  0.880588  \n",
       "8356  0.036349  \n",
       "8357  2.433297  \n",
       "8358  2.433297  \n",
       "\n",
       "[8359 rows x 208 columns]"
      ]
     },
     "execution_count": 22,
     "metadata": {},
     "output_type": "execute_result"
    }
   ],
   "source": [
    "drop_c = ['Name', 'Publisher', 'Developer']\n",
    "train_df_drop.drop(drop_c, axis=1, inplace=True)\n",
    "test_df.drop(drop_c, axis=1, inplace=True)\n",
    "train_df_drop"
   ]
  },
  {
   "cell_type": "code",
   "execution_count": 23,
   "metadata": {},
   "outputs": [],
   "source": [
    "train_df_drop = train_df_drop.astype('float64')\n",
    "test_df = test_df.astype('float64')"
   ]
  },
  {
   "cell_type": "code",
   "execution_count": 24,
   "metadata": {},
   "outputs": [],
   "source": [
    "X = train_df_drop\n",
    "y = train_df['Global_Sales'].astype('float64')\n",
    "groups = train_df['Publisher']"
   ]
  },
  {
   "cell_type": "code",
   "execution_count": null,
   "metadata": {},
   "outputs": [],
   "source": []
  },
  {
   "cell_type": "code",
   "execution_count": 25,
   "metadata": {},
   "outputs": [
    {
     "name": "stdout",
     "output_type": "stream",
     "text": [
      "Training until validation scores don't improve for 1000 rounds\n",
      "[200]\ttraining's rmse: 0.634677\tvalid_0's rmse: 0.885523\n",
      "[400]\ttraining's rmse: 0.468555\tvalid_0's rmse: 0.869905\n",
      "[600]\ttraining's rmse: 0.368061\tvalid_0's rmse: 0.869425\n",
      "[800]\ttraining's rmse: 0.298906\tvalid_0's rmse: 0.870642\n",
      "[1000]\ttraining's rmse: 0.249431\tvalid_0's rmse: 0.871829\n",
      "[1200]\ttraining's rmse: 0.212372\tvalid_0's rmse: 0.873102\n",
      "[1400]\ttraining's rmse: 0.183102\tvalid_0's rmse: 0.875299\n",
      "Early stopping, best iteration is:\n",
      "[454]\ttraining's rmse: 0.437325\tvalid_0's rmse: 0.868657\n",
      "RMSLE_train: 0.4373249496697655, RMSLE_eval: 0.8686574518366104\n",
      "Training until validation scores don't improve for 1000 rounds\n",
      "[200]\ttraining's rmse: 0.634763\tvalid_0's rmse: 0.936722\n",
      "[400]\ttraining's rmse: 0.476803\tvalid_0's rmse: 0.917979\n",
      "[600]\ttraining's rmse: 0.374992\tvalid_0's rmse: 0.913753\n",
      "[800]\ttraining's rmse: 0.309447\tvalid_0's rmse: 0.914193\n",
      "[1000]\ttraining's rmse: 0.25986\tvalid_0's rmse: 0.913949\n",
      "[1200]\ttraining's rmse: 0.222372\tvalid_0's rmse: 0.914356\n",
      "[1400]\ttraining's rmse: 0.194401\tvalid_0's rmse: 0.915719\n",
      "[1600]\ttraining's rmse: 0.171875\tvalid_0's rmse: 0.917032\n",
      "Early stopping, best iteration is:\n",
      "[687]\ttraining's rmse: 0.343667\tvalid_0's rmse: 0.912517\n",
      "RMSLE_train: 0.34366667665492945, RMSLE_eval: 0.912517488966049\n",
      "Training until validation scores don't improve for 1000 rounds\n",
      "[200]\ttraining's rmse: 0.628904\tvalid_0's rmse: 0.924941\n",
      "[400]\ttraining's rmse: 0.468174\tvalid_0's rmse: 0.913001\n",
      "[600]\ttraining's rmse: 0.36936\tvalid_0's rmse: 0.911681\n",
      "[800]\ttraining's rmse: 0.300335\tvalid_0's rmse: 0.913656\n",
      "[1000]\ttraining's rmse: 0.249286\tvalid_0's rmse: 0.915458\n",
      "[1200]\ttraining's rmse: 0.213224\tvalid_0's rmse: 0.916131\n",
      "[1400]\ttraining's rmse: 0.184855\tvalid_0's rmse: 0.917303\n",
      "[1600]\ttraining's rmse: 0.162095\tvalid_0's rmse: 0.918488\n",
      "Early stopping, best iteration is:\n",
      "[673]\ttraining's rmse: 0.340874\tvalid_0's rmse: 0.911206\n",
      "RMSLE_train: 0.34087400897910386, RMSLE_eval: 0.9112055115809248\n",
      "Training until validation scores don't improve for 1000 rounds\n",
      "[200]\ttraining's rmse: 0.62755\tvalid_0's rmse: 0.938084\n",
      "[400]\ttraining's rmse: 0.468224\tvalid_0's rmse: 0.923619\n",
      "[600]\ttraining's rmse: 0.369264\tvalid_0's rmse: 0.915188\n",
      "[800]\ttraining's rmse: 0.301049\tvalid_0's rmse: 0.915664\n",
      "[1000]\ttraining's rmse: 0.253456\tvalid_0's rmse: 0.914951\n",
      "[1200]\ttraining's rmse: 0.216829\tvalid_0's rmse: 0.915728\n",
      "[1400]\ttraining's rmse: 0.188828\tvalid_0's rmse: 0.917034\n",
      "[1600]\ttraining's rmse: 0.165296\tvalid_0's rmse: 0.918036\n",
      "[1800]\ttraining's rmse: 0.146683\tvalid_0's rmse: 0.918545\n",
      "[2000]\ttraining's rmse: 0.131742\tvalid_0's rmse: 0.919431\n",
      "Early stopping, best iteration is:\n",
      "[1021]\ttraining's rmse: 0.248959\tvalid_0's rmse: 0.914417\n",
      "RMSLE_train: 0.24895939332783656, RMSLE_eval: 0.9144173953108388\n",
      "Training until validation scores don't improve for 1000 rounds\n",
      "[200]\ttraining's rmse: 0.628441\tvalid_0's rmse: 0.92611\n",
      "[400]\ttraining's rmse: 0.466451\tvalid_0's rmse: 0.907077\n",
      "[600]\ttraining's rmse: 0.36765\tvalid_0's rmse: 0.90417\n",
      "[800]\ttraining's rmse: 0.302433\tvalid_0's rmse: 0.904619\n",
      "[1000]\ttraining's rmse: 0.255991\tvalid_0's rmse: 0.904633\n",
      "[1200]\ttraining's rmse: 0.220909\tvalid_0's rmse: 0.904888\n",
      "[1400]\ttraining's rmse: 0.193876\tvalid_0's rmse: 0.904349\n",
      "[1600]\ttraining's rmse: 0.17184\tvalid_0's rmse: 0.904331\n",
      "Early stopping, best iteration is:\n",
      "[695]\ttraining's rmse: 0.334411\tvalid_0's rmse: 0.903287\n",
      "RMSLE_train: 0.3344111820132669, RMSLE_eval: 0.9032869465099085\n",
      "RMSLE_train_mean: 0.3410472421289804, RMSLE_eval_mean: 0.9020169588408662\n"
     ]
    }
   ],
   "source": [
    "\n",
    "\n",
    "# kfoldの分割数\n",
    "k = 5\n",
    "kf = KFold(n_splits=k, shuffle=True, random_state=0)\n",
    "# kf = GroupKFold(n_splits=k)\n",
    "\n",
    "lgbm_params = {'objective': 'regression',\n",
    "              \"metric\":\"rmse\",\n",
    "              \"learning_rate\": 0.05,\n",
    "               'colsample_bytree': 0.8}\n",
    "\n",
    "rmsle_train_list = []\n",
    "rmsle_eval_list = []\n",
    "\n",
    "pred_test_np = np.zeros([k, len(test_df)])\n",
    "oof_pred = np.zeros_like(y, dtype=np.float)\n",
    "\n",
    "# kfoldで分割\n",
    "for i, (train_index, test_index) in enumerate(kf.split(X, y)):\n",
    "\n",
    "    X_train = X.iloc[train_index]\n",
    "    y_train = y.iloc[train_index]\n",
    "    X_test = X.iloc[test_index]\n",
    "    y_test = y.iloc[test_index]\n",
    "    y_train = np.log1p(y_train)\n",
    "    y_test = np.log1p(y_test)\n",
    "\n",
    "    # データセットを生成する\n",
    "    lgb_train = lgb.Dataset(X_train, y_train)\n",
    "    lgb_eval = lgb.Dataset(X_test, y_test)\n",
    "\n",
    "    # 学習\n",
    "    model = lgb.train(lgbm_params,\n",
    "                        lgb_train,\n",
    "                        valid_sets=[lgb_eval, lgb_train],\n",
    "                        num_boost_round=10000,\n",
    "                        early_stopping_rounds=1000,\n",
    "                        verbose_eval=200)\n",
    "\n",
    "    predict_train = model.predict(X_train, num_iteration=model.best_iteration)\n",
    "    predict_eval = model.predict(X_test, num_iteration=model.best_iteration)\n",
    "    oof_pred[test_index] = predict_eval\n",
    "    \n",
    "    rmsle_train = np.sqrt(mean_squared_error(y_train, predict_train))\n",
    "    rmsle_eval = np.sqrt(mean_squared_error(y_test, predict_eval))\n",
    "    print(f'RMSLE_train: {rmsle_train}, RMSLE_eval: {rmsle_eval}')\n",
    "    rmsle_train_list.append(rmsle_train)\n",
    "    rmsle_eval_list.append(rmsle_eval)\n",
    "    \n",
    "    pred_test_np[i] = model.predict(test_df, num_iteration=model.best_iteration)\n",
    "    \n",
    "print(f'RMSLE_train_mean: {np.mean(rmsle_train_list)}, RMSLE_eval_mean: {np.mean(rmsle_eval_list)}')\n",
    "\n",
    "    # predict_probaが0.5以上なら1とする\n",
    "#     predict = [0 if i < 0.5 else 1 for i in predict_proba]\n",
    "\n",
    "#     auc, precision, recall = get_evaluate(y_test, predict)\n",
    "\n",
    "#     print('AUC:{}, precision:{}, recall:{}'.format(auc, precision, recall))\n",
    "\n",
    "#     auc_list.append(auc)\n",
    "#     precision_list.append(precision)\n",
    "#     recall_list.append(recall)\n",
    "\n",
    "# # kfoldの平均値を取得\n",
    "# print('Kfold平均 AUC:{}, precision:{}, recall:{}'.format(np.mean(auc_list), \n",
    "#                                                          np.mean(precision_list), \n",
    "#                                                          np.mean(recall_list)))"
   ]
  },
  {
   "cell_type": "code",
   "execution_count": 26,
   "metadata": {},
   "outputs": [
    {
     "name": "stdout",
     "output_type": "stream",
     "text": [
      "0.9021789960785249\n"
     ]
    }
   ],
   "source": [
    "print(np.sqrt(mean_squared_error(np.log1p(y), oof_pred)))"
   ]
  },
  {
   "cell_type": "code",
   "execution_count": 27,
   "metadata": {},
   "outputs": [],
   "source": [
    "oof_df = pd.DataFrame(oof_pred, columns=['Global_Sales'])\n",
    "oof_df.to_csv(OUTPUT_DIR + \"oof11.csv\", index = False)"
   ]
  },
  {
   "cell_type": "code",
   "execution_count": 28,
   "metadata": {},
   "outputs": [],
   "source": [
    "pred_test_mean = np.mean(pred_test_np, axis=0)\n",
    "pred_test_exp = np.expm1(pred_test_mean)"
   ]
  },
  {
   "cell_type": "code",
   "execution_count": 29,
   "metadata": {},
   "outputs": [],
   "source": [
    "sub = pd.read_csv(DATA_DIR / 'atmaCup8_sample-submission.csv')\n",
    "sub['Global_Sales'] = pred_test_exp\n",
    "sub.to_csv(OUTPUT_DIR + \"sub11.csv\", index = False)"
   ]
  },
  {
   "cell_type": "code",
   "execution_count": null,
   "metadata": {},
   "outputs": [],
   "source": []
  },
  {
   "cell_type": "code",
   "execution_count": 30,
   "metadata": {},
   "outputs": [],
   "source": [
    "def visualize_importance(models, feat_train_df):\n",
    "    \"\"\"lightGBM の model 配列の feature importance を plot する\n",
    "    CVごとのブレを boxen plot として表現します.\n",
    "\n",
    "    args:\n",
    "        models:\n",
    "            List of lightGBM models\n",
    "        feat_train_df:\n",
    "            学習時に使った DataFrame\n",
    "    \"\"\"\n",
    "    feature_importance_df = pd.DataFrame()\n",
    "    model = models\n",
    "#     for i, model in enumerate(models):\n",
    "    _df = pd.DataFrame()\n",
    "    _df['feature_importance'] = model.feature_importance(importance_type='gain')\n",
    "    _df['column'] = feat_train_df.columns\n",
    "    _df['fold'] = i + 1\n",
    "    feature_importance_df = pd.concat([feature_importance_df, _df], axis=0, ignore_index=True)\n",
    "\n",
    "    order = feature_importance_df.groupby('column')\\\n",
    "        .sum()[['feature_importance']]\\\n",
    "        .sort_values('feature_importance', ascending=False).index[:50]\n",
    "\n",
    "    fig, ax = plt.subplots(figsize=(max(6, len(order) * .4), 7))\n",
    "    sns.boxenplot(data=feature_importance_df, x='column', y='feature_importance', order=order, ax=ax, palette='viridis')\n",
    "    ax.tick_params(axis='x', rotation=90)\n",
    "    ax.grid()\n",
    "    fig.tight_layout()\n",
    "    return fig, ax"
   ]
  },
  {
   "cell_type": "code",
   "execution_count": 31,
   "metadata": {},
   "outputs": [
    {
     "data": {
      "image/png": "[encoded data removed]",
      "text/plain": [
       "<Figure size 1440x504 with 1 Axes>"
      ]
     },
     "metadata": {
      "needs_background": "light"
     },
     "output_type": "display_data"
    }
   ],
   "source": [
    "fig, ax = visualize_importance(model, X)\n"
   ]
  },
  {
   "cell_type": "code",
   "execution_count": 32,
   "metadata": {},
   "outputs": [
    {
     "data": {
      "text/html": [
       "<div>\n",
       "<style scoped>\n",
       "    .dataframe tbody tr th:only-of-type {\n",
       "        vertical-align: middle;\n",
       "    }\n",
       "\n",
       "    .dataframe tbody tr th {\n",
       "        vertical-align: top;\n",
       "    }\n",
       "\n",
       "    .dataframe thead th {\n",
       "        text-align: right;\n",
       "    }\n",
       "</style>\n",
       "<table border=\"1\" class=\"dataframe\">\n",
       "  <thead>\n",
       "    <tr style=\"text-align: right;\">\n",
       "      <th></th>\n",
       "      <th>importance</th>\n",
       "    </tr>\n",
       "  </thead>\n",
       "  <tbody>\n",
       "    <tr>\n",
       "      <th>Name_191</th>\n",
       "      <td>91.232448</td>\n",
       "    </tr>\n",
       "    <tr>\n",
       "      <th>Name_85</th>\n",
       "      <td>110.486851</td>\n",
       "    </tr>\n",
       "    <tr>\n",
       "      <th>Name_172</th>\n",
       "      <td>111.371531</td>\n",
       "    </tr>\n",
       "    <tr>\n",
       "      <th>Name_169</th>\n",
       "      <td>120.278014</td>\n",
       "    </tr>\n",
       "    <tr>\n",
       "      <th>Name_90</th>\n",
       "      <td>123.400453</td>\n",
       "    </tr>\n",
       "    <tr>\n",
       "      <th>...</th>\n",
       "      <td>...</td>\n",
       "    </tr>\n",
       "    <tr>\n",
       "      <th>Critic_Score</th>\n",
       "      <td>3440.039015</td>\n",
       "    </tr>\n",
       "    <tr>\n",
       "      <th>Critic_Count</th>\n",
       "      <td>7437.620066</td>\n",
       "    </tr>\n",
       "    <tr>\n",
       "      <th>Platform</th>\n",
       "      <td>12223.187741</td>\n",
       "    </tr>\n",
       "    <tr>\n",
       "      <th>Year_of_Release</th>\n",
       "      <td>12933.993592</td>\n",
       "    </tr>\n",
       "    <tr>\n",
       "      <th>User_Count</th>\n",
       "      <td>17656.515728</td>\n",
       "    </tr>\n",
       "  </tbody>\n",
       "</table>\n",
       "<p>208 rows × 1 columns</p>\n",
       "</div>"
      ],
      "text/plain": [
       "                   importance\n",
       "Name_191            91.232448\n",
       "Name_85            110.486851\n",
       "Name_172           111.371531\n",
       "Name_169           120.278014\n",
       "Name_90            123.400453\n",
       "...                       ...\n",
       "Critic_Score      3440.039015\n",
       "Critic_Count      7437.620066\n",
       "Platform         12223.187741\n",
       "Year_of_Release  12933.993592\n",
       "User_Count       17656.515728\n",
       "\n",
       "[208 rows x 1 columns]"
      ]
     },
     "execution_count": 32,
     "metadata": {},
     "output_type": "execute_result"
    }
   ],
   "source": [
    "importance = pd.DataFrame(model.feature_importance(importance_type='gain'), index=train_df_drop.columns, columns=['importance'])\n",
    "importance.sort_values(['importance'])"
   ]
  },
  {
   "cell_type": "code",
   "execution_count": 33,
   "metadata": {},
   "outputs": [
    {
     "data": {
      "image/png": "[encoded data removed]",
      "text/plain": [
       "<Figure size 576x576 with 1 Axes>"
      ]
     },
     "metadata": {
      "needs_background": "light"
     },
     "output_type": "display_data"
    }
   ],
   "source": [
    "fig, ax = plt.subplots(figsize=(8, 8))\n",
    "sns.distplot(np.log1p(pred_test_np), label='Test Predict')\n",
    "sns.distplot(np.log1p(oof_pred), label='Out Of Fold')\n",
    "ax.legend()\n",
    "ax.grid()"
   ]
  },
  {
   "cell_type": "code",
   "execution_count": null,
   "metadata": {},
   "outputs": [],
   "source": []
  }
 ],
 "metadata": {
  "kernelspec": {
   "display_name": "Python 3",
   "language": "python",
   "name": "python3"
  },
  "language_info": {
   "codemirror_mode": {
    "name": "ipython",
    "version": 3
   },
   "file_extension": ".py",
   "mimetype": "text/x-python",
   "name": "python",
   "nbconvert_exporter": "python",
   "pygments_lexer": "ipython3",
   "version": "3.6.12"
  }
 },
 "nbformat": 4,
 "nbformat_minor": 4
}
