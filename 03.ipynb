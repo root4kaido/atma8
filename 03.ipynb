{
 "cells": [
  {
   "cell_type": "code",
   "execution_count": 10,
   "metadata": {},
   "outputs": [
    {
     "name": "stdout",
     "output_type": "stream",
     "text": [
      "Defaulting to user installation because normal site-packages is not writeable\n",
      "Collecting category_encoders\n",
      "  Downloading category_encoders-2.2.2-py2.py3-none-any.whl (80 kB)\n",
      "\u001b[K     |████████████████████████████████| 80 kB 9.3 MB/s \n",
      "\u001b[?25hRequirement already satisfied: scipy>=1.0.0 in /home/user/.local/lib/python3.6/site-packages (from category_encoders) (1.5.4)\n",
      "Requirement already satisfied: scikit-learn>=0.20.0 in /usr/local/lib/python3.6/dist-packages (from category_encoders) (0.20.0)\n",
      "Requirement already satisfied: patsy>=0.5.1 in /usr/local/lib/python3.6/dist-packages (from category_encoders) (0.5.1)\n",
      "Requirement already satisfied: numpy>=1.14.0 in /usr/local/lib/python3.6/dist-packages (from category_encoders) (1.17.4)\n",
      "Collecting statsmodels>=0.9.0\n",
      "  Downloading statsmodels-0.12.1-cp36-cp36m-manylinux1_x86_64.whl (9.5 MB)\n",
      "\u001b[K     |████████████████████████████████| 9.5 MB 8.6 MB/s \n",
      "\u001b[?25hRequirement already satisfied: pandas>=0.21.1 in /usr/local/lib/python3.6/dist-packages (from category_encoders) (1.1.1)\n",
      "Requirement already satisfied: six in /usr/local/lib/python3.6/dist-packages (from patsy>=0.5.1->category_encoders) (1.11.0)\n",
      "Requirement already satisfied: python-dateutil>=2.7.3 in /usr/local/lib/python3.6/dist-packages (from pandas>=0.21.1->category_encoders) (2.7.3)\n",
      "Requirement already satisfied: pytz>=2017.2 in /usr/local/lib/python3.6/dist-packages (from pandas>=0.21.1->category_encoders) (2020.1)\n",
      "Installing collected packages: statsmodels, category-encoders\n",
      "Successfully installed category-encoders-2.2.2 statsmodels-0.12.1\n",
      "\u001b[33mWARNING: You are using pip version 20.2.2; however, version 20.3.1 is available.\n",
      "You should consider upgrading via the '/usr/bin/python3 -m pip install --upgrade pip' command.\u001b[0m\n"
     ]
    }
   ],
   "source": [
    "!pip install category_encoders"
   ]
  },
  {
   "cell_type": "code",
   "execution_count": 1,
   "metadata": {},
   "outputs": [],
   "source": [
    "import pandas as pd\n",
    "import pathlib\n",
    "import category_encoders as ce\n",
    "import matplotlib.pyplot as plt\n",
    "import seaborn as sns\n",
    "import numpy as np\n",
    "import pandas as pd\n",
    "\n",
    "from sklearn import metrics\n",
    "from sklearn.model_selection import GroupKFold, KFold\n",
    "\n",
    "import lightgbm as lgb\n",
    "\n",
    "from sklearn.metrics import mean_squared_error, mean_squared_log_error\n"
   ]
  },
  {
   "cell_type": "code",
   "execution_count": 2,
   "metadata": {},
   "outputs": [],
   "source": [
    "DATA_DIR = pathlib.Path('/home/knikaido/work/atma8/data/')\n",
    "OUTPUT_DIR = './sub03/'\n",
    "train_csv_path = DATA_DIR / 'train.csv'\n",
    "test_csv_path = DATA_DIR / 'test.csv'"
   ]
  },
  {
   "cell_type": "code",
   "execution_count": 3,
   "metadata": {},
   "outputs": [],
   "source": [
    "train_df = pd.read_csv(train_csv_path)\n",
    "test_df = pd.read_csv(test_csv_path)"
   ]
  },
  {
   "cell_type": "code",
   "execution_count": 4,
   "metadata": {},
   "outputs": [],
   "source": [
    "train_column = train_df.columns"
   ]
  },
  {
   "cell_type": "code",
   "execution_count": 5,
   "metadata": {},
   "outputs": [],
   "source": [
    "X_column = []\n",
    "for s in train_column:\n",
    "    if not'Sales' in s:\n",
    "        X_column.append(s)"
   ]
  },
  {
   "cell_type": "code",
   "execution_count": 6,
   "metadata": {},
   "outputs": [],
   "source": [
    "train_df_drop = train_df[X_column]"
   ]
  },
  {
   "cell_type": "code",
   "execution_count": 7,
   "metadata": {},
   "outputs": [],
   "source": [
    "# User_Scoreの変換\n",
    "def make_user_score(df):\n",
    "    d = df['User_Score'].copy()\n",
    "    d[d == 'tbd'] = 'nan'\n",
    "    df.loc[:,'User_Score'] = d\n",
    "    \n",
    "    return df"
   ]
  },
  {
   "cell_type": "code",
   "execution_count": 8,
   "metadata": {},
   "outputs": [
    {
     "name": "stderr",
     "output_type": "stream",
     "text": [
      "/usr/local/lib/python3.6/dist-packages/pandas/core/indexing.py:1745: SettingWithCopyWarning: \n",
      "A value is trying to be set on a copy of a slice from a DataFrame.\n",
      "Try using .loc[row_indexer,col_indexer] = value instead\n",
      "\n",
      "See the caveats in the documentation: https://pandas.pydata.org/pandas-docs/stable/user_guide/indexing.html#returning-a-view-versus-a-copy\n",
      "  isetter(ilocs[0], value)\n"
     ]
    }
   ],
   "source": [
    "train_df_drop = make_user_score(train_df_drop)\n",
    "test_df = make_user_score(test_df)"
   ]
  },
  {
   "cell_type": "code",
   "execution_count": 9,
   "metadata": {},
   "outputs": [],
   "source": [
    "# Ratingの変換"
   ]
  },
  {
   "cell_type": "code",
   "execution_count": 10,
   "metadata": {},
   "outputs": [],
   "source": [
    "def encode_label(train, test):\n",
    "    cate_col = ['Rating', 'Platform', 'Genre']\n",
    "    oe = ce.OrdinalEncoder(cols=cate_col, drop_invariant=True, handle_missing='return_nan')\n",
    "    train.loc[:,cate_col] = oe.fit_transform(train[cate_col])\n",
    "    test.loc[:,cate_col] = oe.transform(test[cate_col])\n",
    "    return train, test"
   ]
  },
  {
   "cell_type": "code",
   "execution_count": 11,
   "metadata": {},
   "outputs": [
    {
     "name": "stderr",
     "output_type": "stream",
     "text": [
      "/home/user/.local/lib/python3.6/site-packages/category_encoders/utils.py:21: FutureWarning: is_categorical is deprecated and will be removed in a future version.  Use is_categorical_dtype instead\n",
      "  elif pd.api.types.is_categorical(cols):\n",
      "/usr/local/lib/python3.6/dist-packages/pandas/core/indexing.py:1717: SettingWithCopyWarning: \n",
      "A value is trying to be set on a copy of a slice from a DataFrame.\n",
      "Try using .loc[row_indexer,col_indexer] = value instead\n",
      "\n",
      "See the caveats in the documentation: https://pandas.pydata.org/pandas-docs/stable/user_guide/indexing.html#returning-a-view-versus-a-copy\n",
      "  isetter(loc, v)\n"
     ]
    }
   ],
   "source": [
    "train_df_drop, test_df = encode_label(train_df_drop, test_df)"
   ]
  },
  {
   "cell_type": "code",
   "execution_count": 12,
   "metadata": {},
   "outputs": [
    {
     "name": "stderr",
     "output_type": "stream",
     "text": [
      "/usr/local/lib/python3.6/dist-packages/pandas/core/frame.py:4167: SettingWithCopyWarning: \n",
      "A value is trying to be set on a copy of a slice from a DataFrame\n",
      "\n",
      "See the caveats in the documentation: https://pandas.pydata.org/pandas-docs/stable/user_guide/indexing.html#returning-a-view-versus-a-copy\n",
      "  errors=errors,\n"
     ]
    },
    {
     "data": {
      "text/html": [
       "<div>\n",
       "<style scoped>\n",
       "    .dataframe tbody tr th:only-of-type {\n",
       "        vertical-align: middle;\n",
       "    }\n",
       "\n",
       "    .dataframe tbody tr th {\n",
       "        vertical-align: top;\n",
       "    }\n",
       "\n",
       "    .dataframe thead th {\n",
       "        text-align: right;\n",
       "    }\n",
       "</style>\n",
       "<table border=\"1\" class=\"dataframe\">\n",
       "  <thead>\n",
       "    <tr style=\"text-align: right;\">\n",
       "      <th></th>\n",
       "      <th>Platform</th>\n",
       "      <th>Year_of_Release</th>\n",
       "      <th>Genre</th>\n",
       "      <th>Critic_Score</th>\n",
       "      <th>Critic_Count</th>\n",
       "      <th>User_Score</th>\n",
       "      <th>User_Count</th>\n",
       "      <th>Rating</th>\n",
       "    </tr>\n",
       "  </thead>\n",
       "  <tbody>\n",
       "    <tr>\n",
       "      <th>0</th>\n",
       "      <td>1.0</td>\n",
       "      <td>NaN</td>\n",
       "      <td>1.0</td>\n",
       "      <td>74.0</td>\n",
       "      <td>17.0</td>\n",
       "      <td>7.9</td>\n",
       "      <td>22.0</td>\n",
       "      <td>1.0</td>\n",
       "    </tr>\n",
       "    <tr>\n",
       "      <th>1</th>\n",
       "      <td>1.0</td>\n",
       "      <td>NaN</td>\n",
       "      <td>1.0</td>\n",
       "      <td>78.0</td>\n",
       "      <td>22.0</td>\n",
       "      <td>6.6</td>\n",
       "      <td>28.0</td>\n",
       "      <td>1.0</td>\n",
       "    </tr>\n",
       "    <tr>\n",
       "      <th>2</th>\n",
       "      <td>2.0</td>\n",
       "      <td>NaN</td>\n",
       "      <td>1.0</td>\n",
       "      <td>73.0</td>\n",
       "      <td>5.0</td>\n",
       "      <td>7.4</td>\n",
       "      <td>10.0</td>\n",
       "      <td>1.0</td>\n",
       "    </tr>\n",
       "    <tr>\n",
       "      <th>3</th>\n",
       "      <td>3.0</td>\n",
       "      <td>NaN</td>\n",
       "      <td>1.0</td>\n",
       "      <td>NaN</td>\n",
       "      <td>NaN</td>\n",
       "      <td>NaN</td>\n",
       "      <td>NaN</td>\n",
       "      <td>NaN</td>\n",
       "    </tr>\n",
       "    <tr>\n",
       "      <th>4</th>\n",
       "      <td>1.0</td>\n",
       "      <td>NaN</td>\n",
       "      <td>1.0</td>\n",
       "      <td>76.0</td>\n",
       "      <td>8.0</td>\n",
       "      <td>7.8</td>\n",
       "      <td>13.0</td>\n",
       "      <td>1.0</td>\n",
       "    </tr>\n",
       "    <tr>\n",
       "      <th>...</th>\n",
       "      <td>...</td>\n",
       "      <td>...</td>\n",
       "      <td>...</td>\n",
       "      <td>...</td>\n",
       "      <td>...</td>\n",
       "      <td>...</td>\n",
       "      <td>...</td>\n",
       "      <td>...</td>\n",
       "    </tr>\n",
       "    <tr>\n",
       "      <th>8354</th>\n",
       "      <td>9.0</td>\n",
       "      <td>2016.0</td>\n",
       "      <td>12.0</td>\n",
       "      <td>78.0</td>\n",
       "      <td>57.0</td>\n",
       "      <td>8</td>\n",
       "      <td>569.0</td>\n",
       "      <td>NaN</td>\n",
       "    </tr>\n",
       "    <tr>\n",
       "      <th>8355</th>\n",
       "      <td>9.0</td>\n",
       "      <td>2016.0</td>\n",
       "      <td>12.0</td>\n",
       "      <td>NaN</td>\n",
       "      <td>NaN</td>\n",
       "      <td>NaN</td>\n",
       "      <td>NaN</td>\n",
       "      <td>NaN</td>\n",
       "    </tr>\n",
       "    <tr>\n",
       "      <th>8356</th>\n",
       "      <td>14.0</td>\n",
       "      <td>2017.0</td>\n",
       "      <td>1.0</td>\n",
       "      <td>NaN</td>\n",
       "      <td>NaN</td>\n",
       "      <td>NaN</td>\n",
       "      <td>NaN</td>\n",
       "      <td>NaN</td>\n",
       "    </tr>\n",
       "    <tr>\n",
       "      <th>8357</th>\n",
       "      <td>30.0</td>\n",
       "      <td>2017.0</td>\n",
       "      <td>8.0</td>\n",
       "      <td>NaN</td>\n",
       "      <td>NaN</td>\n",
       "      <td>NaN</td>\n",
       "      <td>NaN</td>\n",
       "      <td>NaN</td>\n",
       "    </tr>\n",
       "    <tr>\n",
       "      <th>8358</th>\n",
       "      <td>14.0</td>\n",
       "      <td>2017.0</td>\n",
       "      <td>8.0</td>\n",
       "      <td>NaN</td>\n",
       "      <td>NaN</td>\n",
       "      <td>NaN</td>\n",
       "      <td>NaN</td>\n",
       "      <td>NaN</td>\n",
       "    </tr>\n",
       "  </tbody>\n",
       "</table>\n",
       "<p>8359 rows × 8 columns</p>\n",
       "</div>"
      ],
      "text/plain": [
       "      Platform  Year_of_Release  Genre  Critic_Score  Critic_Count User_Score  \\\n",
       "0          1.0              NaN    1.0          74.0          17.0        7.9   \n",
       "1          1.0              NaN    1.0          78.0          22.0        6.6   \n",
       "2          2.0              NaN    1.0          73.0           5.0        7.4   \n",
       "3          3.0              NaN    1.0           NaN           NaN        NaN   \n",
       "4          1.0              NaN    1.0          76.0           8.0        7.8   \n",
       "...        ...              ...    ...           ...           ...        ...   \n",
       "8354       9.0           2016.0   12.0          78.0          57.0          8   \n",
       "8355       9.0           2016.0   12.0           NaN           NaN        NaN   \n",
       "8356      14.0           2017.0    1.0           NaN           NaN        NaN   \n",
       "8357      30.0           2017.0    8.0           NaN           NaN        NaN   \n",
       "8358      14.0           2017.0    8.0           NaN           NaN        NaN   \n",
       "\n",
       "      User_Count  Rating  \n",
       "0           22.0     1.0  \n",
       "1           28.0     1.0  \n",
       "2           10.0     1.0  \n",
       "3            NaN     NaN  \n",
       "4           13.0     1.0  \n",
       "...          ...     ...  \n",
       "8354       569.0     NaN  \n",
       "8355         NaN     NaN  \n",
       "8356         NaN     NaN  \n",
       "8357         NaN     NaN  \n",
       "8358         NaN     NaN  \n",
       "\n",
       "[8359 rows x 8 columns]"
      ]
     },
     "execution_count": 12,
     "metadata": {},
     "output_type": "execute_result"
    }
   ],
   "source": [
    "drop_c = ['Name', 'Publisher', 'Developer']\n",
    "train_df_drop.drop(drop_c, axis=1, inplace=True)\n",
    "test_df.drop(drop_c, axis=1, inplace=True)\n",
    "train_df_drop"
   ]
  },
  {
   "cell_type": "code",
   "execution_count": 13,
   "metadata": {},
   "outputs": [],
   "source": [
    "train_df_drop = train_df_drop.astype('float64')\n",
    "test_df = test_df.astype('float64')"
   ]
  },
  {
   "cell_type": "code",
   "execution_count": 14,
   "metadata": {},
   "outputs": [],
   "source": [
    "X = train_df_drop\n",
    "y = train_df['Global_Sales'].astype('float64')\n",
    "groups = train_df['Publisher']"
   ]
  },
  {
   "cell_type": "code",
   "execution_count": null,
   "metadata": {},
   "outputs": [],
   "source": []
  },
  {
   "cell_type": "code",
   "execution_count": 19,
   "metadata": {},
   "outputs": [
    {
     "name": "stdout",
     "output_type": "stream",
     "text": [
      "Training until validation scores don't improve for 1000 rounds\n",
      "[200]\ttraining's rmse: 0.910158\tvalid_0's rmse: 0.995739\n",
      "[400]\ttraining's rmse: 0.856605\tvalid_0's rmse: 0.998272\n",
      "[600]\ttraining's rmse: 0.824075\tvalid_0's rmse: 1.00187\n",
      "[800]\ttraining's rmse: 0.800106\tvalid_0's rmse: 1.00621\n",
      "[1000]\ttraining's rmse: 0.782397\tvalid_0's rmse: 1.00947\n",
      "[1200]\ttraining's rmse: 0.767911\tvalid_0's rmse: 1.01384\n",
      "Early stopping, best iteration is:\n",
      "[205]\ttraining's rmse: 0.908064\tvalid_0's rmse: 0.995685\n",
      "RMSLE_train: 0.9080635028676889, RMSLE_eval: 0.9956848392870129\n",
      "Training until validation scores don't improve for 1000 rounds\n",
      "[200]\ttraining's rmse: 0.908927\tvalid_0's rmse: 1.01649\n",
      "[400]\ttraining's rmse: 0.854531\tvalid_0's rmse: 1.01849\n",
      "[600]\ttraining's rmse: 0.822302\tvalid_0's rmse: 1.02076\n",
      "[800]\ttraining's rmse: 0.798488\tvalid_0's rmse: 1.02318\n",
      "[1000]\ttraining's rmse: 0.780563\tvalid_0's rmse: 1.02916\n",
      "[1200]\ttraining's rmse: 0.767043\tvalid_0's rmse: 1.03227\n",
      "Early stopping, best iteration is:\n",
      "[224]\ttraining's rmse: 0.900429\tvalid_0's rmse: 1.01598\n",
      "RMSLE_train: 0.9004290890328738, RMSLE_eval: 1.0159804576273332\n",
      "Training until validation scores don't improve for 1000 rounds\n",
      "[200]\ttraining's rmse: 0.904028\tvalid_0's rmse: 1.01501\n",
      "[400]\ttraining's rmse: 0.852583\tvalid_0's rmse: 1.01671\n",
      "[600]\ttraining's rmse: 0.820277\tvalid_0's rmse: 1.01976\n",
      "[800]\ttraining's rmse: 0.794807\tvalid_0's rmse: 1.02288\n",
      "[1000]\ttraining's rmse: 0.774794\tvalid_0's rmse: 1.02467\n",
      "[1200]\ttraining's rmse: 0.759674\tvalid_0's rmse: 1.02861\n",
      "Early stopping, best iteration is:\n",
      "[274]\ttraining's rmse: 0.881197\tvalid_0's rmse: 1.0142\n",
      "RMSLE_train: 0.8811967525365585, RMSLE_eval: 1.0141989766941006\n",
      "Training until validation scores don't improve for 1000 rounds\n",
      "[200]\ttraining's rmse: 0.908647\tvalid_0's rmse: 1.0243\n",
      "[400]\ttraining's rmse: 0.854564\tvalid_0's rmse: 1.01954\n",
      "[600]\ttraining's rmse: 0.823648\tvalid_0's rmse: 1.01969\n",
      "[800]\ttraining's rmse: 0.802237\tvalid_0's rmse: 1.02138\n",
      "[1000]\ttraining's rmse: 0.783989\tvalid_0's rmse: 1.0253\n",
      "[1200]\ttraining's rmse: 0.768109\tvalid_0's rmse: 1.02949\n",
      "[1400]\ttraining's rmse: 0.756852\tvalid_0's rmse: 1.03164\n",
      "Early stopping, best iteration is:\n",
      "[451]\ttraining's rmse: 0.844826\tvalid_0's rmse: 1.0188\n",
      "RMSLE_train: 0.8448261976840312, RMSLE_eval: 1.0188024043740487\n",
      "Training until validation scores don't improve for 1000 rounds\n",
      "[200]\ttraining's rmse: 0.905331\tvalid_0's rmse: 1.02676\n",
      "[400]\ttraining's rmse: 0.851105\tvalid_0's rmse: 1.02714\n",
      "[600]\ttraining's rmse: 0.817746\tvalid_0's rmse: 1.02909\n",
      "[800]\ttraining's rmse: 0.793533\tvalid_0's rmse: 1.0314\n",
      "[1000]\ttraining's rmse: 0.776395\tvalid_0's rmse: 1.0348\n",
      "[1200]\ttraining's rmse: 0.761524\tvalid_0's rmse: 1.03926\n",
      "Early stopping, best iteration is:\n",
      "[284]\ttraining's rmse: 0.878768\tvalid_0's rmse: 1.0262\n",
      "RMSLE_train: 0.8787675157230983, RMSLE_eval: 1.0262042549102004\n",
      "RMSLE_train_mean: 0.88265661156885, RMSLE_eval_mean: 1.0141741865785392\n"
     ]
    }
   ],
   "source": [
    "\n",
    "unique_publisher = train_df['Publisher'].unique()\n",
    "# kfoldの分割数\n",
    "k = 5\n",
    "kf = KFold(n_splits=k, shuffle=True, random_state=0)\n",
    "# kf = GroupKFold(n_splits=k)\n",
    "\n",
    "lgbm_params = {'objective': 'regression',\n",
    "              \"metric\":\"rmse\",\n",
    "              \"learning_rate\": 0.05,\n",
    "               'colsample_bytree': 0.8}\n",
    "\n",
    "rmsle_train_list = []\n",
    "rmsle_eval_list = []\n",
    "\n",
    "pred_test_np = np.zeros([k, len(test_df)])\n",
    "oof_pred = np.zeros_like(y, dtype=np.float)\n",
    "\n",
    "# kfoldで分割\n",
    "for i, (train_index, test_index) in enumerate(kf.split(X, y)):\n",
    "\n",
    "    X_train = X.iloc[train_index]\n",
    "    y_train = y.iloc[train_index]\n",
    "    X_test = X.iloc[test_index]\n",
    "    y_test = y.iloc[test_index]\n",
    "    y_train = np.log1p(y_train)\n",
    "    y_test = np.log1p(y_test)\n",
    "\n",
    "    # データセットを生成する\n",
    "    lgb_train = lgb.Dataset(X_train, y_train)\n",
    "    lgb_eval = lgb.Dataset(X_test, y_test)\n",
    "\n",
    "    # 学習\n",
    "    model = lgb.train(lgbm_params,\n",
    "                        lgb_train,\n",
    "                        valid_sets=[lgb_eval, lgb_train],\n",
    "                        num_boost_round=10000,\n",
    "                        early_stopping_rounds=1000,\n",
    "                        verbose_eval=200)\n",
    "\n",
    "    predict_train = model.predict(X_train, num_iteration=model.best_iteration)\n",
    "    predict_eval = model.predict(X_test, num_iteration=model.best_iteration)\n",
    "    oof_pred[test_index] = predict_eval\n",
    "    \n",
    "    rmsle_train = np.sqrt(mean_squared_error(y_train, predict_train))\n",
    "    rmsle_eval = np.sqrt(mean_squared_error(y_test, predict_eval))\n",
    "    print(f'RMSLE_train: {rmsle_train}, RMSLE_eval: {rmsle_eval}')\n",
    "    rmsle_train_list.append(rmsle_train)\n",
    "    rmsle_eval_list.append(rmsle_eval)\n",
    "    \n",
    "    pred_test_np[i] = model.predict(test_df, num_iteration=model.best_iteration)\n",
    "    \n",
    "print(f'RMSLE_train_mean: {np.mean(rmsle_train_list)}, RMSLE_eval_mean: {np.mean(rmsle_eval_list)}')\n",
    "\n",
    "    # predict_probaが0.5以上なら1とする\n",
    "#     predict = [0 if i < 0.5 else 1 for i in predict_proba]\n",
    "\n",
    "#     auc, precision, recall = get_evaluate(y_test, predict)\n",
    "\n",
    "#     print('AUC:{}, precision:{}, recall:{}'.format(auc, precision, recall))\n",
    "\n",
    "#     auc_list.append(auc)\n",
    "#     precision_list.append(precision)\n",
    "#     recall_list.append(recall)\n",
    "\n",
    "# # kfoldの平均値を取得\n",
    "# print('Kfold平均 AUC:{}, precision:{}, recall:{}'.format(np.mean(auc_list), \n",
    "#                                                          np.mean(precision_list), \n",
    "#                                                          np.mean(recall_list)))"
   ]
  },
  {
   "cell_type": "code",
   "execution_count": 20,
   "metadata": {},
   "outputs": [
    {
     "name": "stdout",
     "output_type": "stream",
     "text": [
      "1.0142231553851953\n"
     ]
    }
   ],
   "source": [
    "print(np.sqrt(mean_squared_error(np.log1p(y), oof_pred)))"
   ]
  },
  {
   "cell_type": "code",
   "execution_count": 17,
   "metadata": {},
   "outputs": [],
   "source": [
    "oof_df = pd.DataFrame(oof_pred, columns=['Global_Sales'])\n",
    "oof_df.to_csv(OUTPUT_DIR + \"oof03.csv\", index = False)"
   ]
  },
  {
   "cell_type": "code",
   "execution_count": 18,
   "metadata": {},
   "outputs": [],
   "source": [
    "pred_test_mean = np.mean(pred_test_np, axis=0)\n",
    "pred_test_exp = np.expm1(pred_test_mean)"
   ]
  },
  {
   "cell_type": "code",
   "execution_count": 19,
   "metadata": {},
   "outputs": [],
   "source": [
    "sub = pd.read_csv(DATA_DIR / 'atmaCup8_sample-submission.csv')\n",
    "sub['Global_Sales'] = pred_test_exp\n",
    "sub.to_csv(OUTPUT_DIR + \"sub03.csv\", index = False)"
   ]
  },
  {
   "cell_type": "code",
   "execution_count": null,
   "metadata": {},
   "outputs": [],
   "source": []
  },
  {
   "cell_type": "code",
   "execution_count": 20,
   "metadata": {},
   "outputs": [],
   "source": [
    "def visualize_importance(models, feat_train_df):\n",
    "    \"\"\"lightGBM の model 配列の feature importance を plot する\n",
    "    CVごとのブレを boxen plot として表現します.\n",
    "\n",
    "    args:\n",
    "        models:\n",
    "            List of lightGBM models\n",
    "        feat_train_df:\n",
    "            学習時に使った DataFrame\n",
    "    \"\"\"\n",
    "    feature_importance_df = pd.DataFrame()\n",
    "    model = models\n",
    "#     for i, model in enumerate(models):\n",
    "    _df = pd.DataFrame()\n",
    "    _df['feature_importance'] = model.feature_importance(importance_type='gain')\n",
    "    _df['column'] = feat_train_df.columns\n",
    "    _df['fold'] = i + 1\n",
    "    feature_importance_df = pd.concat([feature_importance_df, _df], axis=0, ignore_index=True)\n",
    "\n",
    "    order = feature_importance_df.groupby('column')\\\n",
    "        .sum()[['feature_importance']]\\\n",
    "        .sort_values('feature_importance', ascending=False).index[:50]\n",
    "\n",
    "    fig, ax = plt.subplots(figsize=(max(6, len(order) * .4), 7))\n",
    "    sns.boxenplot(data=feature_importance_df, x='column', y='feature_importance', order=order, ax=ax, palette='viridis')\n",
    "    ax.tick_params(axis='x', rotation=90)\n",
    "    ax.grid()\n",
    "    fig.tight_layout()\n",
    "    return fig, ax"
   ]
  },
  {
   "cell_type": "code",
   "execution_count": 21,
   "metadata": {},
   "outputs": [
    {
     "data": {
      "image/png": "[encoded data removed]",
      "text/plain": [
       "<Figure size 432x504 with 1 Axes>"
      ]
     },
     "metadata": {
      "needs_background": "light"
     },
     "output_type": "display_data"
    }
   ],
   "source": [
    "fig, ax = visualize_importance(model, X)\n"
   ]
  },
  {
   "cell_type": "code",
   "execution_count": 22,
   "metadata": {},
   "outputs": [
    {
     "data": {
      "text/html": [
       "<div>\n",
       "<style scoped>\n",
       "    .dataframe tbody tr th:only-of-type {\n",
       "        vertical-align: middle;\n",
       "    }\n",
       "\n",
       "    .dataframe tbody tr th {\n",
       "        vertical-align: top;\n",
       "    }\n",
       "\n",
       "    .dataframe thead th {\n",
       "        text-align: right;\n",
       "    }\n",
       "</style>\n",
       "<table border=\"1\" class=\"dataframe\">\n",
       "  <thead>\n",
       "    <tr style=\"text-align: right;\">\n",
       "      <th></th>\n",
       "      <th>importance</th>\n",
       "    </tr>\n",
       "  </thead>\n",
       "  <tbody>\n",
       "    <tr>\n",
       "      <th>Rating</th>\n",
       "      <td>3867.059397</td>\n",
       "    </tr>\n",
       "    <tr>\n",
       "      <th>User_Score</th>\n",
       "      <td>4067.126756</td>\n",
       "    </tr>\n",
       "    <tr>\n",
       "      <th>Critic_Score</th>\n",
       "      <td>5925.953524</td>\n",
       "    </tr>\n",
       "    <tr>\n",
       "      <th>Genre</th>\n",
       "      <td>6671.714351</td>\n",
       "    </tr>\n",
       "    <tr>\n",
       "      <th>Critic_Count</th>\n",
       "      <td>10195.959010</td>\n",
       "    </tr>\n",
       "    <tr>\n",
       "      <th>Year_of_Release</th>\n",
       "      <td>13656.090352</td>\n",
       "    </tr>\n",
       "    <tr>\n",
       "      <th>Platform</th>\n",
       "      <td>17673.861843</td>\n",
       "    </tr>\n",
       "    <tr>\n",
       "      <th>User_Count</th>\n",
       "      <td>17940.815982</td>\n",
       "    </tr>\n",
       "  </tbody>\n",
       "</table>\n",
       "</div>"
      ],
      "text/plain": [
       "                   importance\n",
       "Rating            3867.059397\n",
       "User_Score        4067.126756\n",
       "Critic_Score      5925.953524\n",
       "Genre             6671.714351\n",
       "Critic_Count     10195.959010\n",
       "Year_of_Release  13656.090352\n",
       "Platform         17673.861843\n",
       "User_Count       17940.815982"
      ]
     },
     "execution_count": 22,
     "metadata": {},
     "output_type": "execute_result"
    }
   ],
   "source": [
    "importance = pd.DataFrame(model.feature_importance(importance_type='gain'), index=train_df_drop.columns, columns=['importance'])\n",
    "importance.sort_values(['importance'])"
   ]
  },
  {
   "cell_type": "code",
   "execution_count": null,
   "metadata": {},
   "outputs": [],
   "source": []
  },
  {
   "cell_type": "code",
   "execution_count": null,
   "metadata": {},
   "outputs": [],
   "source": []
  }
 ],
 "metadata": {
  "kernelspec": {
   "display_name": "Python 3",
   "language": "python",
   "name": "python3"
  },
  "language_info": {
   "codemirror_mode": {
    "name": "ipython",
    "version": 3
   },
   "file_extension": ".py",
   "mimetype": "text/x-python",
   "name": "python",
   "nbconvert_exporter": "python",
   "pygments_lexer": "ipython3",
   "version": "3.6.12"
  }
 },
 "nbformat": 4,
 "nbformat_minor": 4
}
